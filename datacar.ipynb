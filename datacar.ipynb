{
  "nbformat": 4,
  "nbformat_minor": 0,
  "metadata": {
    "colab": {
      "provenance": [],
      "authorship_tag": "ABX9TyNj1CMO3s78J6XtPyKN0INL",
      "include_colab_link": true
    },
    "kernelspec": {
      "name": "python3",
      "display_name": "Python 3"
    },
    "language_info": {
      "name": "python"
    }
  },
  "cells": [
    {
      "cell_type": "markdown",
      "metadata": {
        "id": "view-in-github",
        "colab_type": "text"
      },
      "source": [
        "<a href=\"https://colab.research.google.com/github/SupidchayaTangkidwanich/-prj/blob/main/datacar.ipynb\" target=\"_parent\"><img src=\"https://colab.research.google.com/assets/colab-badge.svg\" alt=\"Open In Colab\"/></a>"
      ]
    },
    {
      "cell_type": "code",
      "execution_count": 1,
      "metadata": {
        "id": "oWzWlhOooVJi"
      },
      "outputs": [],
      "source": [
        "import pandas as pd"
      ]
    },
    {
      "cell_type": "code",
      "source": [
        "from google.colab import drive #เชื่อมเข้ากับ Drive \n",
        "drive.mount('/content/drive')  # คลิกที่ลิงก์ -> เลือก E-mail -> ลงชื่อเข้าใช้ -> ก็อปโค้ด -> นำกลับมาวางในช่องว่าง -> กด enter"
      ],
      "metadata": {
        "colab": {
          "base_uri": "https://localhost:8080/"
        },
        "id": "7E7pr7BRobLp",
        "outputId": "2d4d97fb-eec3-4dde-fc59-4cd689652656"
      },
      "execution_count": 2,
      "outputs": [
        {
          "output_type": "stream",
          "name": "stdout",
          "text": [
            "Mounted at /content/drive\n"
          ]
        }
      ]
    },
    {
      "cell_type": "code",
      "source": [
        "ls #คำสั่ง ls ดูว่าเชื่อมในไดร์ฟหรือยัง"
      ],
      "metadata": {
        "colab": {
          "base_uri": "https://localhost:8080/"
        },
        "id": "4v6mp058obOA",
        "outputId": "e9091462-a3d9-4764-d95c-48ae3f46b754"
      },
      "execution_count": 3,
      "outputs": [
        {
          "output_type": "stream",
          "name": "stdout",
          "text": [
            "\u001b[0m\u001b[01;34mdrive\u001b[0m/  \u001b[01;34msample_data\u001b[0m/\n"
          ]
        }
      ]
    },
    {
      "cell_type": "code",
      "source": [
        "import os # os เอาไว้จัดการไฟล์และ path"
      ],
      "metadata": {
        "id": "mQAyii-WobQY"
      },
      "execution_count": 4,
      "outputs": []
    },
    {
      "cell_type": "code",
      "source": [
        "path = '/content/drive/My Drive/Data_Car' "
      ],
      "metadata": {
        "id": "6k_nK1YJofQO"
      },
      "execution_count": 5,
      "outputs": []
    },
    {
      "cell_type": "code",
      "source": [
        "car003  = pd.read_csv(os.path.join(path,'car003.csv')) \n",
        "car003"
      ],
      "metadata": {
        "colab": {
          "base_uri": "https://localhost:8080/",
          "height": 423
        },
        "id": "qdFAZt7Holzn",
        "outputId": "1563c540-b8ea-4e81-c20c-3ab87cea737e"
      },
      "execution_count": 6,
      "outputs": [
        {
          "output_type": "execute_result",
          "data": {
            "text/plain": [
              "     Unnamed: 0                                          Path_Name      ID  \\\n",
              "0             0  /content/drive/My Drive/unsup-car-dataset/frei...  car003   \n",
              "1             1  /content/drive/My Drive/unsup-car-dataset/frei...  car003   \n",
              "2             2  /content/drive/My Drive/unsup-car-dataset/frei...  car003   \n",
              "3             3  /content/drive/My Drive/unsup-car-dataset/frei...  car003   \n",
              "4             4  /content/drive/My Drive/unsup-car-dataset/frei...  car003   \n",
              "..          ...                                                ...     ...   \n",
              "119         119  /content/drive/My Drive/unsup-car-dataset/frei...  car003   \n",
              "120         120  /content/drive/My Drive/unsup-car-dataset/frei...  car003   \n",
              "121         121  /content/drive/My Drive/unsup-car-dataset/frei...  car003   \n",
              "122         122  /content/drive/My Drive/unsup-car-dataset/frei...  car003   \n",
              "123         123  /content/drive/My Drive/unsup-car-dataset/frei...  car003   \n",
              "\n",
              "              Name  Angle         P  \n",
              "0    left-0001.ppm    270  p13, p14  \n",
              "1    left-0029.ppm    273  p13, p14  \n",
              "2    left-0057.ppm    278  p13, p14  \n",
              "3    left-0085.ppm    285  p13, p14  \n",
              "4    left-0113.ppm    292       p12  \n",
              "..             ...    ...       ...  \n",
              "119  left-3333.ppm    308       p12  \n",
              "120  left-3361.ppm    309       p12  \n",
              "121  left-3389.ppm    309       p12  \n",
              "122  left-3417.ppm    311       p10  \n",
              "123  left-3445.ppm    313       p10  \n",
              "\n",
              "[124 rows x 6 columns]"
            ],
            "text/html": [
              "\n",
              "  <div id=\"df-f4a87205-af73-4132-a7fb-f0e45f93e271\">\n",
              "    <div class=\"colab-df-container\">\n",
              "      <div>\n",
              "<style scoped>\n",
              "    .dataframe tbody tr th:only-of-type {\n",
              "        vertical-align: middle;\n",
              "    }\n",
              "\n",
              "    .dataframe tbody tr th {\n",
              "        vertical-align: top;\n",
              "    }\n",
              "\n",
              "    .dataframe thead th {\n",
              "        text-align: right;\n",
              "    }\n",
              "</style>\n",
              "<table border=\"1\" class=\"dataframe\">\n",
              "  <thead>\n",
              "    <tr style=\"text-align: right;\">\n",
              "      <th></th>\n",
              "      <th>Unnamed: 0</th>\n",
              "      <th>Path_Name</th>\n",
              "      <th>ID</th>\n",
              "      <th>Name</th>\n",
              "      <th>Angle</th>\n",
              "      <th>P</th>\n",
              "    </tr>\n",
              "  </thead>\n",
              "  <tbody>\n",
              "    <tr>\n",
              "      <th>0</th>\n",
              "      <td>0</td>\n",
              "      <td>/content/drive/My Drive/unsup-car-dataset/frei...</td>\n",
              "      <td>car003</td>\n",
              "      <td>left-0001.ppm</td>\n",
              "      <td>270</td>\n",
              "      <td>p13, p14</td>\n",
              "    </tr>\n",
              "    <tr>\n",
              "      <th>1</th>\n",
              "      <td>1</td>\n",
              "      <td>/content/drive/My Drive/unsup-car-dataset/frei...</td>\n",
              "      <td>car003</td>\n",
              "      <td>left-0029.ppm</td>\n",
              "      <td>273</td>\n",
              "      <td>p13, p14</td>\n",
              "    </tr>\n",
              "    <tr>\n",
              "      <th>2</th>\n",
              "      <td>2</td>\n",
              "      <td>/content/drive/My Drive/unsup-car-dataset/frei...</td>\n",
              "      <td>car003</td>\n",
              "      <td>left-0057.ppm</td>\n",
              "      <td>278</td>\n",
              "      <td>p13, p14</td>\n",
              "    </tr>\n",
              "    <tr>\n",
              "      <th>3</th>\n",
              "      <td>3</td>\n",
              "      <td>/content/drive/My Drive/unsup-car-dataset/frei...</td>\n",
              "      <td>car003</td>\n",
              "      <td>left-0085.ppm</td>\n",
              "      <td>285</td>\n",
              "      <td>p13, p14</td>\n",
              "    </tr>\n",
              "    <tr>\n",
              "      <th>4</th>\n",
              "      <td>4</td>\n",
              "      <td>/content/drive/My Drive/unsup-car-dataset/frei...</td>\n",
              "      <td>car003</td>\n",
              "      <td>left-0113.ppm</td>\n",
              "      <td>292</td>\n",
              "      <td>p12</td>\n",
              "    </tr>\n",
              "    <tr>\n",
              "      <th>...</th>\n",
              "      <td>...</td>\n",
              "      <td>...</td>\n",
              "      <td>...</td>\n",
              "      <td>...</td>\n",
              "      <td>...</td>\n",
              "      <td>...</td>\n",
              "    </tr>\n",
              "    <tr>\n",
              "      <th>119</th>\n",
              "      <td>119</td>\n",
              "      <td>/content/drive/My Drive/unsup-car-dataset/frei...</td>\n",
              "      <td>car003</td>\n",
              "      <td>left-3333.ppm</td>\n",
              "      <td>308</td>\n",
              "      <td>p12</td>\n",
              "    </tr>\n",
              "    <tr>\n",
              "      <th>120</th>\n",
              "      <td>120</td>\n",
              "      <td>/content/drive/My Drive/unsup-car-dataset/frei...</td>\n",
              "      <td>car003</td>\n",
              "      <td>left-3361.ppm</td>\n",
              "      <td>309</td>\n",
              "      <td>p12</td>\n",
              "    </tr>\n",
              "    <tr>\n",
              "      <th>121</th>\n",
              "      <td>121</td>\n",
              "      <td>/content/drive/My Drive/unsup-car-dataset/frei...</td>\n",
              "      <td>car003</td>\n",
              "      <td>left-3389.ppm</td>\n",
              "      <td>309</td>\n",
              "      <td>p12</td>\n",
              "    </tr>\n",
              "    <tr>\n",
              "      <th>122</th>\n",
              "      <td>122</td>\n",
              "      <td>/content/drive/My Drive/unsup-car-dataset/frei...</td>\n",
              "      <td>car003</td>\n",
              "      <td>left-3417.ppm</td>\n",
              "      <td>311</td>\n",
              "      <td>p10</td>\n",
              "    </tr>\n",
              "    <tr>\n",
              "      <th>123</th>\n",
              "      <td>123</td>\n",
              "      <td>/content/drive/My Drive/unsup-car-dataset/frei...</td>\n",
              "      <td>car003</td>\n",
              "      <td>left-3445.ppm</td>\n",
              "      <td>313</td>\n",
              "      <td>p10</td>\n",
              "    </tr>\n",
              "  </tbody>\n",
              "</table>\n",
              "<p>124 rows × 6 columns</p>\n",
              "</div>\n",
              "      <button class=\"colab-df-convert\" onclick=\"convertToInteractive('df-f4a87205-af73-4132-a7fb-f0e45f93e271')\"\n",
              "              title=\"Convert this dataframe to an interactive table.\"\n",
              "              style=\"display:none;\">\n",
              "        \n",
              "  <svg xmlns=\"http://www.w3.org/2000/svg\" height=\"24px\"viewBox=\"0 0 24 24\"\n",
              "       width=\"24px\">\n",
              "    <path d=\"M0 0h24v24H0V0z\" fill=\"none\"/>\n",
              "    <path d=\"M18.56 5.44l.94 2.06.94-2.06 2.06-.94-2.06-.94-.94-2.06-.94 2.06-2.06.94zm-11 1L8.5 8.5l.94-2.06 2.06-.94-2.06-.94L8.5 2.5l-.94 2.06-2.06.94zm10 10l.94 2.06.94-2.06 2.06-.94-2.06-.94-.94-2.06-.94 2.06-2.06.94z\"/><path d=\"M17.41 7.96l-1.37-1.37c-.4-.4-.92-.59-1.43-.59-.52 0-1.04.2-1.43.59L10.3 9.45l-7.72 7.72c-.78.78-.78 2.05 0 2.83L4 21.41c.39.39.9.59 1.41.59.51 0 1.02-.2 1.41-.59l7.78-7.78 2.81-2.81c.8-.78.8-2.07 0-2.86zM5.41 20L4 18.59l7.72-7.72 1.47 1.35L5.41 20z\"/>\n",
              "  </svg>\n",
              "      </button>\n",
              "      \n",
              "  <style>\n",
              "    .colab-df-container {\n",
              "      display:flex;\n",
              "      flex-wrap:wrap;\n",
              "      gap: 12px;\n",
              "    }\n",
              "\n",
              "    .colab-df-convert {\n",
              "      background-color: #E8F0FE;\n",
              "      border: none;\n",
              "      border-radius: 50%;\n",
              "      cursor: pointer;\n",
              "      display: none;\n",
              "      fill: #1967D2;\n",
              "      height: 32px;\n",
              "      padding: 0 0 0 0;\n",
              "      width: 32px;\n",
              "    }\n",
              "\n",
              "    .colab-df-convert:hover {\n",
              "      background-color: #E2EBFA;\n",
              "      box-shadow: 0px 1px 2px rgba(60, 64, 67, 0.3), 0px 1px 3px 1px rgba(60, 64, 67, 0.15);\n",
              "      fill: #174EA6;\n",
              "    }\n",
              "\n",
              "    [theme=dark] .colab-df-convert {\n",
              "      background-color: #3B4455;\n",
              "      fill: #D2E3FC;\n",
              "    }\n",
              "\n",
              "    [theme=dark] .colab-df-convert:hover {\n",
              "      background-color: #434B5C;\n",
              "      box-shadow: 0px 1px 3px 1px rgba(0, 0, 0, 0.15);\n",
              "      filter: drop-shadow(0px 1px 2px rgba(0, 0, 0, 0.3));\n",
              "      fill: #FFFFFF;\n",
              "    }\n",
              "  </style>\n",
              "\n",
              "      <script>\n",
              "        const buttonEl =\n",
              "          document.querySelector('#df-f4a87205-af73-4132-a7fb-f0e45f93e271 button.colab-df-convert');\n",
              "        buttonEl.style.display =\n",
              "          google.colab.kernel.accessAllowed ? 'block' : 'none';\n",
              "\n",
              "        async function convertToInteractive(key) {\n",
              "          const element = document.querySelector('#df-f4a87205-af73-4132-a7fb-f0e45f93e271');\n",
              "          const dataTable =\n",
              "            await google.colab.kernel.invokeFunction('convertToInteractive',\n",
              "                                                     [key], {});\n",
              "          if (!dataTable) return;\n",
              "\n",
              "          const docLinkHtml = 'Like what you see? Visit the ' +\n",
              "            '<a target=\"_blank\" href=https://colab.research.google.com/notebooks/data_table.ipynb>data table notebook</a>'\n",
              "            + ' to learn more about interactive tables.';\n",
              "          element.innerHTML = '';\n",
              "          dataTable['output_type'] = 'display_data';\n",
              "          await google.colab.output.renderOutput(dataTable, element);\n",
              "          const docLink = document.createElement('div');\n",
              "          docLink.innerHTML = docLinkHtml;\n",
              "          element.appendChild(docLink);\n",
              "        }\n",
              "      </script>\n",
              "    </div>\n",
              "  </div>\n",
              "  "
            ]
          },
          "metadata": {},
          "execution_count": 6
        }
      ]
    },
    {
      "cell_type": "code",
      "source": [
        "base_dir = '/content/drive/My Drive/car003'\n",
        "os.makedirs(base_dir, exist_ok=True)"
      ],
      "metadata": {
        "id": "Z_FNDd1BoxW8"
      },
      "execution_count": 7,
      "outputs": []
    },
    {
      "cell_type": "code",
      "source": [
        "test_1_dir = os.path.join(base_dir, 'car003')\n",
        "os.makedirs(test_1_dir, exist_ok=True)"
      ],
      "metadata": {
        "id": "6ANcI5cqoylS"
      },
      "execution_count": 8,
      "outputs": []
    },
    {
      "cell_type": "code",
      "source": [
        "test = car003[car003['Unnamed: 0'].between(0,123)]"
      ],
      "metadata": {
        "id": "bvT2xNF4q06W"
      },
      "execution_count": 10,
      "outputs": []
    },
    {
      "cell_type": "code",
      "source": [
        "#Path Test\n",
        "T1_test = test[test['ID']=='car003']\n",
        "T1_path_test = T1_test['Path_Name'].tolist()"
      ],
      "metadata": {
        "id": "qFy8zljLq4dM"
      },
      "execution_count": 11,
      "outputs": []
    }
  ]
}