{
  "nbformat": 4,
  "nbformat_minor": 0,
  "metadata": {
    "colab": {
      "provenance": [],
      "toc_visible": true,
      "authorship_tag": "ABX9TyPCtFlC8e0z4SpMuokIZ2yI",
      "include_colab_link": true
    },
    "kernelspec": {
      "name": "python3",
      "display_name": "Python 3"
    },
    "language_info": {
      "name": "python"
    }
  },
  "cells": [
    {
      "cell_type": "markdown",
      "metadata": {
        "id": "view-in-github",
        "colab_type": "text"
      },
      "source": [
        "<a href=\"https://colab.research.google.com/github/SupidchayaTangkidwanich/prj/blob/main/datacar.ipynb\" target=\"_parent\"><img src=\"https://colab.research.google.com/assets/colab-badge.svg\" alt=\"Open In Colab\"/></a>"
      ]
    },
    {
      "cell_type": "code",
      "execution_count": 1,
      "metadata": {
        "id": "oWzWlhOooVJi"
      },
      "outputs": [],
      "source": [
        "import pandas as pd"
      ]
    },
    {
      "cell_type": "code",
      "source": [
        "from google.colab import drive #เชื่อมเข้ากับ Drive \n",
        "drive.mount('/content/drive')  # คลิกที่ลิงก์ -> เลือก E-mail -> ลงชื่อเข้าใช้ -> ก็อปโค้ด -> นำกลับมาวางในช่องว่าง -> กด enter"
      ],
      "metadata": {
        "colab": {
          "base_uri": "https://localhost:8080/"
        },
        "id": "7E7pr7BRobLp",
        "outputId": "765128df-a6ab-4475-86c7-117606c61b1a"
      },
      "execution_count": 2,
      "outputs": [
        {
          "output_type": "stream",
          "name": "stdout",
          "text": [
            "Mounted at /content/drive\n"
          ]
        }
      ]
    },
    {
      "cell_type": "code",
      "source": [
        "ls #คำสั่ง ls ดูว่าเชื่อมในไดร์ฟหรือยัง"
      ],
      "metadata": {
        "colab": {
          "base_uri": "https://localhost:8080/"
        },
        "id": "4v6mp058obOA",
        "outputId": "d4e2867e-51e8-4ed7-c50a-5f9c563c7ae8"
      },
      "execution_count": 3,
      "outputs": [
        {
          "output_type": "stream",
          "name": "stdout",
          "text": [
            "\u001b[0m\u001b[01;34mdrive\u001b[0m/  \u001b[01;34msample_data\u001b[0m/\n"
          ]
        }
      ]
    },
    {
      "cell_type": "code",
      "source": [
        "import os # os เอาไว้จัดการไฟล์และ path"
      ],
      "metadata": {
        "id": "mQAyii-WobQY"
      },
      "execution_count": 4,
      "outputs": []
    },
    {
      "cell_type": "code",
      "source": [
        "path = '/content/drive/My Drive/Data_Car' "
      ],
      "metadata": {
        "id": "6k_nK1YJofQO"
      },
      "execution_count": 34,
      "outputs": []
    },
    {
      "cell_type": "markdown",
      "source": [
        "# สร้างโฟลเดอร์หลัก"
      ],
      "metadata": {
        "id": "e2aKOAVovoGU"
      }
    },
    {
      "cell_type": "code",
      "source": [
        "import shutil"
      ],
      "metadata": {
        "id": "BwKaSKaS2Uz6"
      },
      "execution_count": 27,
      "outputs": []
    },
    {
      "cell_type": "code",
      "source": [
        "base_dir = '/content/drive/My Drive/car'\n",
        "os.makedirs(base_dir, exist_ok=True)"
      ],
      "metadata": {
        "id": "Z_FNDd1BoxW8"
      },
      "execution_count": 28,
      "outputs": []
    },
    {
      "cell_type": "markdown",
      "source": [
        "# แบบมีประตู"
      ],
      "metadata": {
        "id": "MepF-Vv0pRdf"
      }
    },
    {
      "cell_type": "markdown",
      "source": [
        "## car003"
      ],
      "metadata": {
        "id": "Pgeu1PbuwAw7"
      }
    },
    {
      "cell_type": "code",
      "source": [
        "car003  = pd.read_csv(os.path.join(path,'car003.csv')) \n",
        "car003"
      ],
      "metadata": {
        "colab": {
          "base_uri": "https://localhost:8080/",
          "height": 423
        },
        "id": "qdFAZt7Holzn",
        "outputId": "1c4490ba-7489-477a-8d1a-5f8267e61088"
      },
      "execution_count": 97,
      "outputs": [
        {
          "output_type": "execute_result",
          "data": {
            "text/plain": [
              "     Unnamed: 0                                          Path_Name      ID  \\\n",
              "0             0  /content/drive/My Drive/unsup-car-dataset/frei...  car003   \n",
              "1             1  /content/drive/My Drive/unsup-car-dataset/frei...  car003   \n",
              "2             2  /content/drive/My Drive/unsup-car-dataset/frei...  car003   \n",
              "3             3  /content/drive/My Drive/unsup-car-dataset/frei...  car003   \n",
              "4             4  /content/drive/My Drive/unsup-car-dataset/frei...  car003   \n",
              "..          ...                                                ...     ...   \n",
              "119         119  /content/drive/My Drive/unsup-car-dataset/frei...  car003   \n",
              "120         120  /content/drive/My Drive/unsup-car-dataset/frei...  car003   \n",
              "121         121  /content/drive/My Drive/unsup-car-dataset/frei...  car003   \n",
              "122         122  /content/drive/My Drive/unsup-car-dataset/frei...  car003   \n",
              "123         123  /content/drive/My Drive/unsup-car-dataset/frei...  car003   \n",
              "\n",
              "              Name  Angle         P  \n",
              "0    left-0001.ppm    270  p13, p14  \n",
              "1    left-0029.ppm    273  p13, p14  \n",
              "2    left-0057.ppm    278  p13, p14  \n",
              "3    left-0085.ppm    285  p13, p14  \n",
              "4    left-0113.ppm    292       p12  \n",
              "..             ...    ...       ...  \n",
              "119  left-3333.ppm    308       p12  \n",
              "120  left-3361.ppm    309       p12  \n",
              "121  left-3389.ppm    309       p12  \n",
              "122  left-3417.ppm    311       p10  \n",
              "123  left-3445.ppm    313       p10  \n",
              "\n",
              "[124 rows x 6 columns]"
            ],
            "text/html": [
              "\n",
              "  <div id=\"df-e8b408b1-a787-4d01-a04d-74bfb523a85e\">\n",
              "    <div class=\"colab-df-container\">\n",
              "      <div>\n",
              "<style scoped>\n",
              "    .dataframe tbody tr th:only-of-type {\n",
              "        vertical-align: middle;\n",
              "    }\n",
              "\n",
              "    .dataframe tbody tr th {\n",
              "        vertical-align: top;\n",
              "    }\n",
              "\n",
              "    .dataframe thead th {\n",
              "        text-align: right;\n",
              "    }\n",
              "</style>\n",
              "<table border=\"1\" class=\"dataframe\">\n",
              "  <thead>\n",
              "    <tr style=\"text-align: right;\">\n",
              "      <th></th>\n",
              "      <th>Unnamed: 0</th>\n",
              "      <th>Path_Name</th>\n",
              "      <th>ID</th>\n",
              "      <th>Name</th>\n",
              "      <th>Angle</th>\n",
              "      <th>P</th>\n",
              "    </tr>\n",
              "  </thead>\n",
              "  <tbody>\n",
              "    <tr>\n",
              "      <th>0</th>\n",
              "      <td>0</td>\n",
              "      <td>/content/drive/My Drive/unsup-car-dataset/frei...</td>\n",
              "      <td>car003</td>\n",
              "      <td>left-0001.ppm</td>\n",
              "      <td>270</td>\n",
              "      <td>p13, p14</td>\n",
              "    </tr>\n",
              "    <tr>\n",
              "      <th>1</th>\n",
              "      <td>1</td>\n",
              "      <td>/content/drive/My Drive/unsup-car-dataset/frei...</td>\n",
              "      <td>car003</td>\n",
              "      <td>left-0029.ppm</td>\n",
              "      <td>273</td>\n",
              "      <td>p13, p14</td>\n",
              "    </tr>\n",
              "    <tr>\n",
              "      <th>2</th>\n",
              "      <td>2</td>\n",
              "      <td>/content/drive/My Drive/unsup-car-dataset/frei...</td>\n",
              "      <td>car003</td>\n",
              "      <td>left-0057.ppm</td>\n",
              "      <td>278</td>\n",
              "      <td>p13, p14</td>\n",
              "    </tr>\n",
              "    <tr>\n",
              "      <th>3</th>\n",
              "      <td>3</td>\n",
              "      <td>/content/drive/My Drive/unsup-car-dataset/frei...</td>\n",
              "      <td>car003</td>\n",
              "      <td>left-0085.ppm</td>\n",
              "      <td>285</td>\n",
              "      <td>p13, p14</td>\n",
              "    </tr>\n",
              "    <tr>\n",
              "      <th>4</th>\n",
              "      <td>4</td>\n",
              "      <td>/content/drive/My Drive/unsup-car-dataset/frei...</td>\n",
              "      <td>car003</td>\n",
              "      <td>left-0113.ppm</td>\n",
              "      <td>292</td>\n",
              "      <td>p12</td>\n",
              "    </tr>\n",
              "    <tr>\n",
              "      <th>...</th>\n",
              "      <td>...</td>\n",
              "      <td>...</td>\n",
              "      <td>...</td>\n",
              "      <td>...</td>\n",
              "      <td>...</td>\n",
              "      <td>...</td>\n",
              "    </tr>\n",
              "    <tr>\n",
              "      <th>119</th>\n",
              "      <td>119</td>\n",
              "      <td>/content/drive/My Drive/unsup-car-dataset/frei...</td>\n",
              "      <td>car003</td>\n",
              "      <td>left-3333.ppm</td>\n",
              "      <td>308</td>\n",
              "      <td>p12</td>\n",
              "    </tr>\n",
              "    <tr>\n",
              "      <th>120</th>\n",
              "      <td>120</td>\n",
              "      <td>/content/drive/My Drive/unsup-car-dataset/frei...</td>\n",
              "      <td>car003</td>\n",
              "      <td>left-3361.ppm</td>\n",
              "      <td>309</td>\n",
              "      <td>p12</td>\n",
              "    </tr>\n",
              "    <tr>\n",
              "      <th>121</th>\n",
              "      <td>121</td>\n",
              "      <td>/content/drive/My Drive/unsup-car-dataset/frei...</td>\n",
              "      <td>car003</td>\n",
              "      <td>left-3389.ppm</td>\n",
              "      <td>309</td>\n",
              "      <td>p12</td>\n",
              "    </tr>\n",
              "    <tr>\n",
              "      <th>122</th>\n",
              "      <td>122</td>\n",
              "      <td>/content/drive/My Drive/unsup-car-dataset/frei...</td>\n",
              "      <td>car003</td>\n",
              "      <td>left-3417.ppm</td>\n",
              "      <td>311</td>\n",
              "      <td>p10</td>\n",
              "    </tr>\n",
              "    <tr>\n",
              "      <th>123</th>\n",
              "      <td>123</td>\n",
              "      <td>/content/drive/My Drive/unsup-car-dataset/frei...</td>\n",
              "      <td>car003</td>\n",
              "      <td>left-3445.ppm</td>\n",
              "      <td>313</td>\n",
              "      <td>p10</td>\n",
              "    </tr>\n",
              "  </tbody>\n",
              "</table>\n",
              "<p>124 rows × 6 columns</p>\n",
              "</div>\n",
              "      <button class=\"colab-df-convert\" onclick=\"convertToInteractive('df-e8b408b1-a787-4d01-a04d-74bfb523a85e')\"\n",
              "              title=\"Convert this dataframe to an interactive table.\"\n",
              "              style=\"display:none;\">\n",
              "        \n",
              "  <svg xmlns=\"http://www.w3.org/2000/svg\" height=\"24px\"viewBox=\"0 0 24 24\"\n",
              "       width=\"24px\">\n",
              "    <path d=\"M0 0h24v24H0V0z\" fill=\"none\"/>\n",
              "    <path d=\"M18.56 5.44l.94 2.06.94-2.06 2.06-.94-2.06-.94-.94-2.06-.94 2.06-2.06.94zm-11 1L8.5 8.5l.94-2.06 2.06-.94-2.06-.94L8.5 2.5l-.94 2.06-2.06.94zm10 10l.94 2.06.94-2.06 2.06-.94-2.06-.94-.94-2.06-.94 2.06-2.06.94z\"/><path d=\"M17.41 7.96l-1.37-1.37c-.4-.4-.92-.59-1.43-.59-.52 0-1.04.2-1.43.59L10.3 9.45l-7.72 7.72c-.78.78-.78 2.05 0 2.83L4 21.41c.39.39.9.59 1.41.59.51 0 1.02-.2 1.41-.59l7.78-7.78 2.81-2.81c.8-.78.8-2.07 0-2.86zM5.41 20L4 18.59l7.72-7.72 1.47 1.35L5.41 20z\"/>\n",
              "  </svg>\n",
              "      </button>\n",
              "      \n",
              "  <style>\n",
              "    .colab-df-container {\n",
              "      display:flex;\n",
              "      flex-wrap:wrap;\n",
              "      gap: 12px;\n",
              "    }\n",
              "\n",
              "    .colab-df-convert {\n",
              "      background-color: #E8F0FE;\n",
              "      border: none;\n",
              "      border-radius: 50%;\n",
              "      cursor: pointer;\n",
              "      display: none;\n",
              "      fill: #1967D2;\n",
              "      height: 32px;\n",
              "      padding: 0 0 0 0;\n",
              "      width: 32px;\n",
              "    }\n",
              "\n",
              "    .colab-df-convert:hover {\n",
              "      background-color: #E2EBFA;\n",
              "      box-shadow: 0px 1px 2px rgba(60, 64, 67, 0.3), 0px 1px 3px 1px rgba(60, 64, 67, 0.15);\n",
              "      fill: #174EA6;\n",
              "    }\n",
              "\n",
              "    [theme=dark] .colab-df-convert {\n",
              "      background-color: #3B4455;\n",
              "      fill: #D2E3FC;\n",
              "    }\n",
              "\n",
              "    [theme=dark] .colab-df-convert:hover {\n",
              "      background-color: #434B5C;\n",
              "      box-shadow: 0px 1px 3px 1px rgba(0, 0, 0, 0.15);\n",
              "      filter: drop-shadow(0px 1px 2px rgba(0, 0, 0, 0.3));\n",
              "      fill: #FFFFFF;\n",
              "    }\n",
              "  </style>\n",
              "\n",
              "      <script>\n",
              "        const buttonEl =\n",
              "          document.querySelector('#df-e8b408b1-a787-4d01-a04d-74bfb523a85e button.colab-df-convert');\n",
              "        buttonEl.style.display =\n",
              "          google.colab.kernel.accessAllowed ? 'block' : 'none';\n",
              "\n",
              "        async function convertToInteractive(key) {\n",
              "          const element = document.querySelector('#df-e8b408b1-a787-4d01-a04d-74bfb523a85e');\n",
              "          const dataTable =\n",
              "            await google.colab.kernel.invokeFunction('convertToInteractive',\n",
              "                                                     [key], {});\n",
              "          if (!dataTable) return;\n",
              "\n",
              "          const docLinkHtml = 'Like what you see? Visit the ' +\n",
              "            '<a target=\"_blank\" href=https://colab.research.google.com/notebooks/data_table.ipynb>data table notebook</a>'\n",
              "            + ' to learn more about interactive tables.';\n",
              "          element.innerHTML = '';\n",
              "          dataTable['output_type'] = 'display_data';\n",
              "          await google.colab.output.renderOutput(dataTable, element);\n",
              "          const docLink = document.createElement('div');\n",
              "          docLink.innerHTML = docLinkHtml;\n",
              "          element.appendChild(docLink);\n",
              "        }\n",
              "      </script>\n",
              "    </div>\n",
              "  </div>\n",
              "  "
            ]
          },
          "metadata": {},
          "execution_count": 97
        }
      ]
    },
    {
      "cell_type": "code",
      "source": [
        "test_1_dir = os.path.join(base_dir, 'car003')\n",
        "os.makedirs(test_1_dir, exist_ok=True)"
      ],
      "metadata": {
        "id": "6ANcI5cqoylS"
      },
      "execution_count": 29,
      "outputs": []
    },
    {
      "cell_type": "code",
      "source": [
        "for i in range(len(car003)):\n",
        "    part = car003['P'][i]\n",
        "    if  part == 'p08' :\n",
        "        p08 = os.path.join(test_1_dir, 'p08')\n",
        "        os.makedirs(p08, exist_ok=True)\n",
        "        test = car003[car003['Unnamed: 0'].between(0,123)]\n",
        "        T1_test = test[test['P']== part]\n",
        "        T1_path_test = T1_test['Path_Name'].tolist()    \n",
        "        fnames = T1_path_test\n",
        "        for fname in fnames:\n",
        "                dst = os.path.join(p08, os.path.basename(fname))\n",
        "                shutil.copyfile(fname, dst)\n",
        "    \n",
        "    if  part == 'p04' :\n",
        "        p04 = os.path.join(test_1_dir, 'p04')\n",
        "        os.makedirs(p04, exist_ok=True)\n",
        "        test = car003[car003['Unnamed: 0'].between(0,123)]\n",
        "        T1_test = test[test['P']== part]\n",
        "        T1_path_test = T1_test['Path_Name'].tolist()    \n",
        "        fnames = T1_path_test\n",
        "        for fname in fnames:\n",
        "                dst = os.path.join(p04, os.path.basename(fname))\n",
        "                shutil.copyfile(fname, dst)\n",
        "    \n",
        "    if  part == 'p01,p02' :\n",
        "        p01 = os.path.join(test_1_dir, 'p01,p02')\n",
        "        os.makedirs(p01, exist_ok=True)\n",
        "        test = car003[car003['Unnamed: 0'].between(0,123)]\n",
        "        T1_test = test[test['P']== part]\n",
        "        T1_path_test = T1_test['Path_Name'].tolist()    \n",
        "        fnames = T1_path_test\n",
        "        for fname in fnames:\n",
        "                dst = os.path.join(p01, os.path.basename(fname))\n",
        "                shutil.copyfile(fname, dst)\n",
        "    \n",
        "    if  part == 'p03' :\n",
        "        p03 = os.path.join(test_1_dir, 'p03')\n",
        "        os.makedirs(p03, exist_ok=True)\n",
        "        test = car003[car003['Unnamed: 0'].between(0,123)]\n",
        "        T1_test = test[test['P']== part]\n",
        "        T1_path_test = T1_test['Path_Name'].tolist()    \n",
        "        fnames = T1_path_test\n",
        "        for fname in fnames:\n",
        "                dst = os.path.join(p03, os.path.basename(fname))\n",
        "                shutil.copyfile(fname, dst)\n",
        "    \n",
        "    if  part == 'p07' :\n",
        "        p07 = os.path.join(test_1_dir, 'p07')\n",
        "        os.makedirs(p07, exist_ok=True)\n",
        "        test = car003[car003['Unnamed: 0'].between(0,123)]\n",
        "        T1_test = test[test['P']== part]\n",
        "        T1_path_test = T1_test['Path_Name'].tolist()    \n",
        "        fnames = T1_path_test\n",
        "        for fname in fnames:\n",
        "                dst = os.path.join(p07, os.path.basename(fname))\n",
        "                shutil.copyfile(fname, dst)\n",
        "    \n",
        "    if  part == 'p05' :\n",
        "        p05 = os.path.join(test_1_dir, 'p05')\n",
        "        os.makedirs(p05, exist_ok=True)\n",
        "        test = car003[car003['Unnamed: 0'].between(0,123)]\n",
        "        T1_test = test[test['P']== part]\n",
        "        T1_path_test = T1_test['Path_Name'].tolist()    \n",
        "        fnames = T1_path_test\n",
        "        for fname in fnames:\n",
        "                dst = os.path.join(p05, os.path.basename(fname))\n",
        "                shutil.copyfile(fname, dst)\n",
        "\n",
        "    if  part == 'p09' :\n",
        "        p09 = os.path.join(test_1_dir, 'p09')\n",
        "        os.makedirs(p09, exist_ok=True)\n",
        "        test = car003[car003['Unnamed: 0'].between(0,123)]\n",
        "        T1_test = test[test['P']== part]\n",
        "        T1_path_test = T1_test['Path_Name'].tolist()    \n",
        "        fnames = T1_path_test\n",
        "        for fname in fnames:\n",
        "                dst = os.path.join(p09, os.path.basename(fname))\n",
        "                shutil.copyfile(fname, dst)\n",
        "\n",
        "    if  part == 'p11' :\n",
        "        p11 = os.path.join(test_1_dir, 'p11')\n",
        "        os.makedirs(p11, exist_ok=True)\n",
        "        test = car003[car003['Unnamed: 0'].between(0,123)]\n",
        "        T1_test = test[test['P']== part]\n",
        "        T1_path_test = T1_test['Path_Name'].tolist()    \n",
        "        fnames = T1_path_test\n",
        "        for fname in fnames:\n",
        "                dst = os.path.join(p11, os.path.basename(fname))\n",
        "                shutil.copyfile(fname, dst)\n",
        "\n",
        "    if  part == 'p13, p14' :\n",
        "        p13 = os.path.join(test_1_dir, 'p13, p14')\n",
        "        os.makedirs(p13, exist_ok=True)\n",
        "        test = car003[car003['Unnamed: 0'].between(0,123)]\n",
        "        T1_test = test[test['P']== part]\n",
        "        T1_path_test = T1_test['Path_Name'].tolist()    \n",
        "        fnames = T1_path_test\n",
        "        for fname in fnames:\n",
        "                dst = os.path.join(p13, os.path.basename(fname))\n",
        "                shutil.copyfile(fname, dst)\n",
        "\n",
        "    if  part == 'p12' :\n",
        "        p12 = os.path.join(test_1_dir, 'p12')\n",
        "        os.makedirs(p12, exist_ok=True)\n",
        "        test = car003[car003['Unnamed: 0'].between(0,123)]\n",
        "        T1_test = test[test['P']== part]\n",
        "        T1_path_test = T1_test['Path_Name'].tolist()    \n",
        "        fnames = T1_path_test\n",
        "        for fname in fnames:\n",
        "                dst = os.path.join(p12, os.path.basename(fname))\n",
        "                shutil.copyfile(fname, dst)\n",
        "    \n",
        "    if  part == 'p10' :\n",
        "        p10 = os.path.join(test_1_dir, 'p10')\n",
        "        os.makedirs(p10, exist_ok=True)\n",
        "        test = car003[car003['Unnamed: 0'].between(0,123)]\n",
        "        T1_test = test[test['P']== part]\n",
        "        T1_path_test = T1_test['Path_Name'].tolist()    \n",
        "        fnames = T1_path_test\n",
        "        for fname in fnames:\n",
        "                dst = os.path.join(p10, os.path.basename(fname))\n",
        "                shutil.copyfile(fname, dst)\n",
        "\n",
        "    if  part == 'p06' :\n",
        "        p06 = os.path.join(test_1_dir, 'p06')\n",
        "        os.makedirs(p06, exist_ok=True)\n",
        "        test = car003[car003['Unnamed: 0'].between(0,123)]\n",
        "        T1_test = test[test['P']== part]\n",
        "        T1_path_test = T1_test['Path_Name'].tolist()    \n",
        "        fnames = T1_path_test\n",
        "        for fname in fnames:\n",
        "                dst = os.path.join(p06, os.path.basename(fname))\n",
        "                shutil.copyfile(fname, dst) "
      ],
      "metadata": {
        "id": "mT06ly-dffCN"
      },
      "execution_count": 50,
      "outputs": []
    },
    {
      "cell_type": "markdown",
      "source": [
        "## car004"
      ],
      "metadata": {
        "id": "eJvj6AQxzauR"
      }
    },
    {
      "cell_type": "code",
      "source": [
        "car004  = pd.read_csv(os.path.join(path,'car004.csv')) \n",
        "car004"
      ],
      "metadata": {
        "id": "vhKx5uat26fz",
        "outputId": "7ebac30d-6c7a-4c74-8dd1-4383d7d381ad",
        "colab": {
          "base_uri": "https://localhost:8080/",
          "height": 423
        }
      },
      "execution_count": 98,
      "outputs": [
        {
          "output_type": "execute_result",
          "data": {
            "text/plain": [
              "     Unnamed: 0                                          Path_Name      ID  \\\n",
              "0             0  /content/drive/My Drive/unsup-car-dataset/frei...  car004   \n",
              "1             1  /content/drive/My Drive/unsup-car-dataset/frei...  car004   \n",
              "2             2  /content/drive/My Drive/unsup-car-dataset/frei...  car004   \n",
              "3             3  /content/drive/My Drive/unsup-car-dataset/frei...  car004   \n",
              "4             4  /content/drive/My Drive/unsup-car-dataset/frei...  car004   \n",
              "..          ...                                                ...     ...   \n",
              "116         116  /content/drive/My Drive/unsup-car-dataset/frei...  car004   \n",
              "117         117  /content/drive/My Drive/unsup-car-dataset/frei...  car004   \n",
              "118         118  /content/drive/My Drive/unsup-car-dataset/frei...  car004   \n",
              "119         119  /content/drive/My Drive/unsup-car-dataset/frei...  car004   \n",
              "120         120  /content/drive/My Drive/unsup-car-dataset/frei...  car004   \n",
              "\n",
              "              Name  Angle    P  \n",
              "0    left-0001.ppm    319  p10  \n",
              "1    left-0031.ppm    317  p10  \n",
              "2    left-0061.ppm    312  p10  \n",
              "3    left-0091.ppm    305  p12  \n",
              "4    left-0121.ppm    299  p12  \n",
              "..             ...    ...  ...  \n",
              "116  left-3481.ppm    331  p10  \n",
              "117  left-3511.ppm    327  p10  \n",
              "118  left-3541.ppm    324  p10  \n",
              "119  left-3571.ppm    320  p10  \n",
              "120  left-3601.ppm    317  p10  \n",
              "\n",
              "[121 rows x 6 columns]"
            ],
            "text/html": [
              "\n",
              "  <div id=\"df-f3199b08-3f04-4945-b121-d77efb5b0305\">\n",
              "    <div class=\"colab-df-container\">\n",
              "      <div>\n",
              "<style scoped>\n",
              "    .dataframe tbody tr th:only-of-type {\n",
              "        vertical-align: middle;\n",
              "    }\n",
              "\n",
              "    .dataframe tbody tr th {\n",
              "        vertical-align: top;\n",
              "    }\n",
              "\n",
              "    .dataframe thead th {\n",
              "        text-align: right;\n",
              "    }\n",
              "</style>\n",
              "<table border=\"1\" class=\"dataframe\">\n",
              "  <thead>\n",
              "    <tr style=\"text-align: right;\">\n",
              "      <th></th>\n",
              "      <th>Unnamed: 0</th>\n",
              "      <th>Path_Name</th>\n",
              "      <th>ID</th>\n",
              "      <th>Name</th>\n",
              "      <th>Angle</th>\n",
              "      <th>P</th>\n",
              "    </tr>\n",
              "  </thead>\n",
              "  <tbody>\n",
              "    <tr>\n",
              "      <th>0</th>\n",
              "      <td>0</td>\n",
              "      <td>/content/drive/My Drive/unsup-car-dataset/frei...</td>\n",
              "      <td>car004</td>\n",
              "      <td>left-0001.ppm</td>\n",
              "      <td>319</td>\n",
              "      <td>p10</td>\n",
              "    </tr>\n",
              "    <tr>\n",
              "      <th>1</th>\n",
              "      <td>1</td>\n",
              "      <td>/content/drive/My Drive/unsup-car-dataset/frei...</td>\n",
              "      <td>car004</td>\n",
              "      <td>left-0031.ppm</td>\n",
              "      <td>317</td>\n",
              "      <td>p10</td>\n",
              "    </tr>\n",
              "    <tr>\n",
              "      <th>2</th>\n",
              "      <td>2</td>\n",
              "      <td>/content/drive/My Drive/unsup-car-dataset/frei...</td>\n",
              "      <td>car004</td>\n",
              "      <td>left-0061.ppm</td>\n",
              "      <td>312</td>\n",
              "      <td>p10</td>\n",
              "    </tr>\n",
              "    <tr>\n",
              "      <th>3</th>\n",
              "      <td>3</td>\n",
              "      <td>/content/drive/My Drive/unsup-car-dataset/frei...</td>\n",
              "      <td>car004</td>\n",
              "      <td>left-0091.ppm</td>\n",
              "      <td>305</td>\n",
              "      <td>p12</td>\n",
              "    </tr>\n",
              "    <tr>\n",
              "      <th>4</th>\n",
              "      <td>4</td>\n",
              "      <td>/content/drive/My Drive/unsup-car-dataset/frei...</td>\n",
              "      <td>car004</td>\n",
              "      <td>left-0121.ppm</td>\n",
              "      <td>299</td>\n",
              "      <td>p12</td>\n",
              "    </tr>\n",
              "    <tr>\n",
              "      <th>...</th>\n",
              "      <td>...</td>\n",
              "      <td>...</td>\n",
              "      <td>...</td>\n",
              "      <td>...</td>\n",
              "      <td>...</td>\n",
              "      <td>...</td>\n",
              "    </tr>\n",
              "    <tr>\n",
              "      <th>116</th>\n",
              "      <td>116</td>\n",
              "      <td>/content/drive/My Drive/unsup-car-dataset/frei...</td>\n",
              "      <td>car004</td>\n",
              "      <td>left-3481.ppm</td>\n",
              "      <td>331</td>\n",
              "      <td>p10</td>\n",
              "    </tr>\n",
              "    <tr>\n",
              "      <th>117</th>\n",
              "      <td>117</td>\n",
              "      <td>/content/drive/My Drive/unsup-car-dataset/frei...</td>\n",
              "      <td>car004</td>\n",
              "      <td>left-3511.ppm</td>\n",
              "      <td>327</td>\n",
              "      <td>p10</td>\n",
              "    </tr>\n",
              "    <tr>\n",
              "      <th>118</th>\n",
              "      <td>118</td>\n",
              "      <td>/content/drive/My Drive/unsup-car-dataset/frei...</td>\n",
              "      <td>car004</td>\n",
              "      <td>left-3541.ppm</td>\n",
              "      <td>324</td>\n",
              "      <td>p10</td>\n",
              "    </tr>\n",
              "    <tr>\n",
              "      <th>119</th>\n",
              "      <td>119</td>\n",
              "      <td>/content/drive/My Drive/unsup-car-dataset/frei...</td>\n",
              "      <td>car004</td>\n",
              "      <td>left-3571.ppm</td>\n",
              "      <td>320</td>\n",
              "      <td>p10</td>\n",
              "    </tr>\n",
              "    <tr>\n",
              "      <th>120</th>\n",
              "      <td>120</td>\n",
              "      <td>/content/drive/My Drive/unsup-car-dataset/frei...</td>\n",
              "      <td>car004</td>\n",
              "      <td>left-3601.ppm</td>\n",
              "      <td>317</td>\n",
              "      <td>p10</td>\n",
              "    </tr>\n",
              "  </tbody>\n",
              "</table>\n",
              "<p>121 rows × 6 columns</p>\n",
              "</div>\n",
              "      <button class=\"colab-df-convert\" onclick=\"convertToInteractive('df-f3199b08-3f04-4945-b121-d77efb5b0305')\"\n",
              "              title=\"Convert this dataframe to an interactive table.\"\n",
              "              style=\"display:none;\">\n",
              "        \n",
              "  <svg xmlns=\"http://www.w3.org/2000/svg\" height=\"24px\"viewBox=\"0 0 24 24\"\n",
              "       width=\"24px\">\n",
              "    <path d=\"M0 0h24v24H0V0z\" fill=\"none\"/>\n",
              "    <path d=\"M18.56 5.44l.94 2.06.94-2.06 2.06-.94-2.06-.94-.94-2.06-.94 2.06-2.06.94zm-11 1L8.5 8.5l.94-2.06 2.06-.94-2.06-.94L8.5 2.5l-.94 2.06-2.06.94zm10 10l.94 2.06.94-2.06 2.06-.94-2.06-.94-.94-2.06-.94 2.06-2.06.94z\"/><path d=\"M17.41 7.96l-1.37-1.37c-.4-.4-.92-.59-1.43-.59-.52 0-1.04.2-1.43.59L10.3 9.45l-7.72 7.72c-.78.78-.78 2.05 0 2.83L4 21.41c.39.39.9.59 1.41.59.51 0 1.02-.2 1.41-.59l7.78-7.78 2.81-2.81c.8-.78.8-2.07 0-2.86zM5.41 20L4 18.59l7.72-7.72 1.47 1.35L5.41 20z\"/>\n",
              "  </svg>\n",
              "      </button>\n",
              "      \n",
              "  <style>\n",
              "    .colab-df-container {\n",
              "      display:flex;\n",
              "      flex-wrap:wrap;\n",
              "      gap: 12px;\n",
              "    }\n",
              "\n",
              "    .colab-df-convert {\n",
              "      background-color: #E8F0FE;\n",
              "      border: none;\n",
              "      border-radius: 50%;\n",
              "      cursor: pointer;\n",
              "      display: none;\n",
              "      fill: #1967D2;\n",
              "      height: 32px;\n",
              "      padding: 0 0 0 0;\n",
              "      width: 32px;\n",
              "    }\n",
              "\n",
              "    .colab-df-convert:hover {\n",
              "      background-color: #E2EBFA;\n",
              "      box-shadow: 0px 1px 2px rgba(60, 64, 67, 0.3), 0px 1px 3px 1px rgba(60, 64, 67, 0.15);\n",
              "      fill: #174EA6;\n",
              "    }\n",
              "\n",
              "    [theme=dark] .colab-df-convert {\n",
              "      background-color: #3B4455;\n",
              "      fill: #D2E3FC;\n",
              "    }\n",
              "\n",
              "    [theme=dark] .colab-df-convert:hover {\n",
              "      background-color: #434B5C;\n",
              "      box-shadow: 0px 1px 3px 1px rgba(0, 0, 0, 0.15);\n",
              "      filter: drop-shadow(0px 1px 2px rgba(0, 0, 0, 0.3));\n",
              "      fill: #FFFFFF;\n",
              "    }\n",
              "  </style>\n",
              "\n",
              "      <script>\n",
              "        const buttonEl =\n",
              "          document.querySelector('#df-f3199b08-3f04-4945-b121-d77efb5b0305 button.colab-df-convert');\n",
              "        buttonEl.style.display =\n",
              "          google.colab.kernel.accessAllowed ? 'block' : 'none';\n",
              "\n",
              "        async function convertToInteractive(key) {\n",
              "          const element = document.querySelector('#df-f3199b08-3f04-4945-b121-d77efb5b0305');\n",
              "          const dataTable =\n",
              "            await google.colab.kernel.invokeFunction('convertToInteractive',\n",
              "                                                     [key], {});\n",
              "          if (!dataTable) return;\n",
              "\n",
              "          const docLinkHtml = 'Like what you see? Visit the ' +\n",
              "            '<a target=\"_blank\" href=https://colab.research.google.com/notebooks/data_table.ipynb>data table notebook</a>'\n",
              "            + ' to learn more about interactive tables.';\n",
              "          element.innerHTML = '';\n",
              "          dataTable['output_type'] = 'display_data';\n",
              "          await google.colab.output.renderOutput(dataTable, element);\n",
              "          const docLink = document.createElement('div');\n",
              "          docLink.innerHTML = docLinkHtml;\n",
              "          element.appendChild(docLink);\n",
              "        }\n",
              "      </script>\n",
              "    </div>\n",
              "  </div>\n",
              "  "
            ]
          },
          "metadata": {},
          "execution_count": 98
        }
      ]
    },
    {
      "cell_type": "code",
      "source": [
        "test_1_dir = os.path.join(base_dir, 'car004')\n",
        "os.makedirs(test_1_dir, exist_ok=True)"
      ],
      "metadata": {
        "id": "62WC12x63LW3"
      },
      "execution_count": 99,
      "outputs": []
    },
    {
      "cell_type": "code",
      "source": [],
      "metadata": {
        "id": "0kgrYIIt3fdq"
      },
      "execution_count": null,
      "outputs": []
    },
    {
      "cell_type": "markdown",
      "source": [
        "## car005"
      ],
      "metadata": {
        "id": "OMjx-C_c1QE9"
      }
    },
    {
      "cell_type": "code",
      "source": [
        "car005  = pd.read_csv(os.path.join(path,'car005.csv')) \n",
        "car005"
      ],
      "metadata": {
        "id": "bwgVIrT44YKo",
        "outputId": "08be908e-6bcd-4da4-c4f6-e304a76c7554",
        "colab": {
          "base_uri": "https://localhost:8080/",
          "height": 423
        }
      },
      "execution_count": 100,
      "outputs": [
        {
          "output_type": "execute_result",
          "data": {
            "text/plain": [
              "     Unnamed: 0                                          Path_Name      ID  \\\n",
              "0             0  /content/drive/My Drive/unsup-car-dataset/frei...  car005   \n",
              "1             1  /content/drive/My Drive/unsup-car-dataset/frei...  car005   \n",
              "2             2  /content/drive/My Drive/unsup-car-dataset/frei...  car005   \n",
              "3             3  /content/drive/My Drive/unsup-car-dataset/frei...  car005   \n",
              "4             4  /content/drive/My Drive/unsup-car-dataset/frei...  car005   \n",
              "..          ...                                                ...     ...   \n",
              "116         116  /content/drive/My Drive/unsup-car-dataset/frei...  car005   \n",
              "117         117  /content/drive/My Drive/unsup-car-dataset/frei...  car005   \n",
              "118         118  /content/drive/My Drive/unsup-car-dataset/frei...  car005   \n",
              "119         119  /content/drive/My Drive/unsup-car-dataset/frei...  car005   \n",
              "120         120  /content/drive/My Drive/unsup-car-dataset/frei...  car005   \n",
              "\n",
              "              Name  Angle    P  \n",
              "0    left-0001.ppm     11  p06  \n",
              "1    left-0026.ppm     11  p06  \n",
              "2    left-0051.ppm     10  p06  \n",
              "3    left-0076.ppm     10  p06  \n",
              "4    left-0101.ppm     10  p06  \n",
              "..             ...    ...  ...  \n",
              "116  left-2901.ppm     12  p06  \n",
              "117  left-2926.ppm     12  p06  \n",
              "118  left-2951.ppm     12  p06  \n",
              "119  left-2976.ppm     12  p06  \n",
              "120  left-3001.ppm     12  p06  \n",
              "\n",
              "[121 rows x 6 columns]"
            ],
            "text/html": [
              "\n",
              "  <div id=\"df-d93419c5-b8dc-431b-848e-1e560f37c0bb\">\n",
              "    <div class=\"colab-df-container\">\n",
              "      <div>\n",
              "<style scoped>\n",
              "    .dataframe tbody tr th:only-of-type {\n",
              "        vertical-align: middle;\n",
              "    }\n",
              "\n",
              "    .dataframe tbody tr th {\n",
              "        vertical-align: top;\n",
              "    }\n",
              "\n",
              "    .dataframe thead th {\n",
              "        text-align: right;\n",
              "    }\n",
              "</style>\n",
              "<table border=\"1\" class=\"dataframe\">\n",
              "  <thead>\n",
              "    <tr style=\"text-align: right;\">\n",
              "      <th></th>\n",
              "      <th>Unnamed: 0</th>\n",
              "      <th>Path_Name</th>\n",
              "      <th>ID</th>\n",
              "      <th>Name</th>\n",
              "      <th>Angle</th>\n",
              "      <th>P</th>\n",
              "    </tr>\n",
              "  </thead>\n",
              "  <tbody>\n",
              "    <tr>\n",
              "      <th>0</th>\n",
              "      <td>0</td>\n",
              "      <td>/content/drive/My Drive/unsup-car-dataset/frei...</td>\n",
              "      <td>car005</td>\n",
              "      <td>left-0001.ppm</td>\n",
              "      <td>11</td>\n",
              "      <td>p06</td>\n",
              "    </tr>\n",
              "    <tr>\n",
              "      <th>1</th>\n",
              "      <td>1</td>\n",
              "      <td>/content/drive/My Drive/unsup-car-dataset/frei...</td>\n",
              "      <td>car005</td>\n",
              "      <td>left-0026.ppm</td>\n",
              "      <td>11</td>\n",
              "      <td>p06</td>\n",
              "    </tr>\n",
              "    <tr>\n",
              "      <th>2</th>\n",
              "      <td>2</td>\n",
              "      <td>/content/drive/My Drive/unsup-car-dataset/frei...</td>\n",
              "      <td>car005</td>\n",
              "      <td>left-0051.ppm</td>\n",
              "      <td>10</td>\n",
              "      <td>p06</td>\n",
              "    </tr>\n",
              "    <tr>\n",
              "      <th>3</th>\n",
              "      <td>3</td>\n",
              "      <td>/content/drive/My Drive/unsup-car-dataset/frei...</td>\n",
              "      <td>car005</td>\n",
              "      <td>left-0076.ppm</td>\n",
              "      <td>10</td>\n",
              "      <td>p06</td>\n",
              "    </tr>\n",
              "    <tr>\n",
              "      <th>4</th>\n",
              "      <td>4</td>\n",
              "      <td>/content/drive/My Drive/unsup-car-dataset/frei...</td>\n",
              "      <td>car005</td>\n",
              "      <td>left-0101.ppm</td>\n",
              "      <td>10</td>\n",
              "      <td>p06</td>\n",
              "    </tr>\n",
              "    <tr>\n",
              "      <th>...</th>\n",
              "      <td>...</td>\n",
              "      <td>...</td>\n",
              "      <td>...</td>\n",
              "      <td>...</td>\n",
              "      <td>...</td>\n",
              "      <td>...</td>\n",
              "    </tr>\n",
              "    <tr>\n",
              "      <th>116</th>\n",
              "      <td>116</td>\n",
              "      <td>/content/drive/My Drive/unsup-car-dataset/frei...</td>\n",
              "      <td>car005</td>\n",
              "      <td>left-2901.ppm</td>\n",
              "      <td>12</td>\n",
              "      <td>p06</td>\n",
              "    </tr>\n",
              "    <tr>\n",
              "      <th>117</th>\n",
              "      <td>117</td>\n",
              "      <td>/content/drive/My Drive/unsup-car-dataset/frei...</td>\n",
              "      <td>car005</td>\n",
              "      <td>left-2926.ppm</td>\n",
              "      <td>12</td>\n",
              "      <td>p06</td>\n",
              "    </tr>\n",
              "    <tr>\n",
              "      <th>118</th>\n",
              "      <td>118</td>\n",
              "      <td>/content/drive/My Drive/unsup-car-dataset/frei...</td>\n",
              "      <td>car005</td>\n",
              "      <td>left-2951.ppm</td>\n",
              "      <td>12</td>\n",
              "      <td>p06</td>\n",
              "    </tr>\n",
              "    <tr>\n",
              "      <th>119</th>\n",
              "      <td>119</td>\n",
              "      <td>/content/drive/My Drive/unsup-car-dataset/frei...</td>\n",
              "      <td>car005</td>\n",
              "      <td>left-2976.ppm</td>\n",
              "      <td>12</td>\n",
              "      <td>p06</td>\n",
              "    </tr>\n",
              "    <tr>\n",
              "      <th>120</th>\n",
              "      <td>120</td>\n",
              "      <td>/content/drive/My Drive/unsup-car-dataset/frei...</td>\n",
              "      <td>car005</td>\n",
              "      <td>left-3001.ppm</td>\n",
              "      <td>12</td>\n",
              "      <td>p06</td>\n",
              "    </tr>\n",
              "  </tbody>\n",
              "</table>\n",
              "<p>121 rows × 6 columns</p>\n",
              "</div>\n",
              "      <button class=\"colab-df-convert\" onclick=\"convertToInteractive('df-d93419c5-b8dc-431b-848e-1e560f37c0bb')\"\n",
              "              title=\"Convert this dataframe to an interactive table.\"\n",
              "              style=\"display:none;\">\n",
              "        \n",
              "  <svg xmlns=\"http://www.w3.org/2000/svg\" height=\"24px\"viewBox=\"0 0 24 24\"\n",
              "       width=\"24px\">\n",
              "    <path d=\"M0 0h24v24H0V0z\" fill=\"none\"/>\n",
              "    <path d=\"M18.56 5.44l.94 2.06.94-2.06 2.06-.94-2.06-.94-.94-2.06-.94 2.06-2.06.94zm-11 1L8.5 8.5l.94-2.06 2.06-.94-2.06-.94L8.5 2.5l-.94 2.06-2.06.94zm10 10l.94 2.06.94-2.06 2.06-.94-2.06-.94-.94-2.06-.94 2.06-2.06.94z\"/><path d=\"M17.41 7.96l-1.37-1.37c-.4-.4-.92-.59-1.43-.59-.52 0-1.04.2-1.43.59L10.3 9.45l-7.72 7.72c-.78.78-.78 2.05 0 2.83L4 21.41c.39.39.9.59 1.41.59.51 0 1.02-.2 1.41-.59l7.78-7.78 2.81-2.81c.8-.78.8-2.07 0-2.86zM5.41 20L4 18.59l7.72-7.72 1.47 1.35L5.41 20z\"/>\n",
              "  </svg>\n",
              "      </button>\n",
              "      \n",
              "  <style>\n",
              "    .colab-df-container {\n",
              "      display:flex;\n",
              "      flex-wrap:wrap;\n",
              "      gap: 12px;\n",
              "    }\n",
              "\n",
              "    .colab-df-convert {\n",
              "      background-color: #E8F0FE;\n",
              "      border: none;\n",
              "      border-radius: 50%;\n",
              "      cursor: pointer;\n",
              "      display: none;\n",
              "      fill: #1967D2;\n",
              "      height: 32px;\n",
              "      padding: 0 0 0 0;\n",
              "      width: 32px;\n",
              "    }\n",
              "\n",
              "    .colab-df-convert:hover {\n",
              "      background-color: #E2EBFA;\n",
              "      box-shadow: 0px 1px 2px rgba(60, 64, 67, 0.3), 0px 1px 3px 1px rgba(60, 64, 67, 0.15);\n",
              "      fill: #174EA6;\n",
              "    }\n",
              "\n",
              "    [theme=dark] .colab-df-convert {\n",
              "      background-color: #3B4455;\n",
              "      fill: #D2E3FC;\n",
              "    }\n",
              "\n",
              "    [theme=dark] .colab-df-convert:hover {\n",
              "      background-color: #434B5C;\n",
              "      box-shadow: 0px 1px 3px 1px rgba(0, 0, 0, 0.15);\n",
              "      filter: drop-shadow(0px 1px 2px rgba(0, 0, 0, 0.3));\n",
              "      fill: #FFFFFF;\n",
              "    }\n",
              "  </style>\n",
              "\n",
              "      <script>\n",
              "        const buttonEl =\n",
              "          document.querySelector('#df-d93419c5-b8dc-431b-848e-1e560f37c0bb button.colab-df-convert');\n",
              "        buttonEl.style.display =\n",
              "          google.colab.kernel.accessAllowed ? 'block' : 'none';\n",
              "\n",
              "        async function convertToInteractive(key) {\n",
              "          const element = document.querySelector('#df-d93419c5-b8dc-431b-848e-1e560f37c0bb');\n",
              "          const dataTable =\n",
              "            await google.colab.kernel.invokeFunction('convertToInteractive',\n",
              "                                                     [key], {});\n",
              "          if (!dataTable) return;\n",
              "\n",
              "          const docLinkHtml = 'Like what you see? Visit the ' +\n",
              "            '<a target=\"_blank\" href=https://colab.research.google.com/notebooks/data_table.ipynb>data table notebook</a>'\n",
              "            + ' to learn more about interactive tables.';\n",
              "          element.innerHTML = '';\n",
              "          dataTable['output_type'] = 'display_data';\n",
              "          await google.colab.output.renderOutput(dataTable, element);\n",
              "          const docLink = document.createElement('div');\n",
              "          docLink.innerHTML = docLinkHtml;\n",
              "          element.appendChild(docLink);\n",
              "        }\n",
              "      </script>\n",
              "    </div>\n",
              "  </div>\n",
              "  "
            ]
          },
          "metadata": {},
          "execution_count": 100
        }
      ]
    },
    {
      "cell_type": "code",
      "source": [
        "test_1_dir = os.path.join(base_dir, 'car005')\n",
        "os.makedirs(test_1_dir, exist_ok=True)"
      ],
      "metadata": {
        "id": "cmtFTNVf4YSE"
      },
      "execution_count": 101,
      "outputs": []
    },
    {
      "cell_type": "code",
      "source": [],
      "metadata": {
        "id": "hdM0fJur4YYA"
      },
      "execution_count": null,
      "outputs": []
    },
    {
      "cell_type": "markdown",
      "source": [
        "## car009"
      ],
      "metadata": {
        "id": "v7kwBlj71QOA"
      }
    },
    {
      "cell_type": "code",
      "source": [
        "car009  = pd.read_csv(os.path.join(path,'car009.csv')) \n",
        "car009"
      ],
      "metadata": {
        "id": "cM223vz-4p4z",
        "outputId": "e6c995eb-cd43-45d0-f31f-74321f6d7605",
        "colab": {
          "base_uri": "https://localhost:8080/",
          "height": 423
        }
      },
      "execution_count": 103,
      "outputs": [
        {
          "output_type": "execute_result",
          "data": {
            "text/plain": [
              "     Unnamed: 0                                          Path_Name      ID  \\\n",
              "0             0  /content/drive/My Drive/unsup-car-dataset/frei...  car009   \n",
              "1             1  /content/drive/My Drive/unsup-car-dataset/frei...  car009   \n",
              "2             2  /content/drive/My Drive/unsup-car-dataset/frei...  car009   \n",
              "3             3  /content/drive/My Drive/unsup-car-dataset/frei...  car009   \n",
              "4             4  /content/drive/My Drive/unsup-car-dataset/frei...  car009   \n",
              "..          ...                                                ...     ...   \n",
              "120         120  /content/drive/My Drive/unsup-car-dataset/frei...  car009   \n",
              "121         121  /content/drive/My Drive/unsup-car-dataset/frei...  car009   \n",
              "122         122  /content/drive/My Drive/unsup-car-dataset/frei...  car009   \n",
              "123         123  /content/drive/My Drive/unsup-car-dataset/frei...  car009   \n",
              "124         124  /content/drive/My Drive/unsup-car-dataset/frei...  car009   \n",
              "\n",
              "              Name  Angle        P  \n",
              "0    left-0001.ppm     81  p01,p02  \n",
              "1    left-0015.ppm     81  p01,p02  \n",
              "2    left-0029.ppm     78  p01,p02  \n",
              "3    left-0043.ppm     75  p01,p02  \n",
              "4    left-0057.ppm     72  p01,p02  \n",
              "..             ...    ...      ...  \n",
              "120  left-1681.ppm     58      p04  \n",
              "121  left-1695.ppm     54      p04  \n",
              "122  left-1709.ppm     52      p04  \n",
              "123  left-1723.ppm     52      p04  \n",
              "124  left-1737.ppm     52      p04  \n",
              "\n",
              "[125 rows x 6 columns]"
            ],
            "text/html": [
              "\n",
              "  <div id=\"df-4b5517a0-867a-4071-ae10-3b2b890f482a\">\n",
              "    <div class=\"colab-df-container\">\n",
              "      <div>\n",
              "<style scoped>\n",
              "    .dataframe tbody tr th:only-of-type {\n",
              "        vertical-align: middle;\n",
              "    }\n",
              "\n",
              "    .dataframe tbody tr th {\n",
              "        vertical-align: top;\n",
              "    }\n",
              "\n",
              "    .dataframe thead th {\n",
              "        text-align: right;\n",
              "    }\n",
              "</style>\n",
              "<table border=\"1\" class=\"dataframe\">\n",
              "  <thead>\n",
              "    <tr style=\"text-align: right;\">\n",
              "      <th></th>\n",
              "      <th>Unnamed: 0</th>\n",
              "      <th>Path_Name</th>\n",
              "      <th>ID</th>\n",
              "      <th>Name</th>\n",
              "      <th>Angle</th>\n",
              "      <th>P</th>\n",
              "    </tr>\n",
              "  </thead>\n",
              "  <tbody>\n",
              "    <tr>\n",
              "      <th>0</th>\n",
              "      <td>0</td>\n",
              "      <td>/content/drive/My Drive/unsup-car-dataset/frei...</td>\n",
              "      <td>car009</td>\n",
              "      <td>left-0001.ppm</td>\n",
              "      <td>81</td>\n",
              "      <td>p01,p02</td>\n",
              "    </tr>\n",
              "    <tr>\n",
              "      <th>1</th>\n",
              "      <td>1</td>\n",
              "      <td>/content/drive/My Drive/unsup-car-dataset/frei...</td>\n",
              "      <td>car009</td>\n",
              "      <td>left-0015.ppm</td>\n",
              "      <td>81</td>\n",
              "      <td>p01,p02</td>\n",
              "    </tr>\n",
              "    <tr>\n",
              "      <th>2</th>\n",
              "      <td>2</td>\n",
              "      <td>/content/drive/My Drive/unsup-car-dataset/frei...</td>\n",
              "      <td>car009</td>\n",
              "      <td>left-0029.ppm</td>\n",
              "      <td>78</td>\n",
              "      <td>p01,p02</td>\n",
              "    </tr>\n",
              "    <tr>\n",
              "      <th>3</th>\n",
              "      <td>3</td>\n",
              "      <td>/content/drive/My Drive/unsup-car-dataset/frei...</td>\n",
              "      <td>car009</td>\n",
              "      <td>left-0043.ppm</td>\n",
              "      <td>75</td>\n",
              "      <td>p01,p02</td>\n",
              "    </tr>\n",
              "    <tr>\n",
              "      <th>4</th>\n",
              "      <td>4</td>\n",
              "      <td>/content/drive/My Drive/unsup-car-dataset/frei...</td>\n",
              "      <td>car009</td>\n",
              "      <td>left-0057.ppm</td>\n",
              "      <td>72</td>\n",
              "      <td>p01,p02</td>\n",
              "    </tr>\n",
              "    <tr>\n",
              "      <th>...</th>\n",
              "      <td>...</td>\n",
              "      <td>...</td>\n",
              "      <td>...</td>\n",
              "      <td>...</td>\n",
              "      <td>...</td>\n",
              "      <td>...</td>\n",
              "    </tr>\n",
              "    <tr>\n",
              "      <th>120</th>\n",
              "      <td>120</td>\n",
              "      <td>/content/drive/My Drive/unsup-car-dataset/frei...</td>\n",
              "      <td>car009</td>\n",
              "      <td>left-1681.ppm</td>\n",
              "      <td>58</td>\n",
              "      <td>p04</td>\n",
              "    </tr>\n",
              "    <tr>\n",
              "      <th>121</th>\n",
              "      <td>121</td>\n",
              "      <td>/content/drive/My Drive/unsup-car-dataset/frei...</td>\n",
              "      <td>car009</td>\n",
              "      <td>left-1695.ppm</td>\n",
              "      <td>54</td>\n",
              "      <td>p04</td>\n",
              "    </tr>\n",
              "    <tr>\n",
              "      <th>122</th>\n",
              "      <td>122</td>\n",
              "      <td>/content/drive/My Drive/unsup-car-dataset/frei...</td>\n",
              "      <td>car009</td>\n",
              "      <td>left-1709.ppm</td>\n",
              "      <td>52</td>\n",
              "      <td>p04</td>\n",
              "    </tr>\n",
              "    <tr>\n",
              "      <th>123</th>\n",
              "      <td>123</td>\n",
              "      <td>/content/drive/My Drive/unsup-car-dataset/frei...</td>\n",
              "      <td>car009</td>\n",
              "      <td>left-1723.ppm</td>\n",
              "      <td>52</td>\n",
              "      <td>p04</td>\n",
              "    </tr>\n",
              "    <tr>\n",
              "      <th>124</th>\n",
              "      <td>124</td>\n",
              "      <td>/content/drive/My Drive/unsup-car-dataset/frei...</td>\n",
              "      <td>car009</td>\n",
              "      <td>left-1737.ppm</td>\n",
              "      <td>52</td>\n",
              "      <td>p04</td>\n",
              "    </tr>\n",
              "  </tbody>\n",
              "</table>\n",
              "<p>125 rows × 6 columns</p>\n",
              "</div>\n",
              "      <button class=\"colab-df-convert\" onclick=\"convertToInteractive('df-4b5517a0-867a-4071-ae10-3b2b890f482a')\"\n",
              "              title=\"Convert this dataframe to an interactive table.\"\n",
              "              style=\"display:none;\">\n",
              "        \n",
              "  <svg xmlns=\"http://www.w3.org/2000/svg\" height=\"24px\"viewBox=\"0 0 24 24\"\n",
              "       width=\"24px\">\n",
              "    <path d=\"M0 0h24v24H0V0z\" fill=\"none\"/>\n",
              "    <path d=\"M18.56 5.44l.94 2.06.94-2.06 2.06-.94-2.06-.94-.94-2.06-.94 2.06-2.06.94zm-11 1L8.5 8.5l.94-2.06 2.06-.94-2.06-.94L8.5 2.5l-.94 2.06-2.06.94zm10 10l.94 2.06.94-2.06 2.06-.94-2.06-.94-.94-2.06-.94 2.06-2.06.94z\"/><path d=\"M17.41 7.96l-1.37-1.37c-.4-.4-.92-.59-1.43-.59-.52 0-1.04.2-1.43.59L10.3 9.45l-7.72 7.72c-.78.78-.78 2.05 0 2.83L4 21.41c.39.39.9.59 1.41.59.51 0 1.02-.2 1.41-.59l7.78-7.78 2.81-2.81c.8-.78.8-2.07 0-2.86zM5.41 20L4 18.59l7.72-7.72 1.47 1.35L5.41 20z\"/>\n",
              "  </svg>\n",
              "      </button>\n",
              "      \n",
              "  <style>\n",
              "    .colab-df-container {\n",
              "      display:flex;\n",
              "      flex-wrap:wrap;\n",
              "      gap: 12px;\n",
              "    }\n",
              "\n",
              "    .colab-df-convert {\n",
              "      background-color: #E8F0FE;\n",
              "      border: none;\n",
              "      border-radius: 50%;\n",
              "      cursor: pointer;\n",
              "      display: none;\n",
              "      fill: #1967D2;\n",
              "      height: 32px;\n",
              "      padding: 0 0 0 0;\n",
              "      width: 32px;\n",
              "    }\n",
              "\n",
              "    .colab-df-convert:hover {\n",
              "      background-color: #E2EBFA;\n",
              "      box-shadow: 0px 1px 2px rgba(60, 64, 67, 0.3), 0px 1px 3px 1px rgba(60, 64, 67, 0.15);\n",
              "      fill: #174EA6;\n",
              "    }\n",
              "\n",
              "    [theme=dark] .colab-df-convert {\n",
              "      background-color: #3B4455;\n",
              "      fill: #D2E3FC;\n",
              "    }\n",
              "\n",
              "    [theme=dark] .colab-df-convert:hover {\n",
              "      background-color: #434B5C;\n",
              "      box-shadow: 0px 1px 3px 1px rgba(0, 0, 0, 0.15);\n",
              "      filter: drop-shadow(0px 1px 2px rgba(0, 0, 0, 0.3));\n",
              "      fill: #FFFFFF;\n",
              "    }\n",
              "  </style>\n",
              "\n",
              "      <script>\n",
              "        const buttonEl =\n",
              "          document.querySelector('#df-4b5517a0-867a-4071-ae10-3b2b890f482a button.colab-df-convert');\n",
              "        buttonEl.style.display =\n",
              "          google.colab.kernel.accessAllowed ? 'block' : 'none';\n",
              "\n",
              "        async function convertToInteractive(key) {\n",
              "          const element = document.querySelector('#df-4b5517a0-867a-4071-ae10-3b2b890f482a');\n",
              "          const dataTable =\n",
              "            await google.colab.kernel.invokeFunction('convertToInteractive',\n",
              "                                                     [key], {});\n",
              "          if (!dataTable) return;\n",
              "\n",
              "          const docLinkHtml = 'Like what you see? Visit the ' +\n",
              "            '<a target=\"_blank\" href=https://colab.research.google.com/notebooks/data_table.ipynb>data table notebook</a>'\n",
              "            + ' to learn more about interactive tables.';\n",
              "          element.innerHTML = '';\n",
              "          dataTable['output_type'] = 'display_data';\n",
              "          await google.colab.output.renderOutput(dataTable, element);\n",
              "          const docLink = document.createElement('div');\n",
              "          docLink.innerHTML = docLinkHtml;\n",
              "          element.appendChild(docLink);\n",
              "        }\n",
              "      </script>\n",
              "    </div>\n",
              "  </div>\n",
              "  "
            ]
          },
          "metadata": {},
          "execution_count": 103
        }
      ]
    },
    {
      "cell_type": "code",
      "source": [
        "test_1_dir = os.path.join(base_dir, 'car009')\n",
        "os.makedirs(test_1_dir, exist_ok=True)"
      ],
      "metadata": {
        "id": "Ry4SwPJy4p7d"
      },
      "execution_count": 104,
      "outputs": []
    },
    {
      "cell_type": "code",
      "source": [],
      "metadata": {
        "id": "NEtLo4KN4qCZ"
      },
      "execution_count": null,
      "outputs": []
    },
    {
      "cell_type": "markdown",
      "source": [
        "## car010"
      ],
      "metadata": {
        "id": "f_0vClE_1QSE"
      }
    },
    {
      "cell_type": "code",
      "source": [
        "car010  = pd.read_csv(os.path.join(path,'car010.csv')) \n",
        "car010"
      ],
      "metadata": {
        "id": "6TGr8OKQ5Euz",
        "outputId": "3323f04d-c048-4da1-e384-3ea108c5486d",
        "colab": {
          "base_uri": "https://localhost:8080/",
          "height": 423
        }
      },
      "execution_count": 105,
      "outputs": [
        {
          "output_type": "execute_result",
          "data": {
            "text/plain": [
              "     Unnamed: 0                                          Path_Name      ID  \\\n",
              "0             0  /content/drive/My Drive/unsup-car-dataset/frei...  car010   \n",
              "1             1  /content/drive/My Drive/unsup-car-dataset/frei...  car010   \n",
              "2             2  /content/drive/My Drive/unsup-car-dataset/frei...  car010   \n",
              "3             3  /content/drive/My Drive/unsup-car-dataset/frei...  car010   \n",
              "4             4  /content/drive/My Drive/unsup-car-dataset/frei...  car010   \n",
              "..          ...                                                ...     ...   \n",
              "118         118  /content/drive/My Drive/unsup-car-dataset/frei...  car010   \n",
              "119         119  /content/drive/My Drive/unsup-car-dataset/frei...  car010   \n",
              "120         120  /content/drive/My Drive/unsup-car-dataset/frei...  car010   \n",
              "121         121  /content/drive/My Drive/unsup-car-dataset/frei...  car010   \n",
              "122         122  /content/drive/My Drive/unsup-car-dataset/frei...  car010   \n",
              "\n",
              "              Name  Angle    P  \n",
              "0    left-0001.ppm    205  p09  \n",
              "1    left-0016.ppm    206  p09  \n",
              "2    left-0031.ppm    209  p09  \n",
              "3    left-0046.ppm    213  p09  \n",
              "4    left-0061.ppm    218  p09  \n",
              "..             ...    ...  ...  \n",
              "118  left-1771.ppm    326  p10  \n",
              "119  left-1786.ppm    329  p10  \n",
              "120  left-1801.ppm    332  p10  \n",
              "121  left-1816.ppm    336  p10  \n",
              "122  left-1831.ppm    340  p10  \n",
              "\n",
              "[123 rows x 6 columns]"
            ],
            "text/html": [
              "\n",
              "  <div id=\"df-b221a284-d110-403a-a100-e0f6e030bfa7\">\n",
              "    <div class=\"colab-df-container\">\n",
              "      <div>\n",
              "<style scoped>\n",
              "    .dataframe tbody tr th:only-of-type {\n",
              "        vertical-align: middle;\n",
              "    }\n",
              "\n",
              "    .dataframe tbody tr th {\n",
              "        vertical-align: top;\n",
              "    }\n",
              "\n",
              "    .dataframe thead th {\n",
              "        text-align: right;\n",
              "    }\n",
              "</style>\n",
              "<table border=\"1\" class=\"dataframe\">\n",
              "  <thead>\n",
              "    <tr style=\"text-align: right;\">\n",
              "      <th></th>\n",
              "      <th>Unnamed: 0</th>\n",
              "      <th>Path_Name</th>\n",
              "      <th>ID</th>\n",
              "      <th>Name</th>\n",
              "      <th>Angle</th>\n",
              "      <th>P</th>\n",
              "    </tr>\n",
              "  </thead>\n",
              "  <tbody>\n",
              "    <tr>\n",
              "      <th>0</th>\n",
              "      <td>0</td>\n",
              "      <td>/content/drive/My Drive/unsup-car-dataset/frei...</td>\n",
              "      <td>car010</td>\n",
              "      <td>left-0001.ppm</td>\n",
              "      <td>205</td>\n",
              "      <td>p09</td>\n",
              "    </tr>\n",
              "    <tr>\n",
              "      <th>1</th>\n",
              "      <td>1</td>\n",
              "      <td>/content/drive/My Drive/unsup-car-dataset/frei...</td>\n",
              "      <td>car010</td>\n",
              "      <td>left-0016.ppm</td>\n",
              "      <td>206</td>\n",
              "      <td>p09</td>\n",
              "    </tr>\n",
              "    <tr>\n",
              "      <th>2</th>\n",
              "      <td>2</td>\n",
              "      <td>/content/drive/My Drive/unsup-car-dataset/frei...</td>\n",
              "      <td>car010</td>\n",
              "      <td>left-0031.ppm</td>\n",
              "      <td>209</td>\n",
              "      <td>p09</td>\n",
              "    </tr>\n",
              "    <tr>\n",
              "      <th>3</th>\n",
              "      <td>3</td>\n",
              "      <td>/content/drive/My Drive/unsup-car-dataset/frei...</td>\n",
              "      <td>car010</td>\n",
              "      <td>left-0046.ppm</td>\n",
              "      <td>213</td>\n",
              "      <td>p09</td>\n",
              "    </tr>\n",
              "    <tr>\n",
              "      <th>4</th>\n",
              "      <td>4</td>\n",
              "      <td>/content/drive/My Drive/unsup-car-dataset/frei...</td>\n",
              "      <td>car010</td>\n",
              "      <td>left-0061.ppm</td>\n",
              "      <td>218</td>\n",
              "      <td>p09</td>\n",
              "    </tr>\n",
              "    <tr>\n",
              "      <th>...</th>\n",
              "      <td>...</td>\n",
              "      <td>...</td>\n",
              "      <td>...</td>\n",
              "      <td>...</td>\n",
              "      <td>...</td>\n",
              "      <td>...</td>\n",
              "    </tr>\n",
              "    <tr>\n",
              "      <th>118</th>\n",
              "      <td>118</td>\n",
              "      <td>/content/drive/My Drive/unsup-car-dataset/frei...</td>\n",
              "      <td>car010</td>\n",
              "      <td>left-1771.ppm</td>\n",
              "      <td>326</td>\n",
              "      <td>p10</td>\n",
              "    </tr>\n",
              "    <tr>\n",
              "      <th>119</th>\n",
              "      <td>119</td>\n",
              "      <td>/content/drive/My Drive/unsup-car-dataset/frei...</td>\n",
              "      <td>car010</td>\n",
              "      <td>left-1786.ppm</td>\n",
              "      <td>329</td>\n",
              "      <td>p10</td>\n",
              "    </tr>\n",
              "    <tr>\n",
              "      <th>120</th>\n",
              "      <td>120</td>\n",
              "      <td>/content/drive/My Drive/unsup-car-dataset/frei...</td>\n",
              "      <td>car010</td>\n",
              "      <td>left-1801.ppm</td>\n",
              "      <td>332</td>\n",
              "      <td>p10</td>\n",
              "    </tr>\n",
              "    <tr>\n",
              "      <th>121</th>\n",
              "      <td>121</td>\n",
              "      <td>/content/drive/My Drive/unsup-car-dataset/frei...</td>\n",
              "      <td>car010</td>\n",
              "      <td>left-1816.ppm</td>\n",
              "      <td>336</td>\n",
              "      <td>p10</td>\n",
              "    </tr>\n",
              "    <tr>\n",
              "      <th>122</th>\n",
              "      <td>122</td>\n",
              "      <td>/content/drive/My Drive/unsup-car-dataset/frei...</td>\n",
              "      <td>car010</td>\n",
              "      <td>left-1831.ppm</td>\n",
              "      <td>340</td>\n",
              "      <td>p10</td>\n",
              "    </tr>\n",
              "  </tbody>\n",
              "</table>\n",
              "<p>123 rows × 6 columns</p>\n",
              "</div>\n",
              "      <button class=\"colab-df-convert\" onclick=\"convertToInteractive('df-b221a284-d110-403a-a100-e0f6e030bfa7')\"\n",
              "              title=\"Convert this dataframe to an interactive table.\"\n",
              "              style=\"display:none;\">\n",
              "        \n",
              "  <svg xmlns=\"http://www.w3.org/2000/svg\" height=\"24px\"viewBox=\"0 0 24 24\"\n",
              "       width=\"24px\">\n",
              "    <path d=\"M0 0h24v24H0V0z\" fill=\"none\"/>\n",
              "    <path d=\"M18.56 5.44l.94 2.06.94-2.06 2.06-.94-2.06-.94-.94-2.06-.94 2.06-2.06.94zm-11 1L8.5 8.5l.94-2.06 2.06-.94-2.06-.94L8.5 2.5l-.94 2.06-2.06.94zm10 10l.94 2.06.94-2.06 2.06-.94-2.06-.94-.94-2.06-.94 2.06-2.06.94z\"/><path d=\"M17.41 7.96l-1.37-1.37c-.4-.4-.92-.59-1.43-.59-.52 0-1.04.2-1.43.59L10.3 9.45l-7.72 7.72c-.78.78-.78 2.05 0 2.83L4 21.41c.39.39.9.59 1.41.59.51 0 1.02-.2 1.41-.59l7.78-7.78 2.81-2.81c.8-.78.8-2.07 0-2.86zM5.41 20L4 18.59l7.72-7.72 1.47 1.35L5.41 20z\"/>\n",
              "  </svg>\n",
              "      </button>\n",
              "      \n",
              "  <style>\n",
              "    .colab-df-container {\n",
              "      display:flex;\n",
              "      flex-wrap:wrap;\n",
              "      gap: 12px;\n",
              "    }\n",
              "\n",
              "    .colab-df-convert {\n",
              "      background-color: #E8F0FE;\n",
              "      border: none;\n",
              "      border-radius: 50%;\n",
              "      cursor: pointer;\n",
              "      display: none;\n",
              "      fill: #1967D2;\n",
              "      height: 32px;\n",
              "      padding: 0 0 0 0;\n",
              "      width: 32px;\n",
              "    }\n",
              "\n",
              "    .colab-df-convert:hover {\n",
              "      background-color: #E2EBFA;\n",
              "      box-shadow: 0px 1px 2px rgba(60, 64, 67, 0.3), 0px 1px 3px 1px rgba(60, 64, 67, 0.15);\n",
              "      fill: #174EA6;\n",
              "    }\n",
              "\n",
              "    [theme=dark] .colab-df-convert {\n",
              "      background-color: #3B4455;\n",
              "      fill: #D2E3FC;\n",
              "    }\n",
              "\n",
              "    [theme=dark] .colab-df-convert:hover {\n",
              "      background-color: #434B5C;\n",
              "      box-shadow: 0px 1px 3px 1px rgba(0, 0, 0, 0.15);\n",
              "      filter: drop-shadow(0px 1px 2px rgba(0, 0, 0, 0.3));\n",
              "      fill: #FFFFFF;\n",
              "    }\n",
              "  </style>\n",
              "\n",
              "      <script>\n",
              "        const buttonEl =\n",
              "          document.querySelector('#df-b221a284-d110-403a-a100-e0f6e030bfa7 button.colab-df-convert');\n",
              "        buttonEl.style.display =\n",
              "          google.colab.kernel.accessAllowed ? 'block' : 'none';\n",
              "\n",
              "        async function convertToInteractive(key) {\n",
              "          const element = document.querySelector('#df-b221a284-d110-403a-a100-e0f6e030bfa7');\n",
              "          const dataTable =\n",
              "            await google.colab.kernel.invokeFunction('convertToInteractive',\n",
              "                                                     [key], {});\n",
              "          if (!dataTable) return;\n",
              "\n",
              "          const docLinkHtml = 'Like what you see? Visit the ' +\n",
              "            '<a target=\"_blank\" href=https://colab.research.google.com/notebooks/data_table.ipynb>data table notebook</a>'\n",
              "            + ' to learn more about interactive tables.';\n",
              "          element.innerHTML = '';\n",
              "          dataTable['output_type'] = 'display_data';\n",
              "          await google.colab.output.renderOutput(dataTable, element);\n",
              "          const docLink = document.createElement('div');\n",
              "          docLink.innerHTML = docLinkHtml;\n",
              "          element.appendChild(docLink);\n",
              "        }\n",
              "      </script>\n",
              "    </div>\n",
              "  </div>\n",
              "  "
            ]
          },
          "metadata": {},
          "execution_count": 105
        }
      ]
    },
    {
      "cell_type": "code",
      "source": [
        "test_1_dir = os.path.join(base_dir, 'car010')\n",
        "os.makedirs(test_1_dir, exist_ok=True)"
      ],
      "metadata": {
        "id": "tE82iiQB5ExU"
      },
      "execution_count": 106,
      "outputs": []
    },
    {
      "cell_type": "code",
      "source": [],
      "metadata": {
        "id": "b563JOnC5E2J"
      },
      "execution_count": null,
      "outputs": []
    },
    {
      "cell_type": "markdown",
      "source": [
        "## car011"
      ],
      "metadata": {
        "id": "yyKDufxS1QWI"
      }
    },
    {
      "cell_type": "code",
      "source": [
        "car011  = pd.read_csv(os.path.join(path,'car011.csv')) \n",
        "car011"
      ],
      "metadata": {
        "id": "GIl4pQZh5MsS",
        "outputId": "ce6ba1d4-64f5-4400-d34e-46138afaa413",
        "colab": {
          "base_uri": "https://localhost:8080/",
          "height": 423
        }
      },
      "execution_count": 107,
      "outputs": [
        {
          "output_type": "execute_result",
          "data": {
            "text/plain": [
              "     Unnamed: 0                                          Path_Name      ID  \\\n",
              "0             0  /content/drive/My Drive/unsup-car-dataset/frei...  car011   \n",
              "1             1  /content/drive/My Drive/unsup-car-dataset/frei...  car011   \n",
              "2             2  /content/drive/My Drive/unsup-car-dataset/frei...  car011   \n",
              "3             3  /content/drive/My Drive/unsup-car-dataset/frei...  car011   \n",
              "4             4  /content/drive/My Drive/unsup-car-dataset/frei...  car011   \n",
              "..          ...                                                ...     ...   \n",
              "118         118  /content/drive/My Drive/unsup-car-dataset/frei...  car011   \n",
              "119         119  /content/drive/My Drive/unsup-car-dataset/frei...  car011   \n",
              "120         120  /content/drive/My Drive/unsup-car-dataset/frei...  car011   \n",
              "121         121  /content/drive/My Drive/unsup-car-dataset/frei...  car011   \n",
              "122         122  /content/drive/My Drive/unsup-car-dataset/frei...  car011   \n",
              "\n",
              "              Name  Angle        P  \n",
              "0    left-0001.ppm     68  p01,p02  \n",
              "1    left-0019.ppm     68  p01,p02  \n",
              "2    left-0037.ppm     70  p01,p02  \n",
              "3    left-0055.ppm     73  p01,p02  \n",
              "4    left-0073.ppm     77  p01,p02  \n",
              "..             ...    ...      ...  \n",
              "118  left-2125.ppm     81  p01,p02  \n",
              "119  left-2143.ppm     85  p01,p02  \n",
              "120  left-2161.ppm     89  p01,p02  \n",
              "121  left-2179.ppm     94  p01,p02  \n",
              "122  left-2197.ppm     98  p01,p02  \n",
              "\n",
              "[123 rows x 6 columns]"
            ],
            "text/html": [
              "\n",
              "  <div id=\"df-e8e0d3fb-4b75-47c9-bfef-b2c407699e61\">\n",
              "    <div class=\"colab-df-container\">\n",
              "      <div>\n",
              "<style scoped>\n",
              "    .dataframe tbody tr th:only-of-type {\n",
              "        vertical-align: middle;\n",
              "    }\n",
              "\n",
              "    .dataframe tbody tr th {\n",
              "        vertical-align: top;\n",
              "    }\n",
              "\n",
              "    .dataframe thead th {\n",
              "        text-align: right;\n",
              "    }\n",
              "</style>\n",
              "<table border=\"1\" class=\"dataframe\">\n",
              "  <thead>\n",
              "    <tr style=\"text-align: right;\">\n",
              "      <th></th>\n",
              "      <th>Unnamed: 0</th>\n",
              "      <th>Path_Name</th>\n",
              "      <th>ID</th>\n",
              "      <th>Name</th>\n",
              "      <th>Angle</th>\n",
              "      <th>P</th>\n",
              "    </tr>\n",
              "  </thead>\n",
              "  <tbody>\n",
              "    <tr>\n",
              "      <th>0</th>\n",
              "      <td>0</td>\n",
              "      <td>/content/drive/My Drive/unsup-car-dataset/frei...</td>\n",
              "      <td>car011</td>\n",
              "      <td>left-0001.ppm</td>\n",
              "      <td>68</td>\n",
              "      <td>p01,p02</td>\n",
              "    </tr>\n",
              "    <tr>\n",
              "      <th>1</th>\n",
              "      <td>1</td>\n",
              "      <td>/content/drive/My Drive/unsup-car-dataset/frei...</td>\n",
              "      <td>car011</td>\n",
              "      <td>left-0019.ppm</td>\n",
              "      <td>68</td>\n",
              "      <td>p01,p02</td>\n",
              "    </tr>\n",
              "    <tr>\n",
              "      <th>2</th>\n",
              "      <td>2</td>\n",
              "      <td>/content/drive/My Drive/unsup-car-dataset/frei...</td>\n",
              "      <td>car011</td>\n",
              "      <td>left-0037.ppm</td>\n",
              "      <td>70</td>\n",
              "      <td>p01,p02</td>\n",
              "    </tr>\n",
              "    <tr>\n",
              "      <th>3</th>\n",
              "      <td>3</td>\n",
              "      <td>/content/drive/My Drive/unsup-car-dataset/frei...</td>\n",
              "      <td>car011</td>\n",
              "      <td>left-0055.ppm</td>\n",
              "      <td>73</td>\n",
              "      <td>p01,p02</td>\n",
              "    </tr>\n",
              "    <tr>\n",
              "      <th>4</th>\n",
              "      <td>4</td>\n",
              "      <td>/content/drive/My Drive/unsup-car-dataset/frei...</td>\n",
              "      <td>car011</td>\n",
              "      <td>left-0073.ppm</td>\n",
              "      <td>77</td>\n",
              "      <td>p01,p02</td>\n",
              "    </tr>\n",
              "    <tr>\n",
              "      <th>...</th>\n",
              "      <td>...</td>\n",
              "      <td>...</td>\n",
              "      <td>...</td>\n",
              "      <td>...</td>\n",
              "      <td>...</td>\n",
              "      <td>...</td>\n",
              "    </tr>\n",
              "    <tr>\n",
              "      <th>118</th>\n",
              "      <td>118</td>\n",
              "      <td>/content/drive/My Drive/unsup-car-dataset/frei...</td>\n",
              "      <td>car011</td>\n",
              "      <td>left-2125.ppm</td>\n",
              "      <td>81</td>\n",
              "      <td>p01,p02</td>\n",
              "    </tr>\n",
              "    <tr>\n",
              "      <th>119</th>\n",
              "      <td>119</td>\n",
              "      <td>/content/drive/My Drive/unsup-car-dataset/frei...</td>\n",
              "      <td>car011</td>\n",
              "      <td>left-2143.ppm</td>\n",
              "      <td>85</td>\n",
              "      <td>p01,p02</td>\n",
              "    </tr>\n",
              "    <tr>\n",
              "      <th>120</th>\n",
              "      <td>120</td>\n",
              "      <td>/content/drive/My Drive/unsup-car-dataset/frei...</td>\n",
              "      <td>car011</td>\n",
              "      <td>left-2161.ppm</td>\n",
              "      <td>89</td>\n",
              "      <td>p01,p02</td>\n",
              "    </tr>\n",
              "    <tr>\n",
              "      <th>121</th>\n",
              "      <td>121</td>\n",
              "      <td>/content/drive/My Drive/unsup-car-dataset/frei...</td>\n",
              "      <td>car011</td>\n",
              "      <td>left-2179.ppm</td>\n",
              "      <td>94</td>\n",
              "      <td>p01,p02</td>\n",
              "    </tr>\n",
              "    <tr>\n",
              "      <th>122</th>\n",
              "      <td>122</td>\n",
              "      <td>/content/drive/My Drive/unsup-car-dataset/frei...</td>\n",
              "      <td>car011</td>\n",
              "      <td>left-2197.ppm</td>\n",
              "      <td>98</td>\n",
              "      <td>p01,p02</td>\n",
              "    </tr>\n",
              "  </tbody>\n",
              "</table>\n",
              "<p>123 rows × 6 columns</p>\n",
              "</div>\n",
              "      <button class=\"colab-df-convert\" onclick=\"convertToInteractive('df-e8e0d3fb-4b75-47c9-bfef-b2c407699e61')\"\n",
              "              title=\"Convert this dataframe to an interactive table.\"\n",
              "              style=\"display:none;\">\n",
              "        \n",
              "  <svg xmlns=\"http://www.w3.org/2000/svg\" height=\"24px\"viewBox=\"0 0 24 24\"\n",
              "       width=\"24px\">\n",
              "    <path d=\"M0 0h24v24H0V0z\" fill=\"none\"/>\n",
              "    <path d=\"M18.56 5.44l.94 2.06.94-2.06 2.06-.94-2.06-.94-.94-2.06-.94 2.06-2.06.94zm-11 1L8.5 8.5l.94-2.06 2.06-.94-2.06-.94L8.5 2.5l-.94 2.06-2.06.94zm10 10l.94 2.06.94-2.06 2.06-.94-2.06-.94-.94-2.06-.94 2.06-2.06.94z\"/><path d=\"M17.41 7.96l-1.37-1.37c-.4-.4-.92-.59-1.43-.59-.52 0-1.04.2-1.43.59L10.3 9.45l-7.72 7.72c-.78.78-.78 2.05 0 2.83L4 21.41c.39.39.9.59 1.41.59.51 0 1.02-.2 1.41-.59l7.78-7.78 2.81-2.81c.8-.78.8-2.07 0-2.86zM5.41 20L4 18.59l7.72-7.72 1.47 1.35L5.41 20z\"/>\n",
              "  </svg>\n",
              "      </button>\n",
              "      \n",
              "  <style>\n",
              "    .colab-df-container {\n",
              "      display:flex;\n",
              "      flex-wrap:wrap;\n",
              "      gap: 12px;\n",
              "    }\n",
              "\n",
              "    .colab-df-convert {\n",
              "      background-color: #E8F0FE;\n",
              "      border: none;\n",
              "      border-radius: 50%;\n",
              "      cursor: pointer;\n",
              "      display: none;\n",
              "      fill: #1967D2;\n",
              "      height: 32px;\n",
              "      padding: 0 0 0 0;\n",
              "      width: 32px;\n",
              "    }\n",
              "\n",
              "    .colab-df-convert:hover {\n",
              "      background-color: #E2EBFA;\n",
              "      box-shadow: 0px 1px 2px rgba(60, 64, 67, 0.3), 0px 1px 3px 1px rgba(60, 64, 67, 0.15);\n",
              "      fill: #174EA6;\n",
              "    }\n",
              "\n",
              "    [theme=dark] .colab-df-convert {\n",
              "      background-color: #3B4455;\n",
              "      fill: #D2E3FC;\n",
              "    }\n",
              "\n",
              "    [theme=dark] .colab-df-convert:hover {\n",
              "      background-color: #434B5C;\n",
              "      box-shadow: 0px 1px 3px 1px rgba(0, 0, 0, 0.15);\n",
              "      filter: drop-shadow(0px 1px 2px rgba(0, 0, 0, 0.3));\n",
              "      fill: #FFFFFF;\n",
              "    }\n",
              "  </style>\n",
              "\n",
              "      <script>\n",
              "        const buttonEl =\n",
              "          document.querySelector('#df-e8e0d3fb-4b75-47c9-bfef-b2c407699e61 button.colab-df-convert');\n",
              "        buttonEl.style.display =\n",
              "          google.colab.kernel.accessAllowed ? 'block' : 'none';\n",
              "\n",
              "        async function convertToInteractive(key) {\n",
              "          const element = document.querySelector('#df-e8e0d3fb-4b75-47c9-bfef-b2c407699e61');\n",
              "          const dataTable =\n",
              "            await google.colab.kernel.invokeFunction('convertToInteractive',\n",
              "                                                     [key], {});\n",
              "          if (!dataTable) return;\n",
              "\n",
              "          const docLinkHtml = 'Like what you see? Visit the ' +\n",
              "            '<a target=\"_blank\" href=https://colab.research.google.com/notebooks/data_table.ipynb>data table notebook</a>'\n",
              "            + ' to learn more about interactive tables.';\n",
              "          element.innerHTML = '';\n",
              "          dataTable['output_type'] = 'display_data';\n",
              "          await google.colab.output.renderOutput(dataTable, element);\n",
              "          const docLink = document.createElement('div');\n",
              "          docLink.innerHTML = docLinkHtml;\n",
              "          element.appendChild(docLink);\n",
              "        }\n",
              "      </script>\n",
              "    </div>\n",
              "  </div>\n",
              "  "
            ]
          },
          "metadata": {},
          "execution_count": 107
        }
      ]
    },
    {
      "cell_type": "code",
      "source": [
        "test_1_dir = os.path.join(base_dir, 'car011')\n",
        "os.makedirs(test_1_dir, exist_ok=True)"
      ],
      "metadata": {
        "id": "nr1xUW035MvA"
      },
      "execution_count": 108,
      "outputs": []
    },
    {
      "cell_type": "code",
      "source": [],
      "metadata": {
        "id": "jpJRKzLT5MyG"
      },
      "execution_count": null,
      "outputs": []
    },
    {
      "cell_type": "markdown",
      "source": [
        "## car012"
      ],
      "metadata": {
        "id": "N8iC7Kya1QZ2"
      }
    },
    {
      "cell_type": "code",
      "source": [
        "car012  = pd.read_csv(os.path.join(path,'car012.csv')) \n",
        "car012"
      ],
      "metadata": {
        "id": "nPEd5Ctm5eHx",
        "outputId": "7cbf22dc-1926-4002-d08d-31b65088c9a7",
        "colab": {
          "base_uri": "https://localhost:8080/",
          "height": 423
        }
      },
      "execution_count": 109,
      "outputs": [
        {
          "output_type": "execute_result",
          "data": {
            "text/plain": [
              "     Unnamed: 0                                          Path_Name      ID  \\\n",
              "0             0  /content/drive/My Drive/unsup-car-dataset/frei...  car012   \n",
              "1             1  /content/drive/My Drive/unsup-car-dataset/frei...  car012   \n",
              "2             2  /content/drive/My Drive/unsup-car-dataset/frei...  car012   \n",
              "3             3  /content/drive/My Drive/unsup-car-dataset/frei...  car012   \n",
              "4             4  /content/drive/My Drive/unsup-car-dataset/frei...  car012   \n",
              "..          ...                                                ...     ...   \n",
              "119         119  /content/drive/My Drive/unsup-car-dataset/frei...  car012   \n",
              "120         120  /content/drive/My Drive/unsup-car-dataset/frei...  car012   \n",
              "121         121  /content/drive/My Drive/unsup-car-dataset/frei...  car012   \n",
              "122         122  /content/drive/My Drive/unsup-car-dataset/frei...  car012   \n",
              "123         123  /content/drive/My Drive/unsup-car-dataset/frei...  car012   \n",
              "\n",
              "              Name  Angle        P  \n",
              "0    left-0001.ppm    117      p03  \n",
              "1    left-0024.ppm    116      p03  \n",
              "2    left-0047.ppm    115  p01,p02  \n",
              "3    left-0070.ppm    111  p01,p02  \n",
              "4    left-0093.ppm    107  p01,p02  \n",
              "..             ...    ...      ...  \n",
              "119  left-2738.ppm     86  p01,p02  \n",
              "120  left-2761.ppm     81  p01,p02  \n",
              "121  left-2784.ppm     77  p01,p02  \n",
              "122  left-2807.ppm     72  p01,p02  \n",
              "123  left-2830.ppm     68  p01,p02  \n",
              "\n",
              "[124 rows x 6 columns]"
            ],
            "text/html": [
              "\n",
              "  <div id=\"df-72782b96-9157-48e3-99e0-7e4d52c4af18\">\n",
              "    <div class=\"colab-df-container\">\n",
              "      <div>\n",
              "<style scoped>\n",
              "    .dataframe tbody tr th:only-of-type {\n",
              "        vertical-align: middle;\n",
              "    }\n",
              "\n",
              "    .dataframe tbody tr th {\n",
              "        vertical-align: top;\n",
              "    }\n",
              "\n",
              "    .dataframe thead th {\n",
              "        text-align: right;\n",
              "    }\n",
              "</style>\n",
              "<table border=\"1\" class=\"dataframe\">\n",
              "  <thead>\n",
              "    <tr style=\"text-align: right;\">\n",
              "      <th></th>\n",
              "      <th>Unnamed: 0</th>\n",
              "      <th>Path_Name</th>\n",
              "      <th>ID</th>\n",
              "      <th>Name</th>\n",
              "      <th>Angle</th>\n",
              "      <th>P</th>\n",
              "    </tr>\n",
              "  </thead>\n",
              "  <tbody>\n",
              "    <tr>\n",
              "      <th>0</th>\n",
              "      <td>0</td>\n",
              "      <td>/content/drive/My Drive/unsup-car-dataset/frei...</td>\n",
              "      <td>car012</td>\n",
              "      <td>left-0001.ppm</td>\n",
              "      <td>117</td>\n",
              "      <td>p03</td>\n",
              "    </tr>\n",
              "    <tr>\n",
              "      <th>1</th>\n",
              "      <td>1</td>\n",
              "      <td>/content/drive/My Drive/unsup-car-dataset/frei...</td>\n",
              "      <td>car012</td>\n",
              "      <td>left-0024.ppm</td>\n",
              "      <td>116</td>\n",
              "      <td>p03</td>\n",
              "    </tr>\n",
              "    <tr>\n",
              "      <th>2</th>\n",
              "      <td>2</td>\n",
              "      <td>/content/drive/My Drive/unsup-car-dataset/frei...</td>\n",
              "      <td>car012</td>\n",
              "      <td>left-0047.ppm</td>\n",
              "      <td>115</td>\n",
              "      <td>p01,p02</td>\n",
              "    </tr>\n",
              "    <tr>\n",
              "      <th>3</th>\n",
              "      <td>3</td>\n",
              "      <td>/content/drive/My Drive/unsup-car-dataset/frei...</td>\n",
              "      <td>car012</td>\n",
              "      <td>left-0070.ppm</td>\n",
              "      <td>111</td>\n",
              "      <td>p01,p02</td>\n",
              "    </tr>\n",
              "    <tr>\n",
              "      <th>4</th>\n",
              "      <td>4</td>\n",
              "      <td>/content/drive/My Drive/unsup-car-dataset/frei...</td>\n",
              "      <td>car012</td>\n",
              "      <td>left-0093.ppm</td>\n",
              "      <td>107</td>\n",
              "      <td>p01,p02</td>\n",
              "    </tr>\n",
              "    <tr>\n",
              "      <th>...</th>\n",
              "      <td>...</td>\n",
              "      <td>...</td>\n",
              "      <td>...</td>\n",
              "      <td>...</td>\n",
              "      <td>...</td>\n",
              "      <td>...</td>\n",
              "    </tr>\n",
              "    <tr>\n",
              "      <th>119</th>\n",
              "      <td>119</td>\n",
              "      <td>/content/drive/My Drive/unsup-car-dataset/frei...</td>\n",
              "      <td>car012</td>\n",
              "      <td>left-2738.ppm</td>\n",
              "      <td>86</td>\n",
              "      <td>p01,p02</td>\n",
              "    </tr>\n",
              "    <tr>\n",
              "      <th>120</th>\n",
              "      <td>120</td>\n",
              "      <td>/content/drive/My Drive/unsup-car-dataset/frei...</td>\n",
              "      <td>car012</td>\n",
              "      <td>left-2761.ppm</td>\n",
              "      <td>81</td>\n",
              "      <td>p01,p02</td>\n",
              "    </tr>\n",
              "    <tr>\n",
              "      <th>121</th>\n",
              "      <td>121</td>\n",
              "      <td>/content/drive/My Drive/unsup-car-dataset/frei...</td>\n",
              "      <td>car012</td>\n",
              "      <td>left-2784.ppm</td>\n",
              "      <td>77</td>\n",
              "      <td>p01,p02</td>\n",
              "    </tr>\n",
              "    <tr>\n",
              "      <th>122</th>\n",
              "      <td>122</td>\n",
              "      <td>/content/drive/My Drive/unsup-car-dataset/frei...</td>\n",
              "      <td>car012</td>\n",
              "      <td>left-2807.ppm</td>\n",
              "      <td>72</td>\n",
              "      <td>p01,p02</td>\n",
              "    </tr>\n",
              "    <tr>\n",
              "      <th>123</th>\n",
              "      <td>123</td>\n",
              "      <td>/content/drive/My Drive/unsup-car-dataset/frei...</td>\n",
              "      <td>car012</td>\n",
              "      <td>left-2830.ppm</td>\n",
              "      <td>68</td>\n",
              "      <td>p01,p02</td>\n",
              "    </tr>\n",
              "  </tbody>\n",
              "</table>\n",
              "<p>124 rows × 6 columns</p>\n",
              "</div>\n",
              "      <button class=\"colab-df-convert\" onclick=\"convertToInteractive('df-72782b96-9157-48e3-99e0-7e4d52c4af18')\"\n",
              "              title=\"Convert this dataframe to an interactive table.\"\n",
              "              style=\"display:none;\">\n",
              "        \n",
              "  <svg xmlns=\"http://www.w3.org/2000/svg\" height=\"24px\"viewBox=\"0 0 24 24\"\n",
              "       width=\"24px\">\n",
              "    <path d=\"M0 0h24v24H0V0z\" fill=\"none\"/>\n",
              "    <path d=\"M18.56 5.44l.94 2.06.94-2.06 2.06-.94-2.06-.94-.94-2.06-.94 2.06-2.06.94zm-11 1L8.5 8.5l.94-2.06 2.06-.94-2.06-.94L8.5 2.5l-.94 2.06-2.06.94zm10 10l.94 2.06.94-2.06 2.06-.94-2.06-.94-.94-2.06-.94 2.06-2.06.94z\"/><path d=\"M17.41 7.96l-1.37-1.37c-.4-.4-.92-.59-1.43-.59-.52 0-1.04.2-1.43.59L10.3 9.45l-7.72 7.72c-.78.78-.78 2.05 0 2.83L4 21.41c.39.39.9.59 1.41.59.51 0 1.02-.2 1.41-.59l7.78-7.78 2.81-2.81c.8-.78.8-2.07 0-2.86zM5.41 20L4 18.59l7.72-7.72 1.47 1.35L5.41 20z\"/>\n",
              "  </svg>\n",
              "      </button>\n",
              "      \n",
              "  <style>\n",
              "    .colab-df-container {\n",
              "      display:flex;\n",
              "      flex-wrap:wrap;\n",
              "      gap: 12px;\n",
              "    }\n",
              "\n",
              "    .colab-df-convert {\n",
              "      background-color: #E8F0FE;\n",
              "      border: none;\n",
              "      border-radius: 50%;\n",
              "      cursor: pointer;\n",
              "      display: none;\n",
              "      fill: #1967D2;\n",
              "      height: 32px;\n",
              "      padding: 0 0 0 0;\n",
              "      width: 32px;\n",
              "    }\n",
              "\n",
              "    .colab-df-convert:hover {\n",
              "      background-color: #E2EBFA;\n",
              "      box-shadow: 0px 1px 2px rgba(60, 64, 67, 0.3), 0px 1px 3px 1px rgba(60, 64, 67, 0.15);\n",
              "      fill: #174EA6;\n",
              "    }\n",
              "\n",
              "    [theme=dark] .colab-df-convert {\n",
              "      background-color: #3B4455;\n",
              "      fill: #D2E3FC;\n",
              "    }\n",
              "\n",
              "    [theme=dark] .colab-df-convert:hover {\n",
              "      background-color: #434B5C;\n",
              "      box-shadow: 0px 1px 3px 1px rgba(0, 0, 0, 0.15);\n",
              "      filter: drop-shadow(0px 1px 2px rgba(0, 0, 0, 0.3));\n",
              "      fill: #FFFFFF;\n",
              "    }\n",
              "  </style>\n",
              "\n",
              "      <script>\n",
              "        const buttonEl =\n",
              "          document.querySelector('#df-72782b96-9157-48e3-99e0-7e4d52c4af18 button.colab-df-convert');\n",
              "        buttonEl.style.display =\n",
              "          google.colab.kernel.accessAllowed ? 'block' : 'none';\n",
              "\n",
              "        async function convertToInteractive(key) {\n",
              "          const element = document.querySelector('#df-72782b96-9157-48e3-99e0-7e4d52c4af18');\n",
              "          const dataTable =\n",
              "            await google.colab.kernel.invokeFunction('convertToInteractive',\n",
              "                                                     [key], {});\n",
              "          if (!dataTable) return;\n",
              "\n",
              "          const docLinkHtml = 'Like what you see? Visit the ' +\n",
              "            '<a target=\"_blank\" href=https://colab.research.google.com/notebooks/data_table.ipynb>data table notebook</a>'\n",
              "            + ' to learn more about interactive tables.';\n",
              "          element.innerHTML = '';\n",
              "          dataTable['output_type'] = 'display_data';\n",
              "          await google.colab.output.renderOutput(dataTable, element);\n",
              "          const docLink = document.createElement('div');\n",
              "          docLink.innerHTML = docLinkHtml;\n",
              "          element.appendChild(docLink);\n",
              "        }\n",
              "      </script>\n",
              "    </div>\n",
              "  </div>\n",
              "  "
            ]
          },
          "metadata": {},
          "execution_count": 109
        }
      ]
    },
    {
      "cell_type": "code",
      "source": [
        "test_1_dir = os.path.join(base_dir, 'car012')\n",
        "os.makedirs(test_1_dir, exist_ok=True)"
      ],
      "metadata": {
        "id": "F-Z3QOaC5eLe"
      },
      "execution_count": 110,
      "outputs": []
    },
    {
      "cell_type": "code",
      "source": [],
      "metadata": {
        "id": "i6iEX-305eQX"
      },
      "execution_count": null,
      "outputs": []
    },
    {
      "cell_type": "markdown",
      "source": [
        "## car013"
      ],
      "metadata": {
        "id": "GlNDUMcf1kRm"
      }
    },
    {
      "cell_type": "code",
      "source": [
        "car013  = pd.read_csv(os.path.join(path,'car013.csv')) \n",
        "car013"
      ],
      "metadata": {
        "id": "5Sy7jx0X5m9Q",
        "outputId": "612d36d9-5048-41b0-e951-1fa7b50b83b9",
        "colab": {
          "base_uri": "https://localhost:8080/",
          "height": 423
        }
      },
      "execution_count": 111,
      "outputs": [
        {
          "output_type": "execute_result",
          "data": {
            "text/plain": [
              "     Unnamed: 0                                          Path_Name      ID  \\\n",
              "0             0  /content/drive/My Drive/unsup-car-dataset/frei...  car013   \n",
              "1             1  /content/drive/My Drive/unsup-car-dataset/frei...  car013   \n",
              "2             2  /content/drive/My Drive/unsup-car-dataset/frei...  car013   \n",
              "3             3  /content/drive/My Drive/unsup-car-dataset/frei...  car013   \n",
              "4             4  /content/drive/My Drive/unsup-car-dataset/frei...  car013   \n",
              "..          ...                                                ...     ...   \n",
              "118         118  /content/drive/My Drive/unsup-car-dataset/frei...  car013   \n",
              "119         119  /content/drive/My Drive/unsup-car-dataset/frei...  car013   \n",
              "120         120  /content/drive/My Drive/unsup-car-dataset/frei...  car013   \n",
              "121         121  /content/drive/My Drive/unsup-car-dataset/frei...  car013   \n",
              "122         122  /content/drive/My Drive/unsup-car-dataset/frei...  car013   \n",
              "\n",
              "              Name  Angle        P  \n",
              "0    left-0001.ppm     71  p01,p02  \n",
              "1    left-0016.ppm     71  p01,p02  \n",
              "2    left-0031.ppm     73  p01,p02  \n",
              "3    left-0046.ppm     74  p01,p02  \n",
              "4    left-0061.ppm     76  p01,p02  \n",
              "..             ...    ...      ...  \n",
              "118  left-1771.ppm     72  p01,p02  \n",
              "119  left-1786.ppm     74  p01,p02  \n",
              "120  left-1801.ppm     76  p01,p02  \n",
              "121  left-1816.ppm     78  p01,p02  \n",
              "122  left-1831.ppm     80  p01,p02  \n",
              "\n",
              "[123 rows x 6 columns]"
            ],
            "text/html": [
              "\n",
              "  <div id=\"df-c816e2dd-b619-4a79-bc3f-8a968e6fda8c\">\n",
              "    <div class=\"colab-df-container\">\n",
              "      <div>\n",
              "<style scoped>\n",
              "    .dataframe tbody tr th:only-of-type {\n",
              "        vertical-align: middle;\n",
              "    }\n",
              "\n",
              "    .dataframe tbody tr th {\n",
              "        vertical-align: top;\n",
              "    }\n",
              "\n",
              "    .dataframe thead th {\n",
              "        text-align: right;\n",
              "    }\n",
              "</style>\n",
              "<table border=\"1\" class=\"dataframe\">\n",
              "  <thead>\n",
              "    <tr style=\"text-align: right;\">\n",
              "      <th></th>\n",
              "      <th>Unnamed: 0</th>\n",
              "      <th>Path_Name</th>\n",
              "      <th>ID</th>\n",
              "      <th>Name</th>\n",
              "      <th>Angle</th>\n",
              "      <th>P</th>\n",
              "    </tr>\n",
              "  </thead>\n",
              "  <tbody>\n",
              "    <tr>\n",
              "      <th>0</th>\n",
              "      <td>0</td>\n",
              "      <td>/content/drive/My Drive/unsup-car-dataset/frei...</td>\n",
              "      <td>car013</td>\n",
              "      <td>left-0001.ppm</td>\n",
              "      <td>71</td>\n",
              "      <td>p01,p02</td>\n",
              "    </tr>\n",
              "    <tr>\n",
              "      <th>1</th>\n",
              "      <td>1</td>\n",
              "      <td>/content/drive/My Drive/unsup-car-dataset/frei...</td>\n",
              "      <td>car013</td>\n",
              "      <td>left-0016.ppm</td>\n",
              "      <td>71</td>\n",
              "      <td>p01,p02</td>\n",
              "    </tr>\n",
              "    <tr>\n",
              "      <th>2</th>\n",
              "      <td>2</td>\n",
              "      <td>/content/drive/My Drive/unsup-car-dataset/frei...</td>\n",
              "      <td>car013</td>\n",
              "      <td>left-0031.ppm</td>\n",
              "      <td>73</td>\n",
              "      <td>p01,p02</td>\n",
              "    </tr>\n",
              "    <tr>\n",
              "      <th>3</th>\n",
              "      <td>3</td>\n",
              "      <td>/content/drive/My Drive/unsup-car-dataset/frei...</td>\n",
              "      <td>car013</td>\n",
              "      <td>left-0046.ppm</td>\n",
              "      <td>74</td>\n",
              "      <td>p01,p02</td>\n",
              "    </tr>\n",
              "    <tr>\n",
              "      <th>4</th>\n",
              "      <td>4</td>\n",
              "      <td>/content/drive/My Drive/unsup-car-dataset/frei...</td>\n",
              "      <td>car013</td>\n",
              "      <td>left-0061.ppm</td>\n",
              "      <td>76</td>\n",
              "      <td>p01,p02</td>\n",
              "    </tr>\n",
              "    <tr>\n",
              "      <th>...</th>\n",
              "      <td>...</td>\n",
              "      <td>...</td>\n",
              "      <td>...</td>\n",
              "      <td>...</td>\n",
              "      <td>...</td>\n",
              "      <td>...</td>\n",
              "    </tr>\n",
              "    <tr>\n",
              "      <th>118</th>\n",
              "      <td>118</td>\n",
              "      <td>/content/drive/My Drive/unsup-car-dataset/frei...</td>\n",
              "      <td>car013</td>\n",
              "      <td>left-1771.ppm</td>\n",
              "      <td>72</td>\n",
              "      <td>p01,p02</td>\n",
              "    </tr>\n",
              "    <tr>\n",
              "      <th>119</th>\n",
              "      <td>119</td>\n",
              "      <td>/content/drive/My Drive/unsup-car-dataset/frei...</td>\n",
              "      <td>car013</td>\n",
              "      <td>left-1786.ppm</td>\n",
              "      <td>74</td>\n",
              "      <td>p01,p02</td>\n",
              "    </tr>\n",
              "    <tr>\n",
              "      <th>120</th>\n",
              "      <td>120</td>\n",
              "      <td>/content/drive/My Drive/unsup-car-dataset/frei...</td>\n",
              "      <td>car013</td>\n",
              "      <td>left-1801.ppm</td>\n",
              "      <td>76</td>\n",
              "      <td>p01,p02</td>\n",
              "    </tr>\n",
              "    <tr>\n",
              "      <th>121</th>\n",
              "      <td>121</td>\n",
              "      <td>/content/drive/My Drive/unsup-car-dataset/frei...</td>\n",
              "      <td>car013</td>\n",
              "      <td>left-1816.ppm</td>\n",
              "      <td>78</td>\n",
              "      <td>p01,p02</td>\n",
              "    </tr>\n",
              "    <tr>\n",
              "      <th>122</th>\n",
              "      <td>122</td>\n",
              "      <td>/content/drive/My Drive/unsup-car-dataset/frei...</td>\n",
              "      <td>car013</td>\n",
              "      <td>left-1831.ppm</td>\n",
              "      <td>80</td>\n",
              "      <td>p01,p02</td>\n",
              "    </tr>\n",
              "  </tbody>\n",
              "</table>\n",
              "<p>123 rows × 6 columns</p>\n",
              "</div>\n",
              "      <button class=\"colab-df-convert\" onclick=\"convertToInteractive('df-c816e2dd-b619-4a79-bc3f-8a968e6fda8c')\"\n",
              "              title=\"Convert this dataframe to an interactive table.\"\n",
              "              style=\"display:none;\">\n",
              "        \n",
              "  <svg xmlns=\"http://www.w3.org/2000/svg\" height=\"24px\"viewBox=\"0 0 24 24\"\n",
              "       width=\"24px\">\n",
              "    <path d=\"M0 0h24v24H0V0z\" fill=\"none\"/>\n",
              "    <path d=\"M18.56 5.44l.94 2.06.94-2.06 2.06-.94-2.06-.94-.94-2.06-.94 2.06-2.06.94zm-11 1L8.5 8.5l.94-2.06 2.06-.94-2.06-.94L8.5 2.5l-.94 2.06-2.06.94zm10 10l.94 2.06.94-2.06 2.06-.94-2.06-.94-.94-2.06-.94 2.06-2.06.94z\"/><path d=\"M17.41 7.96l-1.37-1.37c-.4-.4-.92-.59-1.43-.59-.52 0-1.04.2-1.43.59L10.3 9.45l-7.72 7.72c-.78.78-.78 2.05 0 2.83L4 21.41c.39.39.9.59 1.41.59.51 0 1.02-.2 1.41-.59l7.78-7.78 2.81-2.81c.8-.78.8-2.07 0-2.86zM5.41 20L4 18.59l7.72-7.72 1.47 1.35L5.41 20z\"/>\n",
              "  </svg>\n",
              "      </button>\n",
              "      \n",
              "  <style>\n",
              "    .colab-df-container {\n",
              "      display:flex;\n",
              "      flex-wrap:wrap;\n",
              "      gap: 12px;\n",
              "    }\n",
              "\n",
              "    .colab-df-convert {\n",
              "      background-color: #E8F0FE;\n",
              "      border: none;\n",
              "      border-radius: 50%;\n",
              "      cursor: pointer;\n",
              "      display: none;\n",
              "      fill: #1967D2;\n",
              "      height: 32px;\n",
              "      padding: 0 0 0 0;\n",
              "      width: 32px;\n",
              "    }\n",
              "\n",
              "    .colab-df-convert:hover {\n",
              "      background-color: #E2EBFA;\n",
              "      box-shadow: 0px 1px 2px rgba(60, 64, 67, 0.3), 0px 1px 3px 1px rgba(60, 64, 67, 0.15);\n",
              "      fill: #174EA6;\n",
              "    }\n",
              "\n",
              "    [theme=dark] .colab-df-convert {\n",
              "      background-color: #3B4455;\n",
              "      fill: #D2E3FC;\n",
              "    }\n",
              "\n",
              "    [theme=dark] .colab-df-convert:hover {\n",
              "      background-color: #434B5C;\n",
              "      box-shadow: 0px 1px 3px 1px rgba(0, 0, 0, 0.15);\n",
              "      filter: drop-shadow(0px 1px 2px rgba(0, 0, 0, 0.3));\n",
              "      fill: #FFFFFF;\n",
              "    }\n",
              "  </style>\n",
              "\n",
              "      <script>\n",
              "        const buttonEl =\n",
              "          document.querySelector('#df-c816e2dd-b619-4a79-bc3f-8a968e6fda8c button.colab-df-convert');\n",
              "        buttonEl.style.display =\n",
              "          google.colab.kernel.accessAllowed ? 'block' : 'none';\n",
              "\n",
              "        async function convertToInteractive(key) {\n",
              "          const element = document.querySelector('#df-c816e2dd-b619-4a79-bc3f-8a968e6fda8c');\n",
              "          const dataTable =\n",
              "            await google.colab.kernel.invokeFunction('convertToInteractive',\n",
              "                                                     [key], {});\n",
              "          if (!dataTable) return;\n",
              "\n",
              "          const docLinkHtml = 'Like what you see? Visit the ' +\n",
              "            '<a target=\"_blank\" href=https://colab.research.google.com/notebooks/data_table.ipynb>data table notebook</a>'\n",
              "            + ' to learn more about interactive tables.';\n",
              "          element.innerHTML = '';\n",
              "          dataTable['output_type'] = 'display_data';\n",
              "          await google.colab.output.renderOutput(dataTable, element);\n",
              "          const docLink = document.createElement('div');\n",
              "          docLink.innerHTML = docLinkHtml;\n",
              "          element.appendChild(docLink);\n",
              "        }\n",
              "      </script>\n",
              "    </div>\n",
              "  </div>\n",
              "  "
            ]
          },
          "metadata": {},
          "execution_count": 111
        }
      ]
    },
    {
      "cell_type": "code",
      "source": [
        "test_1_dir = os.path.join(base_dir, 'car013')\n",
        "os.makedirs(test_1_dir, exist_ok=True)"
      ],
      "metadata": {
        "id": "E-PgqBhj5nAI"
      },
      "execution_count": 112,
      "outputs": []
    },
    {
      "cell_type": "code",
      "source": [],
      "metadata": {
        "id": "TiFudpIV5nEN"
      },
      "execution_count": null,
      "outputs": []
    },
    {
      "cell_type": "markdown",
      "source": [
        "## car015"
      ],
      "metadata": {
        "id": "fHpuwoXm1kXU"
      }
    },
    {
      "cell_type": "code",
      "source": [
        "car015  = pd.read_csv(os.path.join(path,'car015.csv')) \n",
        "car015"
      ],
      "metadata": {
        "id": "S6AuxkCL55-Q",
        "outputId": "66ccf5d8-8c9b-41dd-9ce9-5cc876a65bd4",
        "colab": {
          "base_uri": "https://localhost:8080/",
          "height": 423
        }
      },
      "execution_count": 113,
      "outputs": [
        {
          "output_type": "execute_result",
          "data": {
            "text/plain": [
              "     Unnamed: 0                                          Path_Name      ID  \\\n",
              "0             0  /content/drive/My Drive/unsup-car-dataset/frei...  car015   \n",
              "1             1  /content/drive/My Drive/unsup-car-dataset/frei...  car015   \n",
              "2             2  /content/drive/My Drive/unsup-car-dataset/frei...  car015   \n",
              "3             3  /content/drive/My Drive/unsup-car-dataset/frei...  car015   \n",
              "4             4  /content/drive/My Drive/unsup-car-dataset/frei...  car015   \n",
              "..          ...                                                ...     ...   \n",
              "118         118  /content/drive/My Drive/unsup-car-dataset/frei...  car015   \n",
              "119         119  /content/drive/My Drive/unsup-car-dataset/frei...  car015   \n",
              "120         120  /content/drive/My Drive/unsup-car-dataset/frei...  car015   \n",
              "121         121  /content/drive/My Drive/unsup-car-dataset/frei...  car015   \n",
              "122         122  /content/drive/My Drive/unsup-car-dataset/frei...  car015   \n",
              "\n",
              "              Name  Angle        P  \n",
              "0    left-0001.ppm    111  p01,p02  \n",
              "1    left-0024.ppm    111  p01,p02  \n",
              "2    left-0047.ppm    111  p01,p02  \n",
              "3    left-0070.ppm    110  p01,p02  \n",
              "4    left-0093.ppm    111  p01,p02  \n",
              "..             ...    ...      ...  \n",
              "118  left-2715.ppm    126      p03  \n",
              "119  left-2738.ppm    130      p03  \n",
              "120  left-2761.ppm    136      p07  \n",
              "121  left-2784.ppm    139      p07  \n",
              "122  left-2807.ppm    142      p07  \n",
              "\n",
              "[123 rows x 6 columns]"
            ],
            "text/html": [
              "\n",
              "  <div id=\"df-b2819e8f-4de5-47c5-86b1-8fc14f32b949\">\n",
              "    <div class=\"colab-df-container\">\n",
              "      <div>\n",
              "<style scoped>\n",
              "    .dataframe tbody tr th:only-of-type {\n",
              "        vertical-align: middle;\n",
              "    }\n",
              "\n",
              "    .dataframe tbody tr th {\n",
              "        vertical-align: top;\n",
              "    }\n",
              "\n",
              "    .dataframe thead th {\n",
              "        text-align: right;\n",
              "    }\n",
              "</style>\n",
              "<table border=\"1\" class=\"dataframe\">\n",
              "  <thead>\n",
              "    <tr style=\"text-align: right;\">\n",
              "      <th></th>\n",
              "      <th>Unnamed: 0</th>\n",
              "      <th>Path_Name</th>\n",
              "      <th>ID</th>\n",
              "      <th>Name</th>\n",
              "      <th>Angle</th>\n",
              "      <th>P</th>\n",
              "    </tr>\n",
              "  </thead>\n",
              "  <tbody>\n",
              "    <tr>\n",
              "      <th>0</th>\n",
              "      <td>0</td>\n",
              "      <td>/content/drive/My Drive/unsup-car-dataset/frei...</td>\n",
              "      <td>car015</td>\n",
              "      <td>left-0001.ppm</td>\n",
              "      <td>111</td>\n",
              "      <td>p01,p02</td>\n",
              "    </tr>\n",
              "    <tr>\n",
              "      <th>1</th>\n",
              "      <td>1</td>\n",
              "      <td>/content/drive/My Drive/unsup-car-dataset/frei...</td>\n",
              "      <td>car015</td>\n",
              "      <td>left-0024.ppm</td>\n",
              "      <td>111</td>\n",
              "      <td>p01,p02</td>\n",
              "    </tr>\n",
              "    <tr>\n",
              "      <th>2</th>\n",
              "      <td>2</td>\n",
              "      <td>/content/drive/My Drive/unsup-car-dataset/frei...</td>\n",
              "      <td>car015</td>\n",
              "      <td>left-0047.ppm</td>\n",
              "      <td>111</td>\n",
              "      <td>p01,p02</td>\n",
              "    </tr>\n",
              "    <tr>\n",
              "      <th>3</th>\n",
              "      <td>3</td>\n",
              "      <td>/content/drive/My Drive/unsup-car-dataset/frei...</td>\n",
              "      <td>car015</td>\n",
              "      <td>left-0070.ppm</td>\n",
              "      <td>110</td>\n",
              "      <td>p01,p02</td>\n",
              "    </tr>\n",
              "    <tr>\n",
              "      <th>4</th>\n",
              "      <td>4</td>\n",
              "      <td>/content/drive/My Drive/unsup-car-dataset/frei...</td>\n",
              "      <td>car015</td>\n",
              "      <td>left-0093.ppm</td>\n",
              "      <td>111</td>\n",
              "      <td>p01,p02</td>\n",
              "    </tr>\n",
              "    <tr>\n",
              "      <th>...</th>\n",
              "      <td>...</td>\n",
              "      <td>...</td>\n",
              "      <td>...</td>\n",
              "      <td>...</td>\n",
              "      <td>...</td>\n",
              "      <td>...</td>\n",
              "    </tr>\n",
              "    <tr>\n",
              "      <th>118</th>\n",
              "      <td>118</td>\n",
              "      <td>/content/drive/My Drive/unsup-car-dataset/frei...</td>\n",
              "      <td>car015</td>\n",
              "      <td>left-2715.ppm</td>\n",
              "      <td>126</td>\n",
              "      <td>p03</td>\n",
              "    </tr>\n",
              "    <tr>\n",
              "      <th>119</th>\n",
              "      <td>119</td>\n",
              "      <td>/content/drive/My Drive/unsup-car-dataset/frei...</td>\n",
              "      <td>car015</td>\n",
              "      <td>left-2738.ppm</td>\n",
              "      <td>130</td>\n",
              "      <td>p03</td>\n",
              "    </tr>\n",
              "    <tr>\n",
              "      <th>120</th>\n",
              "      <td>120</td>\n",
              "      <td>/content/drive/My Drive/unsup-car-dataset/frei...</td>\n",
              "      <td>car015</td>\n",
              "      <td>left-2761.ppm</td>\n",
              "      <td>136</td>\n",
              "      <td>p07</td>\n",
              "    </tr>\n",
              "    <tr>\n",
              "      <th>121</th>\n",
              "      <td>121</td>\n",
              "      <td>/content/drive/My Drive/unsup-car-dataset/frei...</td>\n",
              "      <td>car015</td>\n",
              "      <td>left-2784.ppm</td>\n",
              "      <td>139</td>\n",
              "      <td>p07</td>\n",
              "    </tr>\n",
              "    <tr>\n",
              "      <th>122</th>\n",
              "      <td>122</td>\n",
              "      <td>/content/drive/My Drive/unsup-car-dataset/frei...</td>\n",
              "      <td>car015</td>\n",
              "      <td>left-2807.ppm</td>\n",
              "      <td>142</td>\n",
              "      <td>p07</td>\n",
              "    </tr>\n",
              "  </tbody>\n",
              "</table>\n",
              "<p>123 rows × 6 columns</p>\n",
              "</div>\n",
              "      <button class=\"colab-df-convert\" onclick=\"convertToInteractive('df-b2819e8f-4de5-47c5-86b1-8fc14f32b949')\"\n",
              "              title=\"Convert this dataframe to an interactive table.\"\n",
              "              style=\"display:none;\">\n",
              "        \n",
              "  <svg xmlns=\"http://www.w3.org/2000/svg\" height=\"24px\"viewBox=\"0 0 24 24\"\n",
              "       width=\"24px\">\n",
              "    <path d=\"M0 0h24v24H0V0z\" fill=\"none\"/>\n",
              "    <path d=\"M18.56 5.44l.94 2.06.94-2.06 2.06-.94-2.06-.94-.94-2.06-.94 2.06-2.06.94zm-11 1L8.5 8.5l.94-2.06 2.06-.94-2.06-.94L8.5 2.5l-.94 2.06-2.06.94zm10 10l.94 2.06.94-2.06 2.06-.94-2.06-.94-.94-2.06-.94 2.06-2.06.94z\"/><path d=\"M17.41 7.96l-1.37-1.37c-.4-.4-.92-.59-1.43-.59-.52 0-1.04.2-1.43.59L10.3 9.45l-7.72 7.72c-.78.78-.78 2.05 0 2.83L4 21.41c.39.39.9.59 1.41.59.51 0 1.02-.2 1.41-.59l7.78-7.78 2.81-2.81c.8-.78.8-2.07 0-2.86zM5.41 20L4 18.59l7.72-7.72 1.47 1.35L5.41 20z\"/>\n",
              "  </svg>\n",
              "      </button>\n",
              "      \n",
              "  <style>\n",
              "    .colab-df-container {\n",
              "      display:flex;\n",
              "      flex-wrap:wrap;\n",
              "      gap: 12px;\n",
              "    }\n",
              "\n",
              "    .colab-df-convert {\n",
              "      background-color: #E8F0FE;\n",
              "      border: none;\n",
              "      border-radius: 50%;\n",
              "      cursor: pointer;\n",
              "      display: none;\n",
              "      fill: #1967D2;\n",
              "      height: 32px;\n",
              "      padding: 0 0 0 0;\n",
              "      width: 32px;\n",
              "    }\n",
              "\n",
              "    .colab-df-convert:hover {\n",
              "      background-color: #E2EBFA;\n",
              "      box-shadow: 0px 1px 2px rgba(60, 64, 67, 0.3), 0px 1px 3px 1px rgba(60, 64, 67, 0.15);\n",
              "      fill: #174EA6;\n",
              "    }\n",
              "\n",
              "    [theme=dark] .colab-df-convert {\n",
              "      background-color: #3B4455;\n",
              "      fill: #D2E3FC;\n",
              "    }\n",
              "\n",
              "    [theme=dark] .colab-df-convert:hover {\n",
              "      background-color: #434B5C;\n",
              "      box-shadow: 0px 1px 3px 1px rgba(0, 0, 0, 0.15);\n",
              "      filter: drop-shadow(0px 1px 2px rgba(0, 0, 0, 0.3));\n",
              "      fill: #FFFFFF;\n",
              "    }\n",
              "  </style>\n",
              "\n",
              "      <script>\n",
              "        const buttonEl =\n",
              "          document.querySelector('#df-b2819e8f-4de5-47c5-86b1-8fc14f32b949 button.colab-df-convert');\n",
              "        buttonEl.style.display =\n",
              "          google.colab.kernel.accessAllowed ? 'block' : 'none';\n",
              "\n",
              "        async function convertToInteractive(key) {\n",
              "          const element = document.querySelector('#df-b2819e8f-4de5-47c5-86b1-8fc14f32b949');\n",
              "          const dataTable =\n",
              "            await google.colab.kernel.invokeFunction('convertToInteractive',\n",
              "                                                     [key], {});\n",
              "          if (!dataTable) return;\n",
              "\n",
              "          const docLinkHtml = 'Like what you see? Visit the ' +\n",
              "            '<a target=\"_blank\" href=https://colab.research.google.com/notebooks/data_table.ipynb>data table notebook</a>'\n",
              "            + ' to learn more about interactive tables.';\n",
              "          element.innerHTML = '';\n",
              "          dataTable['output_type'] = 'display_data';\n",
              "          await google.colab.output.renderOutput(dataTable, element);\n",
              "          const docLink = document.createElement('div');\n",
              "          docLink.innerHTML = docLinkHtml;\n",
              "          element.appendChild(docLink);\n",
              "        }\n",
              "      </script>\n",
              "    </div>\n",
              "  </div>\n",
              "  "
            ]
          },
          "metadata": {},
          "execution_count": 113
        }
      ]
    },
    {
      "cell_type": "code",
      "source": [
        "test_1_dir = os.path.join(base_dir, 'car015')\n",
        "os.makedirs(test_1_dir, exist_ok=True)"
      ],
      "metadata": {
        "id": "IuiuusS756B_"
      },
      "execution_count": 114,
      "outputs": []
    },
    {
      "cell_type": "code",
      "source": [],
      "metadata": {
        "id": "9vuLqGw956Gq"
      },
      "execution_count": null,
      "outputs": []
    },
    {
      "cell_type": "markdown",
      "source": [
        "## car016"
      ],
      "metadata": {
        "id": "pG5AZo1K1kcC"
      }
    },
    {
      "cell_type": "code",
      "source": [
        "car016  = pd.read_csv(os.path.join(path,'car016.csv')) \n",
        "car016"
      ],
      "metadata": {
        "id": "xqyplsAb6ksA"
      },
      "execution_count": null,
      "outputs": []
    },
    {
      "cell_type": "code",
      "source": [
        "test_1_dir = os.path.join(base_dir, 'car016')\n",
        "os.makedirs(test_1_dir, exist_ok=True)"
      ],
      "metadata": {
        "id": "tXOK2qQ86kvl"
      },
      "execution_count": null,
      "outputs": []
    },
    {
      "cell_type": "code",
      "source": [],
      "metadata": {
        "id": "N-Lhfz4r6kzk"
      },
      "execution_count": null,
      "outputs": []
    },
    {
      "cell_type": "markdown",
      "source": [
        "## car018"
      ],
      "metadata": {
        "id": "HwaPNvTB1kfb"
      }
    },
    {
      "cell_type": "code",
      "source": [
        "car018  = pd.read_csv(os.path.join(path,'car018.csv')) \n",
        "car018"
      ],
      "metadata": {
        "id": "99FD-EwI6qT4"
      },
      "execution_count": null,
      "outputs": []
    },
    {
      "cell_type": "code",
      "source": [
        "test_1_dir = os.path.join(base_dir, 'car018')\n",
        "os.makedirs(test_1_dir, exist_ok=True)"
      ],
      "metadata": {
        "id": "ST35u_QJ6qXP"
      },
      "execution_count": null,
      "outputs": []
    },
    {
      "cell_type": "code",
      "source": [],
      "metadata": {
        "id": "4epnj5LT6qi3"
      },
      "execution_count": null,
      "outputs": []
    },
    {
      "cell_type": "markdown",
      "source": [
        "## car021"
      ],
      "metadata": {
        "id": "hKksrgpV1pSF"
      }
    },
    {
      "cell_type": "code",
      "source": [
        "car021  = pd.read_csv(os.path.join(path,'car021.csv')) \n",
        "car021"
      ],
      "metadata": {
        "id": "8Js4yY9a9Lov"
      },
      "execution_count": null,
      "outputs": []
    },
    {
      "cell_type": "code",
      "source": [
        "test_1_dir = os.path.join(base_dir, 'car021')\n",
        "os.makedirs(test_1_dir, exist_ok=True)"
      ],
      "metadata": {
        "id": "01vxDpsw9Lrd"
      },
      "execution_count": null,
      "outputs": []
    },
    {
      "cell_type": "code",
      "source": [],
      "metadata": {
        "id": "J1I7-D1t9Ltp"
      },
      "execution_count": null,
      "outputs": []
    },
    {
      "cell_type": "markdown",
      "source": [
        "## car022"
      ],
      "metadata": {
        "id": "REdZBwox11n9"
      }
    },
    {
      "cell_type": "code",
      "source": [
        "car022  = pd.read_csv(os.path.join(path,'car022.csv')) \n",
        "car022"
      ],
      "metadata": {
        "id": "Ji-H9Pg794LX"
      },
      "execution_count": null,
      "outputs": []
    },
    {
      "cell_type": "code",
      "source": [
        "test_1_dir = os.path.join(base_dir, 'car022')\n",
        "os.makedirs(test_1_dir, exist_ok=True)"
      ],
      "metadata": {
        "id": "toPzq_0D94N1"
      },
      "execution_count": null,
      "outputs": []
    },
    {
      "cell_type": "code",
      "source": [],
      "metadata": {
        "id": "zCEu_a2d94QA"
      },
      "execution_count": null,
      "outputs": []
    },
    {
      "cell_type": "markdown",
      "source": [
        "## car024"
      ],
      "metadata": {
        "id": "sAOxKk2111yO"
      }
    },
    {
      "cell_type": "code",
      "source": [],
      "metadata": {
        "id": "6O2fpwZA94od"
      },
      "execution_count": null,
      "outputs": []
    },
    {
      "cell_type": "code",
      "source": [],
      "metadata": {
        "id": "SvTxjEKg94q1"
      },
      "execution_count": null,
      "outputs": []
    },
    {
      "cell_type": "code",
      "source": [],
      "metadata": {
        "id": "an9wEsgV94tD"
      },
      "execution_count": null,
      "outputs": []
    },
    {
      "cell_type": "markdown",
      "source": [
        "## car025"
      ],
      "metadata": {
        "id": "f551omCU112k"
      }
    },
    {
      "cell_type": "code",
      "source": [],
      "metadata": {
        "id": "F8wTCw_B95Ig"
      },
      "execution_count": null,
      "outputs": []
    },
    {
      "cell_type": "code",
      "source": [],
      "metadata": {
        "id": "eAshAk-w95K_"
      },
      "execution_count": null,
      "outputs": []
    },
    {
      "cell_type": "code",
      "source": [],
      "metadata": {
        "id": "L9khCDLY95NZ"
      },
      "execution_count": null,
      "outputs": []
    },
    {
      "cell_type": "markdown",
      "source": [
        "## car027"
      ],
      "metadata": {
        "id": "F7ak0UgW116B"
      }
    },
    {
      "cell_type": "code",
      "source": [],
      "metadata": {
        "id": "lgH7An0o95mP"
      },
      "execution_count": null,
      "outputs": []
    },
    {
      "cell_type": "code",
      "source": [],
      "metadata": {
        "id": "5RsQyHRY95ov"
      },
      "execution_count": null,
      "outputs": []
    },
    {
      "cell_type": "code",
      "source": [],
      "metadata": {
        "id": "9vBOu3yT95rJ"
      },
      "execution_count": null,
      "outputs": []
    },
    {
      "cell_type": "markdown",
      "source": [
        "## car029"
      ],
      "metadata": {
        "id": "C0tO16yG118_"
      }
    },
    {
      "cell_type": "code",
      "source": [],
      "metadata": {
        "id": "99OFUsc996DI"
      },
      "execution_count": null,
      "outputs": []
    },
    {
      "cell_type": "code",
      "source": [],
      "metadata": {
        "id": "VCyS_w4D96Fu"
      },
      "execution_count": null,
      "outputs": []
    },
    {
      "cell_type": "code",
      "source": [],
      "metadata": {
        "id": "Dk4hus6z96JN"
      },
      "execution_count": null,
      "outputs": []
    },
    {
      "cell_type": "markdown",
      "source": [
        "## car030"
      ],
      "metadata": {
        "id": "Z7jX4omk17_O"
      }
    },
    {
      "cell_type": "code",
      "source": [],
      "metadata": {
        "id": "shRx7IvX96lh"
      },
      "execution_count": null,
      "outputs": []
    },
    {
      "cell_type": "code",
      "source": [],
      "metadata": {
        "id": "-M4qNpnt96oK"
      },
      "execution_count": null,
      "outputs": []
    },
    {
      "cell_type": "code",
      "source": [],
      "metadata": {
        "id": "6RjlNR8196qg"
      },
      "execution_count": null,
      "outputs": []
    },
    {
      "cell_type": "markdown",
      "source": [
        "## car032"
      ],
      "metadata": {
        "id": "6-wwcfRM18HJ"
      }
    },
    {
      "cell_type": "code",
      "source": [],
      "metadata": {
        "id": "Bm-D-A1I97CZ"
      },
      "execution_count": null,
      "outputs": []
    },
    {
      "cell_type": "code",
      "source": [],
      "metadata": {
        "id": "1_gMxVN397E5"
      },
      "execution_count": null,
      "outputs": []
    },
    {
      "cell_type": "code",
      "source": [],
      "metadata": {
        "id": "Vg1cXo7q97Hm"
      },
      "execution_count": null,
      "outputs": []
    },
    {
      "cell_type": "markdown",
      "source": [
        "## car034"
      ],
      "metadata": {
        "id": "jLmUap0b18K4"
      }
    },
    {
      "cell_type": "code",
      "source": [],
      "metadata": {
        "id": "-9n7zLsp97p5"
      },
      "execution_count": null,
      "outputs": []
    },
    {
      "cell_type": "code",
      "source": [],
      "metadata": {
        "id": "qXEkjon297sI"
      },
      "execution_count": null,
      "outputs": []
    },
    {
      "cell_type": "code",
      "source": [],
      "metadata": {
        "id": "dknV5oVC1_zG"
      },
      "execution_count": null,
      "outputs": []
    },
    {
      "cell_type": "markdown",
      "source": [
        "## car035"
      ],
      "metadata": {
        "id": "d3FmETYJ2BKE"
      }
    },
    {
      "cell_type": "code",
      "source": [],
      "metadata": {
        "id": "G_P1m_P898HG"
      },
      "execution_count": null,
      "outputs": []
    },
    {
      "cell_type": "code",
      "source": [],
      "metadata": {
        "id": "58wZ2vJa98Jk"
      },
      "execution_count": null,
      "outputs": []
    },
    {
      "cell_type": "code",
      "source": [],
      "metadata": {
        "id": "ZpWqtjxt98Lt"
      },
      "execution_count": null,
      "outputs": []
    },
    {
      "cell_type": "markdown",
      "source": [
        "## car037"
      ],
      "metadata": {
        "id": "gPB0fyOE2BTK"
      }
    },
    {
      "cell_type": "code",
      "source": [],
      "metadata": {
        "id": "tO8SVBpZ98n7"
      },
      "execution_count": null,
      "outputs": []
    },
    {
      "cell_type": "code",
      "source": [],
      "metadata": {
        "id": "FkCd_sbk98qa"
      },
      "execution_count": null,
      "outputs": []
    },
    {
      "cell_type": "code",
      "source": [],
      "metadata": {
        "id": "3sTqWb8y98s7"
      },
      "execution_count": null,
      "outputs": []
    },
    {
      "cell_type": "markdown",
      "source": [
        "## car038"
      ],
      "metadata": {
        "id": "zcv8bqco2BWq"
      }
    },
    {
      "cell_type": "code",
      "source": [],
      "metadata": {
        "id": "bgBEdtct99Nw"
      },
      "execution_count": null,
      "outputs": []
    },
    {
      "cell_type": "code",
      "source": [],
      "metadata": {
        "id": "ANx3e24r99QV"
      },
      "execution_count": null,
      "outputs": []
    },
    {
      "cell_type": "code",
      "source": [],
      "metadata": {
        "id": "SArBipsW99Sr"
      },
      "execution_count": null,
      "outputs": []
    },
    {
      "cell_type": "markdown",
      "source": [
        "## car039"
      ],
      "metadata": {
        "id": "FUEKK32G2BaF"
      }
    },
    {
      "cell_type": "code",
      "source": [],
      "metadata": {
        "id": "cGKRKS-y99sX"
      },
      "execution_count": null,
      "outputs": []
    },
    {
      "cell_type": "code",
      "source": [],
      "metadata": {
        "id": "LWqhRte099u0"
      },
      "execution_count": null,
      "outputs": []
    },
    {
      "cell_type": "code",
      "source": [],
      "metadata": {
        "id": "1YFkc9_399xR"
      },
      "execution_count": null,
      "outputs": []
    },
    {
      "cell_type": "markdown",
      "source": [
        "## car041"
      ],
      "metadata": {
        "id": "kn694GWG2GoM"
      }
    },
    {
      "cell_type": "code",
      "source": [],
      "metadata": {
        "id": "JRtyjT9I9-P2"
      },
      "execution_count": null,
      "outputs": []
    },
    {
      "cell_type": "code",
      "source": [],
      "metadata": {
        "id": "3T1K7H0Q9-SY"
      },
      "execution_count": null,
      "outputs": []
    },
    {
      "cell_type": "code",
      "source": [],
      "metadata": {
        "id": "O8fdNUU89-VA"
      },
      "execution_count": null,
      "outputs": []
    },
    {
      "cell_type": "markdown",
      "source": [
        "## car042"
      ],
      "metadata": {
        "id": "FqvjrHK92Gvc"
      }
    },
    {
      "cell_type": "code",
      "source": [],
      "metadata": {
        "id": "YlBOvakk9-wX"
      },
      "execution_count": null,
      "outputs": []
    },
    {
      "cell_type": "code",
      "source": [],
      "metadata": {
        "id": "oPUaji689-y8"
      },
      "execution_count": null,
      "outputs": []
    },
    {
      "cell_type": "code",
      "source": [],
      "metadata": {
        "id": "XcHFXtd99-1U"
      },
      "execution_count": null,
      "outputs": []
    },
    {
      "cell_type": "markdown",
      "source": [
        "## car043"
      ],
      "metadata": {
        "id": "ALu2E4SJ2JJq"
      }
    },
    {
      "cell_type": "code",
      "source": [],
      "metadata": {
        "id": "1sqZy-yb9_PW"
      },
      "execution_count": null,
      "outputs": []
    },
    {
      "cell_type": "code",
      "source": [],
      "metadata": {
        "id": "GacDL7Xd9_R-"
      },
      "execution_count": null,
      "outputs": []
    },
    {
      "cell_type": "code",
      "source": [],
      "metadata": {
        "id": "gPoR-S3k9_UT"
      },
      "execution_count": null,
      "outputs": []
    },
    {
      "cell_type": "markdown",
      "source": [
        "## car044"
      ],
      "metadata": {
        "id": "tgt2d3bW2JNx"
      }
    },
    {
      "cell_type": "code",
      "source": [],
      "metadata": {
        "id": "ZqG7DkMR9_pm"
      },
      "execution_count": null,
      "outputs": []
    },
    {
      "cell_type": "code",
      "source": [],
      "metadata": {
        "id": "EbCiymM79_sh"
      },
      "execution_count": null,
      "outputs": []
    },
    {
      "cell_type": "code",
      "source": [],
      "metadata": {
        "id": "h9OgAF5G9_6D"
      },
      "execution_count": null,
      "outputs": []
    },
    {
      "cell_type": "markdown",
      "source": [
        "## car045"
      ],
      "metadata": {
        "id": "TxqOEx1l2JRj"
      }
    },
    {
      "cell_type": "code",
      "source": [],
      "metadata": {
        "id": "Ec2DxL1t-AWb"
      },
      "execution_count": null,
      "outputs": []
    },
    {
      "cell_type": "code",
      "source": [],
      "metadata": {
        "id": "ZOSFWDfd-AZC"
      },
      "execution_count": null,
      "outputs": []
    },
    {
      "cell_type": "code",
      "source": [],
      "metadata": {
        "id": "Bo5W8oe7-AbY"
      },
      "execution_count": null,
      "outputs": []
    },
    {
      "cell_type": "markdown",
      "source": [
        "## car046"
      ],
      "metadata": {
        "id": "OCSVQOL02R8r"
      }
    },
    {
      "cell_type": "code",
      "source": [],
      "metadata": {
        "id": "5yyjJsai-A09"
      },
      "execution_count": null,
      "outputs": []
    },
    {
      "cell_type": "code",
      "source": [],
      "metadata": {
        "id": "DIIwgfgL-A3c"
      },
      "execution_count": null,
      "outputs": []
    },
    {
      "cell_type": "code",
      "source": [],
      "metadata": {
        "id": "UFCFF-GZ-A52"
      },
      "execution_count": null,
      "outputs": []
    },
    {
      "cell_type": "markdown",
      "source": [
        "## car047"
      ],
      "metadata": {
        "id": "jYsnL09l2SBh"
      }
    },
    {
      "cell_type": "code",
      "source": [],
      "metadata": {
        "id": "A3vqVWkB-BSd"
      },
      "execution_count": null,
      "outputs": []
    },
    {
      "cell_type": "code",
      "source": [],
      "metadata": {
        "id": "60F-urLB-BVB"
      },
      "execution_count": null,
      "outputs": []
    },
    {
      "cell_type": "code",
      "source": [],
      "metadata": {
        "id": "TPUvM45X-BXg"
      },
      "execution_count": null,
      "outputs": []
    },
    {
      "cell_type": "markdown",
      "source": [
        "## car048"
      ],
      "metadata": {
        "id": "NLgMETMi2SFl"
      }
    },
    {
      "cell_type": "code",
      "source": [],
      "metadata": {
        "id": "izC6ahSI-Bwa"
      },
      "execution_count": null,
      "outputs": []
    },
    {
      "cell_type": "code",
      "source": [],
      "metadata": {
        "id": "HTkD5zeO-By9"
      },
      "execution_count": null,
      "outputs": []
    },
    {
      "cell_type": "code",
      "source": [],
      "metadata": {
        "id": "9Ud_3hNw-B1e"
      },
      "execution_count": null,
      "outputs": []
    },
    {
      "cell_type": "markdown",
      "source": [
        "## car050"
      ],
      "metadata": {
        "id": "kqR2vbFO2SJS"
      }
    },
    {
      "cell_type": "code",
      "source": [],
      "metadata": {
        "id": "wmrl-FrF-CPm"
      },
      "execution_count": null,
      "outputs": []
    },
    {
      "cell_type": "code",
      "source": [],
      "metadata": {
        "id": "EKAsSDNJ-CSQ"
      },
      "execution_count": null,
      "outputs": []
    },
    {
      "cell_type": "code",
      "source": [],
      "metadata": {
        "id": "UMGE9cT6-CUq"
      },
      "execution_count": null,
      "outputs": []
    },
    {
      "cell_type": "markdown",
      "source": [
        "## car051"
      ],
      "metadata": {
        "id": "x7iwaPre2SVG"
      }
    },
    {
      "cell_type": "code",
      "source": [],
      "metadata": {
        "id": "0s70DtF6-CwN"
      },
      "execution_count": null,
      "outputs": []
    },
    {
      "cell_type": "code",
      "source": [],
      "metadata": {
        "id": "fH4c66El-Cy3"
      },
      "execution_count": null,
      "outputs": []
    },
    {
      "cell_type": "code",
      "source": [],
      "metadata": {
        "id": "76BCjftU-C1T"
      },
      "execution_count": null,
      "outputs": []
    },
    {
      "cell_type": "markdown",
      "source": [
        "## car052"
      ],
      "metadata": {
        "id": "v1L2kYC62X8C"
      }
    },
    {
      "cell_type": "code",
      "source": [],
      "metadata": {
        "id": "9ws-hT1V-DQu"
      },
      "execution_count": null,
      "outputs": []
    },
    {
      "cell_type": "code",
      "source": [],
      "metadata": {
        "id": "cH8IcfUj-DTF"
      },
      "execution_count": null,
      "outputs": []
    },
    {
      "cell_type": "code",
      "source": [],
      "metadata": {
        "id": "0CqbmDCR-DVg"
      },
      "execution_count": null,
      "outputs": []
    },
    {
      "cell_type": "markdown",
      "source": [
        "# แบบไม่มีประตู"
      ],
      "metadata": {
        "id": "YezPp0yhv6sS"
      }
    },
    {
      "cell_type": "markdown",
      "source": [
        "## car001"
      ],
      "metadata": {
        "id": "gbrd1BIQwEnX"
      }
    },
    {
      "cell_type": "code",
      "source": [
        "car001  = pd.read_csv(os.path.join(path,'car001.csv')) \n",
        "car001"
      ],
      "metadata": {
        "id": "bPHqhXkgv5dW",
        "outputId": "e62c2844-62d9-4ddb-a915-eed12d99a1d3",
        "colab": {
          "base_uri": "https://localhost:8080/",
          "height": 423
        }
      },
      "execution_count": 73,
      "outputs": [
        {
          "output_type": "execute_result",
          "data": {
            "text/plain": [
              "     Unnamed: 0                                          Path_Name      ID  \\\n",
              "0             0  /content/drive/My Drive/unsup-car-dataset/frei...  car001   \n",
              "1             1  /content/drive/My Drive/unsup-car-dataset/frei...  car001   \n",
              "2             2  /content/drive/My Drive/unsup-car-dataset/frei...  car001   \n",
              "3             3  /content/drive/My Drive/unsup-car-dataset/frei...  car001   \n",
              "4             4  /content/drive/My Drive/unsup-car-dataset/frei...  car001   \n",
              "..          ...                                                ...     ...   \n",
              "117         117  /content/drive/My Drive/unsup-car-dataset/frei...  car001   \n",
              "118         118  /content/drive/My Drive/unsup-car-dataset/frei...  car001   \n",
              "119         119  /content/drive/My Drive/unsup-car-dataset/frei...  car001   \n",
              "120         120  /content/drive/My Drive/unsup-car-dataset/frei...  car001   \n",
              "121         121  /content/drive/My Drive/unsup-car-dataset/frei...  car001   \n",
              "\n",
              "              Name  Angle    P  \n",
              "0    left-0001.ppm      3  p08  \n",
              "1    left-0017.ppm      3  p08  \n",
              "2    left-0033.ppm      4  p08  \n",
              "3    left-0049.ppm      7  p08  \n",
              "4    left-0065.ppm      9  p08  \n",
              "..             ...    ...  ...  \n",
              "117  left-1873.ppm     17  p08  \n",
              "118  left-1889.ppm     17  p08  \n",
              "119  left-1905.ppm     17  p08  \n",
              "120  left-1921.ppm     16  p08  \n",
              "121  left-1937.ppm     16  p08  \n",
              "\n",
              "[122 rows x 6 columns]"
            ],
            "text/html": [
              "\n",
              "  <div id=\"df-95f97fbe-3753-4ef5-8f38-177ac1631513\">\n",
              "    <div class=\"colab-df-container\">\n",
              "      <div>\n",
              "<style scoped>\n",
              "    .dataframe tbody tr th:only-of-type {\n",
              "        vertical-align: middle;\n",
              "    }\n",
              "\n",
              "    .dataframe tbody tr th {\n",
              "        vertical-align: top;\n",
              "    }\n",
              "\n",
              "    .dataframe thead th {\n",
              "        text-align: right;\n",
              "    }\n",
              "</style>\n",
              "<table border=\"1\" class=\"dataframe\">\n",
              "  <thead>\n",
              "    <tr style=\"text-align: right;\">\n",
              "      <th></th>\n",
              "      <th>Unnamed: 0</th>\n",
              "      <th>Path_Name</th>\n",
              "      <th>ID</th>\n",
              "      <th>Name</th>\n",
              "      <th>Angle</th>\n",
              "      <th>P</th>\n",
              "    </tr>\n",
              "  </thead>\n",
              "  <tbody>\n",
              "    <tr>\n",
              "      <th>0</th>\n",
              "      <td>0</td>\n",
              "      <td>/content/drive/My Drive/unsup-car-dataset/frei...</td>\n",
              "      <td>car001</td>\n",
              "      <td>left-0001.ppm</td>\n",
              "      <td>3</td>\n",
              "      <td>p08</td>\n",
              "    </tr>\n",
              "    <tr>\n",
              "      <th>1</th>\n",
              "      <td>1</td>\n",
              "      <td>/content/drive/My Drive/unsup-car-dataset/frei...</td>\n",
              "      <td>car001</td>\n",
              "      <td>left-0017.ppm</td>\n",
              "      <td>3</td>\n",
              "      <td>p08</td>\n",
              "    </tr>\n",
              "    <tr>\n",
              "      <th>2</th>\n",
              "      <td>2</td>\n",
              "      <td>/content/drive/My Drive/unsup-car-dataset/frei...</td>\n",
              "      <td>car001</td>\n",
              "      <td>left-0033.ppm</td>\n",
              "      <td>4</td>\n",
              "      <td>p08</td>\n",
              "    </tr>\n",
              "    <tr>\n",
              "      <th>3</th>\n",
              "      <td>3</td>\n",
              "      <td>/content/drive/My Drive/unsup-car-dataset/frei...</td>\n",
              "      <td>car001</td>\n",
              "      <td>left-0049.ppm</td>\n",
              "      <td>7</td>\n",
              "      <td>p08</td>\n",
              "    </tr>\n",
              "    <tr>\n",
              "      <th>4</th>\n",
              "      <td>4</td>\n",
              "      <td>/content/drive/My Drive/unsup-car-dataset/frei...</td>\n",
              "      <td>car001</td>\n",
              "      <td>left-0065.ppm</td>\n",
              "      <td>9</td>\n",
              "      <td>p08</td>\n",
              "    </tr>\n",
              "    <tr>\n",
              "      <th>...</th>\n",
              "      <td>...</td>\n",
              "      <td>...</td>\n",
              "      <td>...</td>\n",
              "      <td>...</td>\n",
              "      <td>...</td>\n",
              "      <td>...</td>\n",
              "    </tr>\n",
              "    <tr>\n",
              "      <th>117</th>\n",
              "      <td>117</td>\n",
              "      <td>/content/drive/My Drive/unsup-car-dataset/frei...</td>\n",
              "      <td>car001</td>\n",
              "      <td>left-1873.ppm</td>\n",
              "      <td>17</td>\n",
              "      <td>p08</td>\n",
              "    </tr>\n",
              "    <tr>\n",
              "      <th>118</th>\n",
              "      <td>118</td>\n",
              "      <td>/content/drive/My Drive/unsup-car-dataset/frei...</td>\n",
              "      <td>car001</td>\n",
              "      <td>left-1889.ppm</td>\n",
              "      <td>17</td>\n",
              "      <td>p08</td>\n",
              "    </tr>\n",
              "    <tr>\n",
              "      <th>119</th>\n",
              "      <td>119</td>\n",
              "      <td>/content/drive/My Drive/unsup-car-dataset/frei...</td>\n",
              "      <td>car001</td>\n",
              "      <td>left-1905.ppm</td>\n",
              "      <td>17</td>\n",
              "      <td>p08</td>\n",
              "    </tr>\n",
              "    <tr>\n",
              "      <th>120</th>\n",
              "      <td>120</td>\n",
              "      <td>/content/drive/My Drive/unsup-car-dataset/frei...</td>\n",
              "      <td>car001</td>\n",
              "      <td>left-1921.ppm</td>\n",
              "      <td>16</td>\n",
              "      <td>p08</td>\n",
              "    </tr>\n",
              "    <tr>\n",
              "      <th>121</th>\n",
              "      <td>121</td>\n",
              "      <td>/content/drive/My Drive/unsup-car-dataset/frei...</td>\n",
              "      <td>car001</td>\n",
              "      <td>left-1937.ppm</td>\n",
              "      <td>16</td>\n",
              "      <td>p08</td>\n",
              "    </tr>\n",
              "  </tbody>\n",
              "</table>\n",
              "<p>122 rows × 6 columns</p>\n",
              "</div>\n",
              "      <button class=\"colab-df-convert\" onclick=\"convertToInteractive('df-95f97fbe-3753-4ef5-8f38-177ac1631513')\"\n",
              "              title=\"Convert this dataframe to an interactive table.\"\n",
              "              style=\"display:none;\">\n",
              "        \n",
              "  <svg xmlns=\"http://www.w3.org/2000/svg\" height=\"24px\"viewBox=\"0 0 24 24\"\n",
              "       width=\"24px\">\n",
              "    <path d=\"M0 0h24v24H0V0z\" fill=\"none\"/>\n",
              "    <path d=\"M18.56 5.44l.94 2.06.94-2.06 2.06-.94-2.06-.94-.94-2.06-.94 2.06-2.06.94zm-11 1L8.5 8.5l.94-2.06 2.06-.94-2.06-.94L8.5 2.5l-.94 2.06-2.06.94zm10 10l.94 2.06.94-2.06 2.06-.94-2.06-.94-.94-2.06-.94 2.06-2.06.94z\"/><path d=\"M17.41 7.96l-1.37-1.37c-.4-.4-.92-.59-1.43-.59-.52 0-1.04.2-1.43.59L10.3 9.45l-7.72 7.72c-.78.78-.78 2.05 0 2.83L4 21.41c.39.39.9.59 1.41.59.51 0 1.02-.2 1.41-.59l7.78-7.78 2.81-2.81c.8-.78.8-2.07 0-2.86zM5.41 20L4 18.59l7.72-7.72 1.47 1.35L5.41 20z\"/>\n",
              "  </svg>\n",
              "      </button>\n",
              "      \n",
              "  <style>\n",
              "    .colab-df-container {\n",
              "      display:flex;\n",
              "      flex-wrap:wrap;\n",
              "      gap: 12px;\n",
              "    }\n",
              "\n",
              "    .colab-df-convert {\n",
              "      background-color: #E8F0FE;\n",
              "      border: none;\n",
              "      border-radius: 50%;\n",
              "      cursor: pointer;\n",
              "      display: none;\n",
              "      fill: #1967D2;\n",
              "      height: 32px;\n",
              "      padding: 0 0 0 0;\n",
              "      width: 32px;\n",
              "    }\n",
              "\n",
              "    .colab-df-convert:hover {\n",
              "      background-color: #E2EBFA;\n",
              "      box-shadow: 0px 1px 2px rgba(60, 64, 67, 0.3), 0px 1px 3px 1px rgba(60, 64, 67, 0.15);\n",
              "      fill: #174EA6;\n",
              "    }\n",
              "\n",
              "    [theme=dark] .colab-df-convert {\n",
              "      background-color: #3B4455;\n",
              "      fill: #D2E3FC;\n",
              "    }\n",
              "\n",
              "    [theme=dark] .colab-df-convert:hover {\n",
              "      background-color: #434B5C;\n",
              "      box-shadow: 0px 1px 3px 1px rgba(0, 0, 0, 0.15);\n",
              "      filter: drop-shadow(0px 1px 2px rgba(0, 0, 0, 0.3));\n",
              "      fill: #FFFFFF;\n",
              "    }\n",
              "  </style>\n",
              "\n",
              "      <script>\n",
              "        const buttonEl =\n",
              "          document.querySelector('#df-95f97fbe-3753-4ef5-8f38-177ac1631513 button.colab-df-convert');\n",
              "        buttonEl.style.display =\n",
              "          google.colab.kernel.accessAllowed ? 'block' : 'none';\n",
              "\n",
              "        async function convertToInteractive(key) {\n",
              "          const element = document.querySelector('#df-95f97fbe-3753-4ef5-8f38-177ac1631513');\n",
              "          const dataTable =\n",
              "            await google.colab.kernel.invokeFunction('convertToInteractive',\n",
              "                                                     [key], {});\n",
              "          if (!dataTable) return;\n",
              "\n",
              "          const docLinkHtml = 'Like what you see? Visit the ' +\n",
              "            '<a target=\"_blank\" href=https://colab.research.google.com/notebooks/data_table.ipynb>data table notebook</a>'\n",
              "            + ' to learn more about interactive tables.';\n",
              "          element.innerHTML = '';\n",
              "          dataTable['output_type'] = 'display_data';\n",
              "          await google.colab.output.renderOutput(dataTable, element);\n",
              "          const docLink = document.createElement('div');\n",
              "          docLink.innerHTML = docLinkHtml;\n",
              "          element.appendChild(docLink);\n",
              "        }\n",
              "      </script>\n",
              "    </div>\n",
              "  </div>\n",
              "  "
            ]
          },
          "metadata": {},
          "execution_count": 73
        }
      ]
    },
    {
      "cell_type": "code",
      "source": [
        "test_1_dir = os.path.join(base_dir, 'car001')\n",
        "os.makedirs(test_1_dir, exist_ok=True)"
      ],
      "metadata": {
        "id": "OrgRb7WswOiy"
      },
      "execution_count": 74,
      "outputs": []
    },
    {
      "cell_type": "code",
      "source": [
        "for i in range(len(car001)):\n",
        "    part = car001['P'][i]\n",
        "    if  part == 'p08' :\n",
        "        p08 = os.path.join(test_1_dir, 'p08')\n",
        "        os.makedirs(p08, exist_ok=True)\n",
        "        test = car001[car001['Unnamed: 0'].between(0,123)]\n",
        "        T1_test = test[test['P']== part]\n",
        "        T1_path_test = T1_test['Path_Name'].tolist()    \n",
        "        fnames = T1_path_test\n",
        "        for fname in fnames:\n",
        "                dst = os.path.join(p08, os.path.basename(fname))\n",
        "                shutil.copyfile(fname, dst)\n",
        "    \n",
        "    if  part == 'p04' :\n",
        "        p04 = os.path.join(test_1_dir, 'p04')\n",
        "        os.makedirs(p04, exist_ok=True)\n",
        "        test = car001[car001['Unnamed: 0'].between(0,123)]\n",
        "        T1_test = test[test['P']== part]\n",
        "        T1_path_test = T1_test['Path_Name'].tolist()    \n",
        "        fnames = T1_path_test\n",
        "        for fname in fnames:\n",
        "                dst = os.path.join(p04, os.path.basename(fname))\n",
        "                shutil.copyfile(fname, dst)\n",
        "    \n",
        "    if  part == 'p01,p02' :\n",
        "        p01 = os.path.join(test_1_dir, 'p01,p02')\n",
        "        os.makedirs(p01, exist_ok=True)\n",
        "        test = car001[car001['Unnamed: 0'].between(0,123)]\n",
        "        T1_test = test[test['P']== part]\n",
        "        T1_path_test = T1_test['Path_Name'].tolist()    \n",
        "        fnames = T1_path_test\n",
        "        for fname in fnames:\n",
        "                dst = os.path.join(p01, os.path.basename(fname))\n",
        "                shutil.copyfile(fname, dst)\n",
        "    \n",
        "    if  part == 'p03' :\n",
        "        p03 = os.path.join(test_1_dir, 'p03')\n",
        "        os.makedirs(p03, exist_ok=True)\n",
        "        test = car001[car001['Unnamed: 0'].between(0,123)]\n",
        "        T1_test = test[test['P']== part]\n",
        "        T1_path_test = T1_test['Path_Name'].tolist()    \n",
        "        fnames = T1_path_test\n",
        "        for fname in fnames:\n",
        "                dst = os.path.join(p03, os.path.basename(fname))\n",
        "                shutil.copyfile(fname, dst)\n",
        "    \n",
        "    if  part == 'p07' :\n",
        "        p07 = os.path.join(test_1_dir, 'p07')\n",
        "        os.makedirs(p07, exist_ok=True)\n",
        "        test = car001[car001['Unnamed: 0'].between(0,123)]\n",
        "        T1_test = test[test['P']== part]\n",
        "        T1_path_test = T1_test['Path_Name'].tolist()    \n",
        "        fnames = T1_path_test\n",
        "        for fname in fnames:\n",
        "                dst = os.path.join(p07, os.path.basename(fname))\n",
        "                shutil.copyfile(fname, dst)\n",
        "    \n",
        "    if  part == 'p05' :\n",
        "        p05 = os.path.join(test_1_dir, 'p05')\n",
        "        os.makedirs(p05, exist_ok=True)\n",
        "        test = car001[car001['Unnamed: 0'].between(0,123)]\n",
        "        T1_test = test[test['P']== part]\n",
        "        T1_path_test = T1_test['Path_Name'].tolist()    \n",
        "        fnames = T1_path_test\n",
        "        for fname in fnames:\n",
        "                dst = os.path.join(p05, os.path.basename(fname))\n",
        "                shutil.copyfile(fname, dst)\n",
        "\n",
        "    if  part == 'p11' :\n",
        "        p11 = os.path.join(test_1_dir, 'p11')\n",
        "        os.makedirs(p11, exist_ok=True)\n",
        "        test = car001[car001['Unnamed: 0'].between(0,123)]\n",
        "        T1_test = test[test['P']== part]\n",
        "        T1_path_test = T1_test['Path_Name'].tolist()    \n",
        "        fnames = T1_path_test\n",
        "        for fname in fnames:\n",
        "                dst = os.path.join(p11, os.path.basename(fname))\n",
        "                shutil.copyfile(fname, dst)\n",
        "\n",
        "    if  part == 'p13, p14' :\n",
        "        p13 = os.path.join(test_1_dir, 'p13, p14')\n",
        "        os.makedirs(p13, exist_ok=True)\n",
        "        test = car001[car001['Unnamed: 0'].between(0,123)]\n",
        "        T1_test = test[test['P']== part]\n",
        "        T1_path_test = T1_test['Path_Name'].tolist()    \n",
        "        fnames = T1_path_test\n",
        "        for fname in fnames:\n",
        "                dst = os.path.join(p13, os.path.basename(fname))\n",
        "                shutil.copyfile(fname, dst)\n",
        "\n",
        "    if  part == 'p12' :\n",
        "        p12 = os.path.join(test_1_dir, 'p12')\n",
        "        os.makedirs(p12, exist_ok=True)\n",
        "        test = car001[car001['Unnamed: 0'].between(0,123)]\n",
        "        T1_test = test[test['P']== part]\n",
        "        T1_path_test = T1_test['Path_Name'].tolist()    \n",
        "        fnames = T1_path_test\n",
        "        for fname in fnames:\n",
        "                dst = os.path.join(p12, os.path.basename(fname))\n",
        "                shutil.copyfile(fname, dst)\n",
        "    \n",
        "    if  part == 'p06' :\n",
        "        p06 = os.path.join(test_1_dir, 'p06')\n",
        "        os.makedirs(p06, exist_ok=True)\n",
        "        test = car001[car001['Unnamed: 0'].between(0,123)]\n",
        "        T1_test = test[test['P']== part]\n",
        "        T1_path_test = T1_test['Path_Name'].tolist()    \n",
        "        fnames = T1_path_test\n",
        "        for fname in fnames:\n",
        "                dst = os.path.join(p06, os.path.basename(fname))\n",
        "                shutil.copyfile(fname, dst) "
      ],
      "metadata": {
        "id": "7KHnLagLwjHM"
      },
      "execution_count": 75,
      "outputs": []
    },
    {
      "cell_type": "markdown",
      "source": [
        "## car002"
      ],
      "metadata": {
        "id": "1DS2ZHVZ2bqG"
      }
    },
    {
      "cell_type": "code",
      "source": [],
      "metadata": {
        "id": "QUJLn1D8-E6Q"
      },
      "execution_count": null,
      "outputs": []
    },
    {
      "cell_type": "code",
      "source": [],
      "metadata": {
        "id": "FlQGeAjp-E8i"
      },
      "execution_count": null,
      "outputs": []
    },
    {
      "cell_type": "code",
      "source": [],
      "metadata": {
        "id": "b6zU1Dws-E-w"
      },
      "execution_count": null,
      "outputs": []
    },
    {
      "cell_type": "markdown",
      "source": [
        "## car007"
      ],
      "metadata": {
        "id": "HBwAUuW12goU"
      }
    },
    {
      "cell_type": "code",
      "source": [],
      "metadata": {
        "id": "JVp317lf-FTS"
      },
      "execution_count": null,
      "outputs": []
    },
    {
      "cell_type": "code",
      "source": [],
      "metadata": {
        "id": "TL7OTMG8-FVr"
      },
      "execution_count": null,
      "outputs": []
    },
    {
      "cell_type": "code",
      "source": [],
      "metadata": {
        "id": "WhdJ71ei-FYV"
      },
      "execution_count": null,
      "outputs": []
    },
    {
      "cell_type": "markdown",
      "source": [
        "## car008"
      ],
      "metadata": {
        "id": "AGSoID-D2gsL"
      }
    },
    {
      "cell_type": "code",
      "source": [],
      "metadata": {
        "id": "NGLARRk1-Fyp"
      },
      "execution_count": null,
      "outputs": []
    },
    {
      "cell_type": "code",
      "source": [],
      "metadata": {
        "id": "3ttJVRUu-F02"
      },
      "execution_count": null,
      "outputs": []
    },
    {
      "cell_type": "code",
      "source": [],
      "metadata": {
        "id": "nNJ1KGxo-F3S"
      },
      "execution_count": null,
      "outputs": []
    },
    {
      "cell_type": "markdown",
      "source": [
        "## car014"
      ],
      "metadata": {
        "id": "1IbTTa2C2gvq"
      }
    },
    {
      "cell_type": "code",
      "source": [],
      "metadata": {
        "id": "LiVDYfEV-GRa"
      },
      "execution_count": null,
      "outputs": []
    },
    {
      "cell_type": "code",
      "source": [],
      "metadata": {
        "id": "qVboFiAS-GT-"
      },
      "execution_count": null,
      "outputs": []
    },
    {
      "cell_type": "code",
      "source": [],
      "metadata": {
        "id": "jhvbT7KI-GWZ"
      },
      "execution_count": null,
      "outputs": []
    },
    {
      "cell_type": "markdown",
      "source": [
        "## car017"
      ],
      "metadata": {
        "id": "3EXMRbBL2g09"
      }
    },
    {
      "cell_type": "code",
      "source": [],
      "metadata": {
        "id": "LjBApHR--G4Q"
      },
      "execution_count": null,
      "outputs": []
    },
    {
      "cell_type": "code",
      "source": [],
      "metadata": {
        "id": "wtIqgF-R-G6t"
      },
      "execution_count": null,
      "outputs": []
    },
    {
      "cell_type": "code",
      "source": [],
      "metadata": {
        "id": "HHVnhfkj-G9I"
      },
      "execution_count": null,
      "outputs": []
    },
    {
      "cell_type": "markdown",
      "source": [
        "## car019"
      ],
      "metadata": {
        "id": "thT_Bk7k2lJ-"
      }
    },
    {
      "cell_type": "code",
      "source": [],
      "metadata": {
        "id": "n5LxdbYh-HS9"
      },
      "execution_count": null,
      "outputs": []
    },
    {
      "cell_type": "code",
      "source": [],
      "metadata": {
        "id": "q44vhtun-HVS"
      },
      "execution_count": null,
      "outputs": []
    },
    {
      "cell_type": "code",
      "source": [],
      "metadata": {
        "id": "gDyvafnn-HYD"
      },
      "execution_count": null,
      "outputs": []
    },
    {
      "cell_type": "markdown",
      "source": [
        "## car026"
      ],
      "metadata": {
        "id": "PvUFVsLp2lPZ"
      }
    },
    {
      "cell_type": "code",
      "source": [],
      "metadata": {
        "id": "LarDVr75-Hyu"
      },
      "execution_count": null,
      "outputs": []
    },
    {
      "cell_type": "code",
      "source": [],
      "metadata": {
        "id": "LrvUuotl-H1G"
      },
      "execution_count": null,
      "outputs": []
    },
    {
      "cell_type": "code",
      "source": [],
      "metadata": {
        "id": "oWuNw5-A-H3h"
      },
      "execution_count": null,
      "outputs": []
    },
    {
      "cell_type": "markdown",
      "source": [
        "## car028"
      ],
      "metadata": {
        "id": "4VDMk54d2pCG"
      }
    },
    {
      "cell_type": "code",
      "source": [],
      "metadata": {
        "id": "SkB3_pBo-Iai"
      },
      "execution_count": null,
      "outputs": []
    },
    {
      "cell_type": "code",
      "source": [],
      "metadata": {
        "id": "ABRZcvkt-IgA"
      },
      "execution_count": null,
      "outputs": []
    },
    {
      "cell_type": "code",
      "source": [],
      "metadata": {
        "id": "98a5ci34-IqJ"
      },
      "execution_count": null,
      "outputs": []
    },
    {
      "cell_type": "markdown",
      "source": [
        "## car033"
      ],
      "metadata": {
        "id": "36Pt6hX32pGW"
      }
    },
    {
      "cell_type": "code",
      "source": [],
      "metadata": {
        "id": "vh5IBUZ1-JHU"
      },
      "execution_count": null,
      "outputs": []
    },
    {
      "cell_type": "code",
      "source": [],
      "metadata": {
        "id": "xhELJYYg-JJ0"
      },
      "execution_count": null,
      "outputs": []
    },
    {
      "cell_type": "code",
      "source": [],
      "metadata": {
        "id": "q1au7DCe-JMP"
      },
      "execution_count": null,
      "outputs": []
    },
    {
      "cell_type": "markdown",
      "source": [
        "## car040"
      ],
      "metadata": {
        "id": "XjUO4M1X2pKs"
      }
    },
    {
      "cell_type": "code",
      "source": [],
      "metadata": {
        "id": "bCRawP4M-Jpa"
      },
      "execution_count": null,
      "outputs": []
    },
    {
      "cell_type": "code",
      "source": [],
      "metadata": {
        "id": "GCZZk4YK-JsE"
      },
      "execution_count": null,
      "outputs": []
    },
    {
      "cell_type": "code",
      "source": [],
      "metadata": {
        "id": "7FwvTxRg-Jut"
      },
      "execution_count": null,
      "outputs": []
    },
    {
      "cell_type": "markdown",
      "source": [
        "## car049"
      ],
      "metadata": {
        "id": "OAU1BmRr2szI"
      }
    },
    {
      "cell_type": "code",
      "source": [],
      "metadata": {
        "id": "MCeahp0u-Kdv"
      },
      "execution_count": null,
      "outputs": []
    },
    {
      "cell_type": "code",
      "source": [],
      "metadata": {
        "id": "i-o2prgM-KgM"
      },
      "execution_count": null,
      "outputs": []
    },
    {
      "cell_type": "code",
      "source": [],
      "metadata": {
        "id": "BtAEeexR-Kin"
      },
      "execution_count": null,
      "outputs": []
    },
    {
      "cell_type": "markdown",
      "source": [
        "# เช็คข้อมูลภาพ"
      ],
      "metadata": {
        "id": "tIHainzRw3Fa"
      }
    },
    {
      "cell_type": "code",
      "source": [
        "data_clean1 = car016[car016['P']=='p13, p14'] \n",
        "data_clean1"
      ],
      "metadata": {
        "id": "Q3IS1mWd2bFQ"
      },
      "execution_count": null,
      "outputs": []
    },
    {
      "cell_type": "code",
      "source": [
        "len(data_clean1)"
      ],
      "metadata": {
        "id": "CM3xe2flzlFQ"
      },
      "execution_count": null,
      "outputs": []
    }
  ]
}