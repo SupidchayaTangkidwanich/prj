{
  "nbformat": 4,
  "nbformat_minor": 0,
  "metadata": {
    "colab": {
      "provenance": [],
      "authorship_tag": "ABX9TyPvHRNxyH5yiDNo+Byi/s1V",
      "include_colab_link": true
    },
    "kernelspec": {
      "name": "python3",
      "display_name": "Python 3"
    },
    "language_info": {
      "name": "python"
    }
  },
  "cells": [
    {
      "cell_type": "markdown",
      "metadata": {
        "id": "view-in-github",
        "colab_type": "text"
      },
      "source": [
        "<a href=\"https://colab.research.google.com/github/SupidchayaTangkidwanich/prj/blob/main/check_total_of_real_car_images.ipynb\" target=\"_parent\"><img src=\"https://colab.research.google.com/assets/colab-badge.svg\" alt=\"Open In Colab\"/></a>"
      ]
    },
    {
      "cell_type": "code",
      "execution_count": 1,
      "metadata": {
        "id": "_s7A0xndzLBx"
      },
      "outputs": [],
      "source": [
        "import pandas as pd"
      ]
    },
    {
      "cell_type": "code",
      "source": [
        "from google.colab import drive #เชื่อมเข้ากับ Drive \n",
        "drive.mount('/content/drive')  # คลิกที่ลิงก์ -> เลือก E-mail -> ลงชื่อเข้าใช้ -> ก็อปโค้ด -> นำกลับมาวางในช่องว่าง -> กด enter"
      ],
      "metadata": {
        "colab": {
          "base_uri": "https://localhost:8080/"
        },
        "id": "hRceU8wezf3J",
        "outputId": "54c78b19-2363-4bbe-bf2c-ce0ff38d6ca4"
      },
      "execution_count": 2,
      "outputs": [
        {
          "output_type": "stream",
          "name": "stdout",
          "text": [
            "Mounted at /content/drive\n"
          ]
        }
      ]
    },
    {
      "cell_type": "code",
      "source": [
        "ls #คำสั่ง ls ดูว่าเชื่อมในไดร์ฟหรือยัง"
      ],
      "metadata": {
        "colab": {
          "base_uri": "https://localhost:8080/"
        },
        "id": "jzx_OBBzzf5V",
        "outputId": "19ef000d-2902-40db-f735-f73a7d8e7dab"
      },
      "execution_count": 3,
      "outputs": [
        {
          "output_type": "stream",
          "name": "stdout",
          "text": [
            "\u001b[0m\u001b[01;34mdrive\u001b[0m/  \u001b[01;34msample_data\u001b[0m/\n"
          ]
        }
      ]
    },
    {
      "cell_type": "code",
      "source": [
        "import os # os เอาไว้จัดการไฟล์และ path"
      ],
      "metadata": {
        "id": "3ujerZ8Xzf7l"
      },
      "execution_count": 4,
      "outputs": []
    },
    {
      "cell_type": "markdown",
      "source": [
        "## ดึงตาราง"
      ],
      "metadata": {
        "id": "uh6hUtiUzkId"
      }
    },
    {
      "cell_type": "code",
      "source": [
        "path = '/content/drive/My Drive/Newdata' #path คือที่อยู่ของไฟล์ โดยไฟล์อยู่ในไดร์ฟ ชื่อโฟลเดอร์ว่า File\n",
        "data  = pd.read_csv(os.path.join(path,'real.csv')) \n",
        "data "
      ],
      "metadata": {
        "colab": {
          "base_uri": "https://localhost:8080/",
          "height": 423
        },
        "id": "5QN6zCqCzf91",
        "outputId": "2e8c5cb2-837b-4817-edf7-aab14ae0689e"
      },
      "execution_count": 5,
      "outputs": [
        {
          "output_type": "execute_result",
          "data": {
            "text/plain": [
              "      Unnamed: 0                                          Path_Name      id  \\\n",
              "0              0  /content/drive/My Drive/car/car001/p08/left-00...  car001   \n",
              "1              1  /content/drive/My Drive/car/car001/p08/left-01...  car001   \n",
              "2              2  /content/drive/My Drive/car/car001/p08/left-00...  car001   \n",
              "3              3  /content/drive/My Drive/car/car001/p08/left-00...  car001   \n",
              "4              4  /content/drive/My Drive/car/car001/p08/left-00...  car001   \n",
              "...          ...                                                ...     ...   \n",
              "5831         126  /content/drive/My Drive/car/car052/p14/left-11...  car052   \n",
              "5832         127  /content/drive/My Drive/car/car052/p14/left-11...  car052   \n",
              "5833         128  /content/drive/My Drive/car/car052/p14/left-11...  car052   \n",
              "5834         129  /content/drive/My Drive/car/car052/p14/left-11...  car052   \n",
              "5835         130  /content/drive/My Drive/car/car052/p14/left-11...  car052   \n",
              "\n",
              "     Part  \n",
              "0     p08  \n",
              "1     p08  \n",
              "2     p08  \n",
              "3     p08  \n",
              "4     p08  \n",
              "...   ...  \n",
              "5831  p14  \n",
              "5832  p14  \n",
              "5833  p14  \n",
              "5834  p14  \n",
              "5835  p14  \n",
              "\n",
              "[5836 rows x 4 columns]"
            ],
            "text/html": [
              "\n",
              "  <div id=\"df-78c5a1f5-99f9-474c-8aa2-d6e2b2281321\">\n",
              "    <div class=\"colab-df-container\">\n",
              "      <div>\n",
              "<style scoped>\n",
              "    .dataframe tbody tr th:only-of-type {\n",
              "        vertical-align: middle;\n",
              "    }\n",
              "\n",
              "    .dataframe tbody tr th {\n",
              "        vertical-align: top;\n",
              "    }\n",
              "\n",
              "    .dataframe thead th {\n",
              "        text-align: right;\n",
              "    }\n",
              "</style>\n",
              "<table border=\"1\" class=\"dataframe\">\n",
              "  <thead>\n",
              "    <tr style=\"text-align: right;\">\n",
              "      <th></th>\n",
              "      <th>Unnamed: 0</th>\n",
              "      <th>Path_Name</th>\n",
              "      <th>id</th>\n",
              "      <th>Part</th>\n",
              "    </tr>\n",
              "  </thead>\n",
              "  <tbody>\n",
              "    <tr>\n",
              "      <th>0</th>\n",
              "      <td>0</td>\n",
              "      <td>/content/drive/My Drive/car/car001/p08/left-00...</td>\n",
              "      <td>car001</td>\n",
              "      <td>p08</td>\n",
              "    </tr>\n",
              "    <tr>\n",
              "      <th>1</th>\n",
              "      <td>1</td>\n",
              "      <td>/content/drive/My Drive/car/car001/p08/left-01...</td>\n",
              "      <td>car001</td>\n",
              "      <td>p08</td>\n",
              "    </tr>\n",
              "    <tr>\n",
              "      <th>2</th>\n",
              "      <td>2</td>\n",
              "      <td>/content/drive/My Drive/car/car001/p08/left-00...</td>\n",
              "      <td>car001</td>\n",
              "      <td>p08</td>\n",
              "    </tr>\n",
              "    <tr>\n",
              "      <th>3</th>\n",
              "      <td>3</td>\n",
              "      <td>/content/drive/My Drive/car/car001/p08/left-00...</td>\n",
              "      <td>car001</td>\n",
              "      <td>p08</td>\n",
              "    </tr>\n",
              "    <tr>\n",
              "      <th>4</th>\n",
              "      <td>4</td>\n",
              "      <td>/content/drive/My Drive/car/car001/p08/left-00...</td>\n",
              "      <td>car001</td>\n",
              "      <td>p08</td>\n",
              "    </tr>\n",
              "    <tr>\n",
              "      <th>...</th>\n",
              "      <td>...</td>\n",
              "      <td>...</td>\n",
              "      <td>...</td>\n",
              "      <td>...</td>\n",
              "    </tr>\n",
              "    <tr>\n",
              "      <th>5831</th>\n",
              "      <td>126</td>\n",
              "      <td>/content/drive/My Drive/car/car052/p14/left-11...</td>\n",
              "      <td>car052</td>\n",
              "      <td>p14</td>\n",
              "    </tr>\n",
              "    <tr>\n",
              "      <th>5832</th>\n",
              "      <td>127</td>\n",
              "      <td>/content/drive/My Drive/car/car052/p14/left-11...</td>\n",
              "      <td>car052</td>\n",
              "      <td>p14</td>\n",
              "    </tr>\n",
              "    <tr>\n",
              "      <th>5833</th>\n",
              "      <td>128</td>\n",
              "      <td>/content/drive/My Drive/car/car052/p14/left-11...</td>\n",
              "      <td>car052</td>\n",
              "      <td>p14</td>\n",
              "    </tr>\n",
              "    <tr>\n",
              "      <th>5834</th>\n",
              "      <td>129</td>\n",
              "      <td>/content/drive/My Drive/car/car052/p14/left-11...</td>\n",
              "      <td>car052</td>\n",
              "      <td>p14</td>\n",
              "    </tr>\n",
              "    <tr>\n",
              "      <th>5835</th>\n",
              "      <td>130</td>\n",
              "      <td>/content/drive/My Drive/car/car052/p14/left-11...</td>\n",
              "      <td>car052</td>\n",
              "      <td>p14</td>\n",
              "    </tr>\n",
              "  </tbody>\n",
              "</table>\n",
              "<p>5836 rows × 4 columns</p>\n",
              "</div>\n",
              "      <button class=\"colab-df-convert\" onclick=\"convertToInteractive('df-78c5a1f5-99f9-474c-8aa2-d6e2b2281321')\"\n",
              "              title=\"Convert this dataframe to an interactive table.\"\n",
              "              style=\"display:none;\">\n",
              "        \n",
              "  <svg xmlns=\"http://www.w3.org/2000/svg\" height=\"24px\"viewBox=\"0 0 24 24\"\n",
              "       width=\"24px\">\n",
              "    <path d=\"M0 0h24v24H0V0z\" fill=\"none\"/>\n",
              "    <path d=\"M18.56 5.44l.94 2.06.94-2.06 2.06-.94-2.06-.94-.94-2.06-.94 2.06-2.06.94zm-11 1L8.5 8.5l.94-2.06 2.06-.94-2.06-.94L8.5 2.5l-.94 2.06-2.06.94zm10 10l.94 2.06.94-2.06 2.06-.94-2.06-.94-.94-2.06-.94 2.06-2.06.94z\"/><path d=\"M17.41 7.96l-1.37-1.37c-.4-.4-.92-.59-1.43-.59-.52 0-1.04.2-1.43.59L10.3 9.45l-7.72 7.72c-.78.78-.78 2.05 0 2.83L4 21.41c.39.39.9.59 1.41.59.51 0 1.02-.2 1.41-.59l7.78-7.78 2.81-2.81c.8-.78.8-2.07 0-2.86zM5.41 20L4 18.59l7.72-7.72 1.47 1.35L5.41 20z\"/>\n",
              "  </svg>\n",
              "      </button>\n",
              "      \n",
              "  <style>\n",
              "    .colab-df-container {\n",
              "      display:flex;\n",
              "      flex-wrap:wrap;\n",
              "      gap: 12px;\n",
              "    }\n",
              "\n",
              "    .colab-df-convert {\n",
              "      background-color: #E8F0FE;\n",
              "      border: none;\n",
              "      border-radius: 50%;\n",
              "      cursor: pointer;\n",
              "      display: none;\n",
              "      fill: #1967D2;\n",
              "      height: 32px;\n",
              "      padding: 0 0 0 0;\n",
              "      width: 32px;\n",
              "    }\n",
              "\n",
              "    .colab-df-convert:hover {\n",
              "      background-color: #E2EBFA;\n",
              "      box-shadow: 0px 1px 2px rgba(60, 64, 67, 0.3), 0px 1px 3px 1px rgba(60, 64, 67, 0.15);\n",
              "      fill: #174EA6;\n",
              "    }\n",
              "\n",
              "    [theme=dark] .colab-df-convert {\n",
              "      background-color: #3B4455;\n",
              "      fill: #D2E3FC;\n",
              "    }\n",
              "\n",
              "    [theme=dark] .colab-df-convert:hover {\n",
              "      background-color: #434B5C;\n",
              "      box-shadow: 0px 1px 3px 1px rgba(0, 0, 0, 0.15);\n",
              "      filter: drop-shadow(0px 1px 2px rgba(0, 0, 0, 0.3));\n",
              "      fill: #FFFFFF;\n",
              "    }\n",
              "  </style>\n",
              "\n",
              "      <script>\n",
              "        const buttonEl =\n",
              "          document.querySelector('#df-78c5a1f5-99f9-474c-8aa2-d6e2b2281321 button.colab-df-convert');\n",
              "        buttonEl.style.display =\n",
              "          google.colab.kernel.accessAllowed ? 'block' : 'none';\n",
              "\n",
              "        async function convertToInteractive(key) {\n",
              "          const element = document.querySelector('#df-78c5a1f5-99f9-474c-8aa2-d6e2b2281321');\n",
              "          const dataTable =\n",
              "            await google.colab.kernel.invokeFunction('convertToInteractive',\n",
              "                                                     [key], {});\n",
              "          if (!dataTable) return;\n",
              "\n",
              "          const docLinkHtml = 'Like what you see? Visit the ' +\n",
              "            '<a target=\"_blank\" href=https://colab.research.google.com/notebooks/data_table.ipynb>data table notebook</a>'\n",
              "            + ' to learn more about interactive tables.';\n",
              "          element.innerHTML = '';\n",
              "          dataTable['output_type'] = 'display_data';\n",
              "          await google.colab.output.renderOutput(dataTable, element);\n",
              "          const docLink = document.createElement('div');\n",
              "          docLink.innerHTML = docLinkHtml;\n",
              "          element.appendChild(docLink);\n",
              "        }\n",
              "      </script>\n",
              "    </div>\n",
              "  </div>\n",
              "  "
            ]
          },
          "metadata": {},
          "execution_count": 5
        }
      ]
    },
    {
      "cell_type": "code",
      "source": [
        "data_clean1 = data[data['Part']=='p01']\n",
        "data_clean13 = data[data['Part']=='p02'] \n",
        "data_clean2 = data[data['Part']=='p03']\n",
        "data_clean3 = data[data['Part']=='p04']\n",
        "data_clean4 = data[data['Part']=='p05']\n",
        "data_clean5 = data[data['Part']=='p06']\n",
        "data_clean6 = data[data['Part']=='p07']\n",
        "data_clean7 = data[data['Part']=='p08']\n",
        "data_clean8 = data[data['Part']=='p09']\n",
        "data_clean9 = data[data['Part']=='p10']\n",
        "data_clean10 = data[data['Part']=='p11']\n",
        "data_clean11 = data[data['Part']=='p12']\n",
        "data_clean12 = data[data['Part']=='p13']\n",
        "data_clean14 = data[data['Part']=='p14']\n",
        "data_clean15 = data[data['Part']=='p15']"
      ],
      "metadata": {
        "id": "AT49AktHzf_s"
      },
      "execution_count": 6,
      "outputs": []
    },
    {
      "cell_type": "code",
      "source": [
        "print(len(data_clean1))\n",
        "print(len(data_clean13))\n",
        "print(len(data_clean2))\n",
        "print(len(data_clean3))\n",
        "print(len(data_clean4))\n",
        "print(len(data_clean5))\n",
        "print(len(data_clean6))\n",
        "print(len(data_clean7))\n",
        "print(len(data_clean8))\n",
        "print(len(data_clean9))\n",
        "print(len(data_clean10))\n",
        "print(len(data_clean11))\n",
        "print(len(data_clean12))\n",
        "print(len(data_clean14))\n",
        "print(len(data_clean15))"
      ],
      "metadata": {
        "colab": {
          "base_uri": "https://localhost:8080/"
        },
        "id": "ORE3qOTL0wrv",
        "outputId": "943541e4-64c5-412e-c24f-e67951cd2d05"
      },
      "execution_count": 7,
      "outputs": [
        {
          "output_type": "stream",
          "name": "stdout",
          "text": [
            "303\n",
            "679\n",
            "421\n",
            "370\n",
            "592\n",
            "637\n",
            "216\n",
            "374\n",
            "500\n",
            "513\n",
            "309\n",
            "296\n",
            "236\n",
            "390\n",
            "0\n"
          ]
        }
      ]
    }
  ]
}