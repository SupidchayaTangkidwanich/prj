{
  "nbformat": 4,
  "nbformat_minor": 0,
  "metadata": {
    "colab": {
      "provenance": [],
      "authorship_tag": "ABX9TyNO9XF4uivVQBaZ2MPT9DU6",
      "include_colab_link": true
    },
    "kernelspec": {
      "name": "python3",
      "display_name": "Python 3"
    },
    "language_info": {
      "name": "python"
    }
  },
  "cells": [
    {
      "cell_type": "markdown",
      "metadata": {
        "id": "view-in-github",
        "colab_type": "text"
      },
      "source": [
        "<a href=\"https://colab.research.google.com/github/SupidchayaTangkidwanich/prj/blob/main/csv_datareal_angle_car.ipynb\" target=\"_parent\"><img src=\"https://colab.research.google.com/assets/colab-badge.svg\" alt=\"Open In Colab\"/></a>"
      ]
    },
    {
      "cell_type": "code",
      "execution_count": 1,
      "metadata": {
        "id": "5zVmtJ736pDq"
      },
      "outputs": [],
      "source": [
        "import pandas as pd"
      ]
    },
    {
      "cell_type": "code",
      "source": [
        "from google.colab import drive # เชื่อมเข้ากับ Drive\n",
        "drive.mount('/content/drive')"
      ],
      "metadata": {
        "colab": {
          "base_uri": "https://localhost:8080/"
        },
        "id": "PiTnTiBt63yO",
        "outputId": "7bc20f54-5e28-49df-cc04-7d77f735df94"
      },
      "execution_count": 2,
      "outputs": [
        {
          "output_type": "stream",
          "name": "stdout",
          "text": [
            "Mounted at /content/drive\n"
          ]
        }
      ]
    },
    {
      "cell_type": "code",
      "source": [
        "ls"
      ],
      "metadata": {
        "colab": {
          "base_uri": "https://localhost:8080/"
        },
        "id": "FnzRCgrr630i",
        "outputId": "ee01f921-0081-49d7-f28c-7094bb0f250a"
      },
      "execution_count": 3,
      "outputs": [
        {
          "output_type": "stream",
          "name": "stdout",
          "text": [
            "\u001b[0m\u001b[01;34mdrive\u001b[0m/  \u001b[01;34msample_data\u001b[0m/\n"
          ]
        }
      ]
    },
    {
      "cell_type": "markdown",
      "source": [
        "# แบบมีประตู"
      ],
      "metadata": {
        "id": "tsapQRMV7HdD"
      }
    },
    {
      "cell_type": "markdown",
      "source": [
        "## car003"
      ],
      "metadata": {
        "id": "dDg1EZbf6-pE"
      }
    },
    {
      "cell_type": "code",
      "source": [
        "car003 = r'/content/drive/My Drive/car/car003'"
      ],
      "metadata": {
        "id": "GOEf6TXB68cw"
      },
      "execution_count": 4,
      "outputs": []
    },
    {
      "cell_type": "code",
      "source": [
        "import os # os เอาไว้จัดการไฟล์และ path \n",
        "\n",
        "files = [] # สร้างตัวแปรมารับค่าไว้ใน list ว่าง\n",
        "for (path, dirnames, filenames) in os.walk(car003): # os.walk คือ ทำงานสร้างชื่อไฟล์แต่ละไฟล์ ตามที่เก็บข้อมูล\n",
        "    \n",
        "    files.extend(os.path.join(path, name) for name in filenames) # extend  ใช้เพื่อรวม list # คำสั่งเชื่อมส่วนประกอบของ path ที่ประกอบด้วย directory หรือ file เพื่อสร้าง path หรือ URL ที่รองรับการทำงานบนระบบปฏิบัติการต่างๆ\n",
        "\n",
        "print(files) # แสดงผลลัพธ์"
      ],
      "metadata": {
        "colab": {
          "base_uri": "https://localhost:8080/"
        },
        "id": "D3oEGX7s6329",
        "outputId": "40f2fbeb-a107-4d1f-a72a-83289f529a38"
      },
      "execution_count": 5,
      "outputs": [
        {
          "output_type": "stream",
          "name": "stdout",
          "text": [
            "['/content/drive/My Drive/car/car003/p13, p14/left-0085.png', '/content/drive/My Drive/car/car003/p13, p14/left-0001.png', '/content/drive/My Drive/car/car003/p13, p14/left-2941.png', '/content/drive/My Drive/car/car003/p13, p14/left-0029.png', '/content/drive/My Drive/car/car003/p13, p14/left-2969.png', '/content/drive/My Drive/car/car003/p13, p14/left-2857.png', '/content/drive/My Drive/car/car003/p13, p14/left-2885.png', '/content/drive/My Drive/car/car003/p13, p14/left-2913.png', '/content/drive/My Drive/car/car003/p13, p14/left-2997.png', '/content/drive/My Drive/car/car003/p13, p14/left-3081.png', '/content/drive/My Drive/car/car003/p13, p14/left-3025.png', '/content/drive/My Drive/car/car003/p13, p14/left-3109.png', '/content/drive/My Drive/car/car003/p13, p14/left-3053.png', '/content/drive/My Drive/car/car003/p13, p14/left-0057.png', '/content/drive/My Drive/car/car003/p12/left-0141.png', '/content/drive/My Drive/car/car003/p12/left-0169.png', '/content/drive/My Drive/car/car003/p12/left-0113.png', '/content/drive/My Drive/car/car003/p12/left-0197.png', '/content/drive/My Drive/car/car003/p12/left-0225.png', '/content/drive/My Drive/car/car003/p12/left-0253.png', '/content/drive/My Drive/car/car003/p12/left-3137.png', '/content/drive/My Drive/car/car003/p12/left-3165.png', '/content/drive/My Drive/car/car003/p12/left-3193.png', '/content/drive/My Drive/car/car003/p12/left-3221.png', '/content/drive/My Drive/car/car003/p12/left-3277.png', '/content/drive/My Drive/car/car003/p12/left-3249.png', '/content/drive/My Drive/car/car003/p12/left-3361.png', '/content/drive/My Drive/car/car003/p12/left-3333.png', '/content/drive/My Drive/car/car003/p12/left-3389.png', '/content/drive/My Drive/car/car003/p12/left-3305.png', '/content/drive/My Drive/car/car003/p10/left-0281.png', '/content/drive/My Drive/car/car003/p10/left-0309.png', '/content/drive/My Drive/car/car003/p10/left-0337.png', '/content/drive/My Drive/car/car003/p10/left-0365.png', '/content/drive/My Drive/car/car003/p10/left-0393.png', '/content/drive/My Drive/car/car003/p10/left-0421.png', '/content/drive/My Drive/car/car003/p10/left-0449.png', '/content/drive/My Drive/car/car003/p10/left-0477.png', '/content/drive/My Drive/car/car003/p10/left-0505.png', '/content/drive/My Drive/car/car003/p10/left-0533.png', '/content/drive/My Drive/car/car003/p10/left-0561.png', '/content/drive/My Drive/car/car003/p10/left-0589.png', '/content/drive/My Drive/car/car003/p10/left-0617.png', '/content/drive/My Drive/car/car003/p10/left-0673.png', '/content/drive/My Drive/car/car003/p10/left-0645.png', '/content/drive/My Drive/car/car003/p10/left-3417.png', '/content/drive/My Drive/car/car003/p10/left-0701.png', '/content/drive/My Drive/car/car003/p10/left-3445.png', '/content/drive/My Drive/car/car003/p06/left-0729.png', '/content/drive/My Drive/car/car003/p06/left-0757.png', '/content/drive/My Drive/car/car003/p06/left-0785.png', '/content/drive/My Drive/car/car003/p06/left-0813.png', '/content/drive/My Drive/car/car003/p06/left-0841.png', '/content/drive/My Drive/car/car003/p06/left-0869.png', '/content/drive/My Drive/car/car003/p06/left-0897.png', '/content/drive/My Drive/car/car003/p06/left-0925.png', '/content/drive/My Drive/car/car003/p06/left-0953.png', '/content/drive/My Drive/car/car003/p06/left-0981.png', '/content/drive/My Drive/car/car003/p06/left-1009.png', '/content/drive/My Drive/car/car003/p06/left-1037.png', '/content/drive/My Drive/car/car003/p08/left-1065.png', '/content/drive/My Drive/car/car003/p08/left-1093.png', '/content/drive/My Drive/car/car003/p08/left-1121.png', '/content/drive/My Drive/car/car003/p08/left-1149.png', '/content/drive/My Drive/car/car003/p08/left-1177.png', '/content/drive/My Drive/car/car003/p08/left-1205.png', '/content/drive/My Drive/car/car003/p08/left-1233.png', '/content/drive/My Drive/car/car003/p04/left-1261.png', '/content/drive/My Drive/car/car003/p04/left-1289.png', '/content/drive/My Drive/car/car003/p04/left-1317.png', '/content/drive/My Drive/car/car003/p04/left-1345.png', '/content/drive/My Drive/car/car003/p04/left-1373.png', '/content/drive/My Drive/car/car003/p01,p02/left-1569.png', '/content/drive/My Drive/car/car003/p01,p02/left-1597.png', '/content/drive/My Drive/car/car003/p01,p02/left-1625.png', '/content/drive/My Drive/car/car003/p01,p02/left-1653.png', '/content/drive/My Drive/car/car003/p01,p02/left-1681.png', '/content/drive/My Drive/car/car003/p01,p02/left-1513.png', '/content/drive/My Drive/car/car003/p01,p02/left-1541.png', '/content/drive/My Drive/car/car003/p01,p02/left-1429.png', '/content/drive/My Drive/car/car003/p01,p02/left-1457.png', '/content/drive/My Drive/car/car003/p01,p02/left-1401.png', '/content/drive/My Drive/car/car003/p01,p02/left-1485.png', '/content/drive/My Drive/car/car003/p03/left-1709.png', '/content/drive/My Drive/car/car003/p03/left-1737.png', '/content/drive/My Drive/car/car003/p03/left-1765.png', '/content/drive/My Drive/car/car003/p07/left-1793.png', '/content/drive/My Drive/car/car003/p07/left-1821.png', '/content/drive/My Drive/car/car003/p05/left-2129.png', '/content/drive/My Drive/car/car003/p05/left-2157.png', '/content/drive/My Drive/car/car003/p05/left-2185.png', '/content/drive/My Drive/car/car003/p05/left-2213.png', '/content/drive/My Drive/car/car003/p05/left-1877.png', '/content/drive/My Drive/car/car003/p05/left-1849.png', '/content/drive/My Drive/car/car003/p05/left-2101.png', '/content/drive/My Drive/car/car003/p05/left-2045.png', '/content/drive/My Drive/car/car003/p05/left-1933.png', '/content/drive/My Drive/car/car003/p05/left-2017.png', '/content/drive/My Drive/car/car003/p05/left-1961.png', '/content/drive/My Drive/car/car003/p05/left-2073.png', '/content/drive/My Drive/car/car003/p05/left-1905.png', '/content/drive/My Drive/car/car003/p05/left-1989.png', '/content/drive/My Drive/car/car003/p09/left-2241.png', '/content/drive/My Drive/car/car003/p09/left-2269.png', '/content/drive/My Drive/car/car003/p09/left-2297.png', '/content/drive/My Drive/car/car003/p09/left-2325.png', '/content/drive/My Drive/car/car003/p09/left-2353.png', '/content/drive/My Drive/car/car003/p09/left-2381.png', '/content/drive/My Drive/car/car003/p09/left-2409.png', '/content/drive/My Drive/car/car003/p09/left-2437.png', '/content/drive/My Drive/car/car003/p09/left-2465.png', '/content/drive/My Drive/car/car003/p09/left-2493.png', '/content/drive/My Drive/car/car003/p09/left-2521.png', '/content/drive/My Drive/car/car003/p09/left-2549.png', '/content/drive/My Drive/car/car003/p09/left-2577.png', '/content/drive/My Drive/car/car003/p09/left-2605.png', '/content/drive/My Drive/car/car003/p11/left-2633.png', '/content/drive/My Drive/car/car003/p11/left-2661.png', '/content/drive/My Drive/car/car003/p11/left-2689.png', '/content/drive/My Drive/car/car003/p11/left-2717.png', '/content/drive/My Drive/car/car003/p11/left-2745.png', '/content/drive/My Drive/car/car003/p11/left-2773.png', '/content/drive/My Drive/car/car003/p11/left-2801.png', '/content/drive/My Drive/car/car003/p11/left-2829.png']\n"
          ]
        }
      ]
    },
    {
      "cell_type": "code",
      "source": [
        "car003 = pd.DataFrame({'Path_Name':files})\n",
        "car003"
      ],
      "metadata": {
        "colab": {
          "base_uri": "https://localhost:8080/",
          "height": 423
        },
        "id": "BayX3uHU7XGd",
        "outputId": "bb90387b-4729-4c50-ec88-b20b3a4a5933"
      },
      "execution_count": 6,
      "outputs": [
        {
          "output_type": "execute_result",
          "data": {
            "text/plain": [
              "                                             Path_Name\n",
              "0    /content/drive/My Drive/car/car003/p13, p14/le...\n",
              "1    /content/drive/My Drive/car/car003/p13, p14/le...\n",
              "2    /content/drive/My Drive/car/car003/p13, p14/le...\n",
              "3    /content/drive/My Drive/car/car003/p13, p14/le...\n",
              "4    /content/drive/My Drive/car/car003/p13, p14/le...\n",
              "..                                                 ...\n",
              "119  /content/drive/My Drive/car/car003/p11/left-27...\n",
              "120  /content/drive/My Drive/car/car003/p11/left-27...\n",
              "121  /content/drive/My Drive/car/car003/p11/left-27...\n",
              "122  /content/drive/My Drive/car/car003/p11/left-28...\n",
              "123  /content/drive/My Drive/car/car003/p11/left-28...\n",
              "\n",
              "[124 rows x 1 columns]"
            ],
            "text/html": [
              "\n",
              "  <div id=\"df-ef9515b6-bde8-484d-89eb-2f75e69d6483\">\n",
              "    <div class=\"colab-df-container\">\n",
              "      <div>\n",
              "<style scoped>\n",
              "    .dataframe tbody tr th:only-of-type {\n",
              "        vertical-align: middle;\n",
              "    }\n",
              "\n",
              "    .dataframe tbody tr th {\n",
              "        vertical-align: top;\n",
              "    }\n",
              "\n",
              "    .dataframe thead th {\n",
              "        text-align: right;\n",
              "    }\n",
              "</style>\n",
              "<table border=\"1\" class=\"dataframe\">\n",
              "  <thead>\n",
              "    <tr style=\"text-align: right;\">\n",
              "      <th></th>\n",
              "      <th>Path_Name</th>\n",
              "    </tr>\n",
              "  </thead>\n",
              "  <tbody>\n",
              "    <tr>\n",
              "      <th>0</th>\n",
              "      <td>/content/drive/My Drive/car/car003/p13, p14/le...</td>\n",
              "    </tr>\n",
              "    <tr>\n",
              "      <th>1</th>\n",
              "      <td>/content/drive/My Drive/car/car003/p13, p14/le...</td>\n",
              "    </tr>\n",
              "    <tr>\n",
              "      <th>2</th>\n",
              "      <td>/content/drive/My Drive/car/car003/p13, p14/le...</td>\n",
              "    </tr>\n",
              "    <tr>\n",
              "      <th>3</th>\n",
              "      <td>/content/drive/My Drive/car/car003/p13, p14/le...</td>\n",
              "    </tr>\n",
              "    <tr>\n",
              "      <th>4</th>\n",
              "      <td>/content/drive/My Drive/car/car003/p13, p14/le...</td>\n",
              "    </tr>\n",
              "    <tr>\n",
              "      <th>...</th>\n",
              "      <td>...</td>\n",
              "    </tr>\n",
              "    <tr>\n",
              "      <th>119</th>\n",
              "      <td>/content/drive/My Drive/car/car003/p11/left-27...</td>\n",
              "    </tr>\n",
              "    <tr>\n",
              "      <th>120</th>\n",
              "      <td>/content/drive/My Drive/car/car003/p11/left-27...</td>\n",
              "    </tr>\n",
              "    <tr>\n",
              "      <th>121</th>\n",
              "      <td>/content/drive/My Drive/car/car003/p11/left-27...</td>\n",
              "    </tr>\n",
              "    <tr>\n",
              "      <th>122</th>\n",
              "      <td>/content/drive/My Drive/car/car003/p11/left-28...</td>\n",
              "    </tr>\n",
              "    <tr>\n",
              "      <th>123</th>\n",
              "      <td>/content/drive/My Drive/car/car003/p11/left-28...</td>\n",
              "    </tr>\n",
              "  </tbody>\n",
              "</table>\n",
              "<p>124 rows × 1 columns</p>\n",
              "</div>\n",
              "      <button class=\"colab-df-convert\" onclick=\"convertToInteractive('df-ef9515b6-bde8-484d-89eb-2f75e69d6483')\"\n",
              "              title=\"Convert this dataframe to an interactive table.\"\n",
              "              style=\"display:none;\">\n",
              "        \n",
              "  <svg xmlns=\"http://www.w3.org/2000/svg\" height=\"24px\"viewBox=\"0 0 24 24\"\n",
              "       width=\"24px\">\n",
              "    <path d=\"M0 0h24v24H0V0z\" fill=\"none\"/>\n",
              "    <path d=\"M18.56 5.44l.94 2.06.94-2.06 2.06-.94-2.06-.94-.94-2.06-.94 2.06-2.06.94zm-11 1L8.5 8.5l.94-2.06 2.06-.94-2.06-.94L8.5 2.5l-.94 2.06-2.06.94zm10 10l.94 2.06.94-2.06 2.06-.94-2.06-.94-.94-2.06-.94 2.06-2.06.94z\"/><path d=\"M17.41 7.96l-1.37-1.37c-.4-.4-.92-.59-1.43-.59-.52 0-1.04.2-1.43.59L10.3 9.45l-7.72 7.72c-.78.78-.78 2.05 0 2.83L4 21.41c.39.39.9.59 1.41.59.51 0 1.02-.2 1.41-.59l7.78-7.78 2.81-2.81c.8-.78.8-2.07 0-2.86zM5.41 20L4 18.59l7.72-7.72 1.47 1.35L5.41 20z\"/>\n",
              "  </svg>\n",
              "      </button>\n",
              "      \n",
              "  <style>\n",
              "    .colab-df-container {\n",
              "      display:flex;\n",
              "      flex-wrap:wrap;\n",
              "      gap: 12px;\n",
              "    }\n",
              "\n",
              "    .colab-df-convert {\n",
              "      background-color: #E8F0FE;\n",
              "      border: none;\n",
              "      border-radius: 50%;\n",
              "      cursor: pointer;\n",
              "      display: none;\n",
              "      fill: #1967D2;\n",
              "      height: 32px;\n",
              "      padding: 0 0 0 0;\n",
              "      width: 32px;\n",
              "    }\n",
              "\n",
              "    .colab-df-convert:hover {\n",
              "      background-color: #E2EBFA;\n",
              "      box-shadow: 0px 1px 2px rgba(60, 64, 67, 0.3), 0px 1px 3px 1px rgba(60, 64, 67, 0.15);\n",
              "      fill: #174EA6;\n",
              "    }\n",
              "\n",
              "    [theme=dark] .colab-df-convert {\n",
              "      background-color: #3B4455;\n",
              "      fill: #D2E3FC;\n",
              "    }\n",
              "\n",
              "    [theme=dark] .colab-df-convert:hover {\n",
              "      background-color: #434B5C;\n",
              "      box-shadow: 0px 1px 3px 1px rgba(0, 0, 0, 0.15);\n",
              "      filter: drop-shadow(0px 1px 2px rgba(0, 0, 0, 0.3));\n",
              "      fill: #FFFFFF;\n",
              "    }\n",
              "  </style>\n",
              "\n",
              "      <script>\n",
              "        const buttonEl =\n",
              "          document.querySelector('#df-ef9515b6-bde8-484d-89eb-2f75e69d6483 button.colab-df-convert');\n",
              "        buttonEl.style.display =\n",
              "          google.colab.kernel.accessAllowed ? 'block' : 'none';\n",
              "\n",
              "        async function convertToInteractive(key) {\n",
              "          const element = document.querySelector('#df-ef9515b6-bde8-484d-89eb-2f75e69d6483');\n",
              "          const dataTable =\n",
              "            await google.colab.kernel.invokeFunction('convertToInteractive',\n",
              "                                                     [key], {});\n",
              "          if (!dataTable) return;\n",
              "\n",
              "          const docLinkHtml = 'Like what you see? Visit the ' +\n",
              "            '<a target=\"_blank\" href=https://colab.research.google.com/notebooks/data_table.ipynb>data table notebook</a>'\n",
              "            + ' to learn more about interactive tables.';\n",
              "          element.innerHTML = '';\n",
              "          dataTable['output_type'] = 'display_data';\n",
              "          await google.colab.output.renderOutput(dataTable, element);\n",
              "          const docLink = document.createElement('div');\n",
              "          docLink.innerHTML = docLinkHtml;\n",
              "          element.appendChild(docLink);\n",
              "        }\n",
              "      </script>\n",
              "    </div>\n",
              "  </div>\n",
              "  "
            ]
          },
          "metadata": {},
          "execution_count": 6
        }
      ]
    },
    {
      "cell_type": "code",
      "source": [
        "list_path = list(car003['Path_Name']) # เก็บที่อยู่ของภาพในรูปแบบตาราง โดยชื่อว่า list_path ซึ่ง list(ชื่อตาราง['ชื่อคอลัมน์'])\n",
        "class_list = list() # สร้างตัวแปร class_list มาเก็บ list ว่าง\n",
        "for i in list_path: # วนลูปใน list_path\n",
        "    res = i.split('/') # split ใช้สำหรับแยก โดยในที่นี้แยกด้วย / แล้วตั้งชื่อว่า res\n",
        "    #print(res[5]) # แสดงผลลัพธ์ของ res ตัวที่ 5 คือตำเเหน่งที่เราต้องการ \n",
        "    class_list.append(res[5]) # append  คำสั่งเพิ่มข้อมูลลงใน List\n",
        "    \n",
        "car003['id'] = class_list # ตั้งชื่อคอลัมน์ว่า id ในตาราง pathname โดยนำค่าใน class_list มาใส่"
      ],
      "metadata": {
        "id": "wskeCews7buz"
      },
      "execution_count": 8,
      "outputs": []
    },
    {
      "cell_type": "code",
      "source": [
        "list_path = list(car003['Path_Name']) # เก็บที่อยู่ของภาพในรูปแบบตาราง โดยชื่อว่า list_path ซึ่ง list(ชื่อตาราง['ชื่อคอลัมน์'])\n",
        "class_list = list() # สร้างตัวแปร class_list มาเก็บ list ว่าง\n",
        "for i in list_path: # วนลูปใน list_path\n",
        "    res = i.split('/') # split ใช้สำหรับแยก โดยในที่นี้แยกด้วย / แล้วตั้งชื่อว่า res\n",
        "    print(res[6]) # แสดงผลลัพธ์ของ res ตัวที่ 7 คือตำเเหน่งที่เราต้องการ \n",
        "    #class_list.append(res[7]) # append  คำสั่งเพิ่มข้อมูลลงใน List\n",
        "    \n",
        "#car003['Part'] = class_list # ตั้งชื่อคอลัมน์ว่า Part ในตาราง pathname โดยนำค่าใน class_list มาใส่"
      ],
      "metadata": {
        "colab": {
          "base_uri": "https://localhost:8080/"
        },
        "id": "N9AwZUAA7d7d",
        "outputId": "336b2746-f933-4ceb-a79c-39d81be4968e"
      },
      "execution_count": 10,
      "outputs": [
        {
          "output_type": "stream",
          "name": "stdout",
          "text": [
            "p13, p14\n",
            "p13, p14\n",
            "p13, p14\n",
            "p13, p14\n",
            "p13, p14\n",
            "p13, p14\n",
            "p13, p14\n",
            "p13, p14\n",
            "p13, p14\n",
            "p13, p14\n",
            "p13, p14\n",
            "p13, p14\n",
            "p13, p14\n",
            "p13, p14\n",
            "p12\n",
            "p12\n",
            "p12\n",
            "p12\n",
            "p12\n",
            "p12\n",
            "p12\n",
            "p12\n",
            "p12\n",
            "p12\n",
            "p12\n",
            "p12\n",
            "p12\n",
            "p12\n",
            "p12\n",
            "p12\n",
            "p10\n",
            "p10\n",
            "p10\n",
            "p10\n",
            "p10\n",
            "p10\n",
            "p10\n",
            "p10\n",
            "p10\n",
            "p10\n",
            "p10\n",
            "p10\n",
            "p10\n",
            "p10\n",
            "p10\n",
            "p10\n",
            "p10\n",
            "p10\n",
            "p06\n",
            "p06\n",
            "p06\n",
            "p06\n",
            "p06\n",
            "p06\n",
            "p06\n",
            "p06\n",
            "p06\n",
            "p06\n",
            "p06\n",
            "p06\n",
            "p08\n",
            "p08\n",
            "p08\n",
            "p08\n",
            "p08\n",
            "p08\n",
            "p08\n",
            "p04\n",
            "p04\n",
            "p04\n",
            "p04\n",
            "p04\n",
            "p01,p02\n",
            "p01,p02\n",
            "p01,p02\n",
            "p01,p02\n",
            "p01,p02\n",
            "p01,p02\n",
            "p01,p02\n",
            "p01,p02\n",
            "p01,p02\n",
            "p01,p02\n",
            "p01,p02\n",
            "p03\n",
            "p03\n",
            "p03\n",
            "p07\n",
            "p07\n",
            "p05\n",
            "p05\n",
            "p05\n",
            "p05\n",
            "p05\n",
            "p05\n",
            "p05\n",
            "p05\n",
            "p05\n",
            "p05\n",
            "p05\n",
            "p05\n",
            "p05\n",
            "p05\n",
            "p09\n",
            "p09\n",
            "p09\n",
            "p09\n",
            "p09\n",
            "p09\n",
            "p09\n",
            "p09\n",
            "p09\n",
            "p09\n",
            "p09\n",
            "p09\n",
            "p09\n",
            "p09\n",
            "p11\n",
            "p11\n",
            "p11\n",
            "p11\n",
            "p11\n",
            "p11\n",
            "p11\n",
            "p11\n"
          ]
        }
      ]
    },
    {
      "cell_type": "code",
      "source": [],
      "metadata": {
        "id": "rTtopkDg8KK1"
      },
      "execution_count": null,
      "outputs": []
    }
  ]
}